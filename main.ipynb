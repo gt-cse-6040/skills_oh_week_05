{
  "cells": [
    {
      "cell_type": "markdown",
      "metadata": {
        "id": "view-in-github",
        "colab_type": "text"
      },
      "source": [
        "<a href=\"https://colab.research.google.com/github/gt-cse-6040/skills_oh_week_05/blob/main/main.ipynb\" target=\"_parent\"><img src=\"https://colab.research.google.com/assets/colab-badge.svg\" alt=\"Open In Colab\"/></a>"
      ]
    },
    {
      "cell_type": "code",
      "source": [
        "!wget -q https://raw.githubusercontent.com/gt-cse-6040/skills_oh_week_05/main/setup.sh\n",
        "!sh setup.sh > /dev/null 2>&1\n",
        "!rm setup.sh"
      ],
      "metadata": {
        "id": "Nz7I2-5RLwQc"
      },
      "id": "Nz7I2-5RLwQc",
      "execution_count": null,
      "outputs": []
    },
    {
      "cell_type": "markdown",
      "metadata": {
        "nbgrader": {
          "grade": false,
          "locked": true,
          "solution": false
        },
        "tags": [
          "notebook_header"
        ],
        "id": "B-9DLH6bA9j2"
      },
      "source": [
        "# Debugging midterm problems\n",
        "\n",
        "Below are several exercises from Midterm 1 (Fall 2022) with **incorrect** solutions. The general topic of the exam is dealing with data from the Reddit API. Skills covered are processing nested data, string manipulation, and implementing basic logic in Python."
      ],
      "id": "B-9DLH6bA9j2"
    },
    {
      "cell_type": "markdown",
      "source": [
        "## Global imports and initial data load\n",
        "This isn't key to debugging but it is necessary to run the rest of the code in the notebook."
      ],
      "metadata": {
        "id": "1d-un32fPMRr"
      },
      "id": "1d-un32fPMRr"
    },
    {
      "cell_type": "code",
      "execution_count": null,
      "metadata": {
        "collapsed": true,
        "nbgrader": {
          "grade": false,
          "locked": true,
          "solution": false
        },
        "tags": [
          "global_imports"
        ],
        "id": "Mf_seWTsA9j7"
      },
      "outputs": [],
      "source": [
        "### Global Imports\n",
        "import json\n",
        "import re\n",
        "from collections import defaultdict\n",
        "with open('resource/asnlib/publicdata/learnpython_top_800_all.json') as f:\n",
        "    raw_reddit_data = json.load(f)\n",
        "with open('resource/asnlib/publicdata/stopwords.json') as f:\n",
        "    stopwords = set([s.replace(\"'\", \"\") for s in json.load(f)])"
      ],
      "id": "Mf_seWTsA9j7"
    },
    {
      "cell_type": "markdown",
      "metadata": {
        "nbgrader": {
          "grade": false,
          "locked": true,
          "solution": false
        },
        "tags": [
          "exercise_text"
        ],
        "id": "mrOMS9UkA9j_"
      },
      "source": [
        "## Exercise 1 - (**2** Points): \n",
        "\n",
        "**Requirements**\n",
        "\n",
        "Define the function `analyze_structure(some_object)`. The input `some_object` will either be a `list` or a `dict`. \n",
        "\n",
        "- For a `list` input the function should return a `dict` with the following keys: `{'type', 'len', `**`'value_type'}`**. \n",
        "\n",
        "- For a `dict` input the function should return a `dict` with the following keys: `{'type', 'keys', `**`'value_types'}`**.\n",
        "\n",
        "See the charts below for more information on the key/value pairs:\n",
        "\n",
        "**If the input is a `list`** your result should have these key/value pairs.\n",
        "\n",
        "|key|value|type of value|examples (comma separated)|  \n",
        "|---|---|---|---|  \n",
        "|\"type\"|\"list\"|`str`|The string `\"list\"` is the only acceptable value|  \n",
        "|\"len\"|length of `some_object`|`int`|`1`, `4`, `500`|  \n",
        "|\"value_type\"|The type of the first element of `some_object` (cast to a `str`)|`str`|`\"<class 'str'>\"`, `\"<class 'dict'>\"`|  \n",
        "\n",
        "**If the input is a `dict`** your result should have these key/value pairs.\n",
        "\n",
        "|key|value|type of value|examples (comma separated)|  \n",
        "|---|---|---|---|  \n",
        "|\"type\"|\"dict\"|`str`|The string `\"dict\"` is the only acceptable value|  \n",
        "|\"keys\"|set of `some_object`'s keys|`set`|`{'data', 'kind'}`|  \n",
        "|\"value_types\"|`dict` mapping each of `some_object`'s keys to the type (cast to `str`) of the value associated with it.|`dict` mapping `str` keys to `str` values|`{'kind': \"<class 'str'>\", 'data': \"<class 'dict'>\"}`|  \n",
        "\n",
        "** Note:** Don't forget to cast the `'value_type'` for `list`s and values of `'value_types'` for `dict`s  to strings!   \n",
        "\n",
        "**Note:** You can use `str(type(x))` to cast the `type` of `x` to a `str`."
      ],
      "id": "mrOMS9UkA9j_"
    },
    {
      "cell_type": "markdown",
      "metadata": {
        "nbgrader": {
          "grade": false,
          "locked": true,
          "solution": false
        },
        "tags": [
          "demo_output_md"
        ],
        "id": "QlShvhuTA9kA"
      },
      "source": [
        "<!-- Expected demo output text block -->\n",
        "The demo included in the solution cell below should display the following output:\n",
        "```\n",
        "{'type': 'list', 'len': 8, 'value_type': \"<class 'dict'>\"}\n",
        "\n",
        "{'type': 'dict', 'keys': {'kind', 'data'}, 'value_types': {'kind': \"<class 'str'>\", 'data': \"<class 'dict'>\"}}\n",
        "\n",
        "{'type': 'dict', 'keys': {'geo_filter', 'before', 'modhash', 'after', 'dist', 'children'}, 'value_types': {'after': \"<class 'str'>\", 'dist': \"<class 'int'>\", 'modhash': \"<class 'str'>\", 'geo_filter': \"<class 'str'>\", 'children': \"<class 'list'>\", 'before': \"<class 'NoneType'>\"}}\n",
        "\n",
        "{'type': 'list', 'len': 100, 'value_type': \"<class 'dict'>\"}\n",
        "\n",
        "{'type': 'dict', 'keys': {'kind', 'data'}, 'value_types': {'kind': \"<class 'str'>\", 'data': \"<class 'dict'>\"}}\n",
        "```\n",
        "<!-- Include any shout outs here -->\n",
        "\n",
        "**Note** this demo will run your solution **5** times, diving level by level into the raw data. Each individual run's output is separated by a blank line."
      ],
      "id": "QlShvhuTA9kA"
    },
    {
      "cell_type": "code",
      "execution_count": null,
      "metadata": {
        "tags": [
          "exercise_solution"
        ],
        "id": "sdLITjPtA9kB",
        "outputId": "7c82e5cf-30a3-493f-db1e-a85ee00d5298",
        "colab": {
          "base_uri": "https://localhost:8080/"
        }
      },
      "outputs": [
        {
          "output_type": "stream",
          "name": "stdout",
          "text": [
            "{'type': 'list', 'len': 8, 'value_type': \"<class 'dict'>\"}\n",
            "\n",
            "{'type': 'dict', 'keys': {'data', 'kind'}, 'value_type': {'kind': \"<class 'str'>\", 'data': \"<class 'dict'>\"}}\n",
            "\n",
            "{'type': 'dict', 'keys': {'before', 'geo_filter', 'dist', 'after', 'children', 'modhash'}, 'value_type': {'after': \"<class 'str'>\", 'dist': \"<class 'int'>\", 'modhash': \"<class 'str'>\", 'geo_filter': \"<class 'str'>\", 'children': \"<class 'list'>\", 'before': \"<class 'NoneType'>\"}}\n",
            "\n",
            "{'type': 'list', 'len': 100, 'value_type': \"<class 'dict'>\"}\n",
            "\n",
            "{'type': 'dict', 'keys': {'data', 'kind'}, 'value_type': {'kind': \"<class 'str'>\", 'data': \"<class 'dict'>\"}}\n"
          ]
        }
      ],
      "source": [
        "### Exercise 1 solution\n",
        "def analyze_structure(some_object):\n",
        "    assert isinstance(some_object, (list, dict)), f'argument must be `list` or `dict`, {type(some_object)} was given.'\n",
        "    if isinstance(some_object, list):\n",
        "        # Handle the `list` case\n",
        "        return {'type': 'list',\n",
        "                'len': len(some_object),\n",
        "                'value_type': str(type(some_object[0]))}\n",
        "    elif isinstance(some_object, dict):\n",
        "        # Handle the `dict` case\n",
        "        return {'type': 'dict',\n",
        "                'keys': set(some_object.keys()),\n",
        "                'value_type': {k: str(type(v)) for k, v in some_object.items()}}\n",
        "    \n",
        "### demo function calls\n",
        "print(analyze_structure(raw_reddit_data))\n",
        "print()\n",
        "print(analyze_structure(raw_reddit_data[0]))\n",
        "print()\n",
        "print(analyze_structure(raw_reddit_data[0]['data']))\n",
        "print()\n",
        "print(analyze_structure(raw_reddit_data[0]['data']['children']))\n",
        "print()\n",
        "print(analyze_structure(raw_reddit_data[0]['data']['children'][0]))"
      ],
      "id": "sdLITjPtA9kB"
    },
    {
      "cell_type": "markdown",
      "metadata": {
        "nbgrader": {
          "grade": false,
          "locked": true,
          "solution": false
        },
        "tags": [
          "test_data_boilerplate"
        ],
        "id": "iAy3-UxGA9kB"
      },
      "source": [
        "<!-- Test Cell Boilerplate -->\n",
        "The cell below will test your solution for Exercise 1. The testing variables will be available for debugging under the following names in a dictionary format.\n",
        "- `input_vars` - Input variables for your solution. \n",
        "- `original_input_vars` - Copy of input variables from prior to running your solution. These _should_ be the same as `input_vars` - otherwise the inputs were modified by your solution.\n",
        "- `returned_output_vars` - Outputs returned by your solution.\n",
        "- `true_output_vars` - The expected output. This _should_ \"match\" `returned_output_vars` based on the question requirements - otherwise, your solution is not returning the correct output. "
      ],
      "id": "iAy3-UxGA9kB"
    },
    {
      "cell_type": "code",
      "execution_count": null,
      "metadata": {
        "nbgrader": {
          "grade": true,
          "grade_id": "ex1",
          "locked": true,
          "points": "2",
          "solution": false
        },
        "tags": [],
        "id": "VM4KmiGeA9kC",
        "outputId": "a56afe2b-5dd0-4e92-ca07-870c42e00400",
        "colab": {
          "base_uri": "https://localhost:8080/",
          "height": 556
        }
      },
      "outputs": [
        {
          "output_type": "stream",
          "name": "stdout",
          "text": [
            "5e3f0d781ba1b93fcce1788f8448f8ec\n",
            "5e3f0d781ba1b93fcce1788f8448f8ec\n",
            "52243648c34549fa35bbbdf59ae56057\n",
            "52243648c34549fa35bbbdf59ae56057\n",
            "ed83b476ee8f414c417022217cf79354\n",
            "ed83b476ee8f414c417022217cf79354\n"
          ]
        },
        {
          "output_type": "error",
          "ename": "AssertionError",
          "evalue": "ignored",
          "traceback": [
            "\u001b[0;31m---------------------------------------------------------------------------\u001b[0m",
            "\u001b[0;31mAssertionError\u001b[0m                            Traceback (most recent call last)",
            "\u001b[0;32m<ipython-input-68-eac818fa4b0e>\u001b[0m in \u001b[0;36m<module>\u001b[0;34m\u001b[0m\n\u001b[1;32m     38\u001b[0m \u001b[0;32mfor\u001b[0m \u001b[0m_\u001b[0m \u001b[0;32min\u001b[0m \u001b[0mrange\u001b[0m\u001b[0;34m(\u001b[0m\u001b[0;36m20\u001b[0m\u001b[0;34m)\u001b[0m\u001b[0;34m:\u001b[0m\u001b[0;34m\u001b[0m\u001b[0;34m\u001b[0m\u001b[0m\n\u001b[1;32m     39\u001b[0m     \u001b[0;32mtry\u001b[0m\u001b[0;34m:\u001b[0m\u001b[0;34m\u001b[0m\u001b[0;34m\u001b[0m\u001b[0m\n\u001b[0;32m---> 40\u001b[0;31m         \u001b[0mtester\u001b[0m\u001b[0;34m.\u001b[0m\u001b[0mrun_test\u001b[0m\u001b[0;34m(\u001b[0m\u001b[0;34m)\u001b[0m\u001b[0;34m\u001b[0m\u001b[0;34m\u001b[0m\u001b[0m\n\u001b[0m\u001b[1;32m     41\u001b[0m         \u001b[0;34m(\u001b[0m\u001b[0minput_vars\u001b[0m\u001b[0;34m,\u001b[0m \u001b[0moriginal_input_vars\u001b[0m\u001b[0;34m,\u001b[0m \u001b[0mreturned_output_vars\u001b[0m\u001b[0;34m,\u001b[0m \u001b[0mtrue_output_vars\u001b[0m\u001b[0;34m)\u001b[0m \u001b[0;34m=\u001b[0m \u001b[0mtester\u001b[0m\u001b[0;34m.\u001b[0m\u001b[0mget_test_vars\u001b[0m\u001b[0;34m(\u001b[0m\u001b[0;34m)\u001b[0m\u001b[0;34m\u001b[0m\u001b[0;34m\u001b[0m\u001b[0m\n\u001b[1;32m     42\u001b[0m     \u001b[0;32mexcept\u001b[0m\u001b[0;34m:\u001b[0m\u001b[0;34m\u001b[0m\u001b[0;34m\u001b[0m\u001b[0m\n",
            "\u001b[0;32m/content/tester_fw/testers.py\u001b[0m in \u001b[0;36mrun_test\u001b[0;34m(self, func)\u001b[0m\n\u001b[1;32m     36\u001b[0m \u001b[0;34m\u001b[0m\u001b[0m\n\u001b[1;32m     37\u001b[0m     \u001b[0;32mdef\u001b[0m \u001b[0mrun_test\u001b[0m\u001b[0;34m(\u001b[0m\u001b[0mself\u001b[0m\u001b[0;34m,\u001b[0m \u001b[0mfunc\u001b[0m\u001b[0;34m=\u001b[0m\u001b[0;32mNone\u001b[0m\u001b[0;34m)\u001b[0m\u001b[0;34m:\u001b[0m\u001b[0;34m\u001b[0m\u001b[0;34m\u001b[0m\u001b[0m\n\u001b[0;32m---> 38\u001b[0;31m         \u001b[0;32mreturn\u001b[0m \u001b[0msuper\u001b[0m\u001b[0;34m(\u001b[0m\u001b[0;34m)\u001b[0m\u001b[0;34m.\u001b[0m\u001b[0mrun_test\u001b[0m\u001b[0;34m(\u001b[0m\u001b[0mself\u001b[0m\u001b[0;34m.\u001b[0m\u001b[0mfunc\u001b[0m\u001b[0;34m)\u001b[0m\u001b[0;34m\u001b[0m\u001b[0;34m\u001b[0m\u001b[0m\n\u001b[0m\u001b[1;32m     39\u001b[0m \u001b[0;34m\u001b[0m\u001b[0m\n\u001b[1;32m     40\u001b[0m     \u001b[0;32mdef\u001b[0m \u001b[0mbuild_vars\u001b[0m\u001b[0;34m(\u001b[0m\u001b[0mself\u001b[0m\u001b[0;34m)\u001b[0m\u001b[0;34m:\u001b[0m\u001b[0;34m\u001b[0m\u001b[0;34m\u001b[0m\u001b[0m\n",
            "\u001b[0;32m/content/tester_fw/__init__.py\u001b[0m in \u001b[0;36mrun_test\u001b[0;34m(self, func)\u001b[0m\n\u001b[1;32m     43\u001b[0m             \u001b[0mself\u001b[0m\u001b[0;34m.\u001b[0m\u001b[0mcheck_modified\u001b[0m\u001b[0;34m(\u001b[0m\u001b[0;34m)\u001b[0m    \u001b[0;31m# Check to verify inputs were not modified\u001b[0m\u001b[0;34m\u001b[0m\u001b[0;34m\u001b[0m\u001b[0m\n\u001b[1;32m     44\u001b[0m         \u001b[0mself\u001b[0m\u001b[0;34m.\u001b[0m\u001b[0mcheck_type\u001b[0m\u001b[0;34m(\u001b[0m\u001b[0;34m)\u001b[0m        \u001b[0;31m# Check to verify correct output types\u001b[0m\u001b[0;34m\u001b[0m\u001b[0;34m\u001b[0m\u001b[0m\n\u001b[0;32m---> 45\u001b[0;31m         \u001b[0mself\u001b[0m\u001b[0;34m.\u001b[0m\u001b[0mcheck_matches\u001b[0m\u001b[0;34m(\u001b[0m\u001b[0;34m)\u001b[0m     \u001b[0;31m# Check to verify correct output\u001b[0m\u001b[0;34m\u001b[0m\u001b[0;34m\u001b[0m\u001b[0m\n\u001b[0m\u001b[1;32m     46\u001b[0m \u001b[0;34m\u001b[0m\u001b[0m\n\u001b[1;32m     47\u001b[0m \u001b[0;34m\u001b[0m\u001b[0m\n",
            "\u001b[0;32m/content/tester_fw/testers.py\u001b[0m in \u001b[0;36mcheck_matches\u001b[0;34m(self)\u001b[0m\n\u001b[1;32m     77\u001b[0m         \u001b[0;32mfor\u001b[0m \u001b[0mout_key\u001b[0m\u001b[0;34m,\u001b[0m \u001b[0mout_dict\u001b[0m \u001b[0;32min\u001b[0m \u001b[0mself\u001b[0m\u001b[0;34m.\u001b[0m\u001b[0mconf_outputs\u001b[0m\u001b[0;34m.\u001b[0m\u001b[0mitems\u001b[0m\u001b[0;34m(\u001b[0m\u001b[0;34m)\u001b[0m\u001b[0;34m:\u001b[0m\u001b[0;34m\u001b[0m\u001b[0;34m\u001b[0m\u001b[0m\n\u001b[1;32m     78\u001b[0m             \u001b[0mtest_var\u001b[0m \u001b[0;34m=\u001b[0m \u001b[0mself\u001b[0m\u001b[0;34m.\u001b[0m\u001b[0mreturned_output_vars\u001b[0m\u001b[0;34m[\u001b[0m\u001b[0mout_key\u001b[0m\u001b[0;34m]\u001b[0m\u001b[0;34m\u001b[0m\u001b[0;34m\u001b[0m\u001b[0m\n\u001b[0;32m---> 79\u001b[0;31m             assert test_utils.compare_copies(a=test_var,\n\u001b[0m\u001b[1;32m     80\u001b[0m                                             \u001b[0mb\u001b[0m\u001b[0;34m=\u001b[0m\u001b[0mself\u001b[0m\u001b[0;34m.\u001b[0m\u001b[0mtrue_output_vars\u001b[0m\u001b[0;34m[\u001b[0m\u001b[0mout_key\u001b[0m\u001b[0;34m]\u001b[0m\u001b[0;34m,\u001b[0m\u001b[0;34m\u001b[0m\u001b[0;34m\u001b[0m\u001b[0m\n\u001b[1;32m     81\u001b[0m                                             \u001b[0mtol\u001b[0m\u001b[0;34m=\u001b[0m\u001b[0mout_dict\u001b[0m\u001b[0;34m[\u001b[0m\u001b[0;34m'float_tolerance'\u001b[0m\u001b[0;34m]\u001b[0m\u001b[0;34m,\u001b[0m\u001b[0;34m\u001b[0m\u001b[0;34m\u001b[0m\u001b[0m\n",
            "\u001b[0;31mAssertionError\u001b[0m: \nOutput for output_0 is incorrect.\nThe returned result is available as `returned_output_vars['output_0']`\nThe expected result is available as `true_output_vars['output_0']`\n            "
          ]
        }
      ],
      "source": [
        "### test_cell_ex1\n",
        "### BEGIN HIDDEN TESTS\n",
        "import dill\n",
        "import hashlib\n",
        "with open('resource/asnlib/public/hash_check.pkl', 'rb') as f:\n",
        "    hash_check = dill.load(f)\n",
        "for fname in ['testers.py', '__init__.py', 'test_utils.py']:\n",
        "    hash_check(f'tester_fw/{fname}', f'resource/asnlib/public/{fname}')\n",
        "del hash_check\n",
        "del dill\n",
        "del hashlib\n",
        "### END HIDDEN TESTS\n",
        "from tester_fw.testers import Tester\n",
        "\n",
        "conf = {\n",
        "    'case_file':'tc_1', \n",
        "    'func': analyze_structure, # replace this with the function defined above\n",
        "    'inputs':{ # input config dict. keys are parameter names\n",
        "        'some_object':{\n",
        "            'dtype':'dict', # data type of param.\n",
        "            'check_modified':True,\n",
        "        }\n",
        "    },\n",
        "    'outputs':{\n",
        "        'output_0':{\n",
        "            'index':0,\n",
        "            'dtype':'dict',\n",
        "            'check_dtype': True,\n",
        "            'check_col_dtypes': True, # Ignored if dtype is not df\n",
        "            'check_col_order': True, # Ignored if dtype is not df\n",
        "            'check_row_order': True, # Ignored if dtype is not df\n",
        "            'check_column_type': True, # Ignored if dtype is not df\n",
        "            'float_tolerance': 10 ** (-6)\n",
        "        }\n",
        "    }\n",
        "}\n",
        "tester = Tester(conf, key=b'S90rT5WLPFy08a82F6SXyiKoyeTi33DOHh7bxXASQw0=', path='resource/asnlib/publicdata/')\n",
        "for _ in range(20):\n",
        "    try:\n",
        "        tester.run_test()\n",
        "        (input_vars, original_input_vars, returned_output_vars, true_output_vars) = tester.get_test_vars()\n",
        "    except:\n",
        "        (input_vars, original_input_vars, returned_output_vars, true_output_vars) = tester.get_test_vars()\n",
        "        raise\n",
        "\n",
        "### BEGIN HIDDEN TESTS\n",
        "tester = Tester(conf, key=b'bE_KdJGq_bhBuoTZRi37O7tu3s38ac4bJUsgUEXnK8s=', path='resource/asnlib/publicdata/encrypted/')\n",
        "for _ in range(20):\n",
        "    try:\n",
        "        tester.run_test()\n",
        "        (input_vars, original_input_vars, returned_output_vars, true_output_vars) = tester.get_test_vars()\n",
        "    except:\n",
        "        (input_vars, original_input_vars, returned_output_vars, true_output_vars) = tester.get_test_vars()\n",
        "        raise\n",
        "### END HIDDEN TESTS\n",
        "print('Passed! Please submit.')"
      ],
      "id": "VM4KmiGeA9kC"
    },
    {
      "cell_type": "markdown",
      "source": [
        "We have an assertion error telling us that our output is incorrect. Let's drill down and see exactly where..."
      ],
      "metadata": {
        "id": "LllwaK0URz4K"
      },
      "id": "LllwaK0URz4K"
    },
    {
      "cell_type": "code",
      "source": [
        "returned_output_vars['output_0'] == true_output_vars['output_0']"
      ],
      "metadata": {
        "id": "b3F3kmfdQ0ZV",
        "outputId": "341c668d-eb34-4c57-f1e4-0b1d6d76337d",
        "colab": {
          "base_uri": "https://localhost:8080/"
        }
      },
      "id": "b3F3kmfdQ0ZV",
      "execution_count": null,
      "outputs": [
        {
          "output_type": "execute_result",
          "data": {
            "text/plain": [
              "False"
            ]
          },
          "metadata": {},
          "execution_count": 69
        }
      ]
    },
    {
      "cell_type": "markdown",
      "source": [
        "We see again using the test case variables that the output isn't matching. Next, let's see if the returned type is the same as the expected type..."
      ],
      "metadata": {
        "id": "ch368cI5SB75"
      },
      "id": "ch368cI5SB75"
    },
    {
      "cell_type": "code",
      "source": [
        "isinstance(returned_output_vars['output_0'], type(true_output_vars['output_0']))"
      ],
      "metadata": {
        "id": "9raaIDQlQ8kF",
        "outputId": "48257f5a-2e6e-41ce-b693-d4542d1fd810",
        "colab": {
          "base_uri": "https://localhost:8080/"
        }
      },
      "id": "9raaIDQlQ8kF",
      "execution_count": null,
      "outputs": [
        {
          "output_type": "execute_result",
          "data": {
            "text/plain": [
              "True"
            ]
          },
          "metadata": {},
          "execution_count": 70
        }
      ]
    },
    {
      "cell_type": "markdown",
      "source": [
        "The types match, so our solution isn't completely off. The next step is to see what type we're dealing with. This will dictate how we continue our debugging efforts!"
      ],
      "metadata": {
        "id": "sELSnt_fSR5g"
      },
      "id": "sELSnt_fSR5g"
    },
    {
      "cell_type": "code",
      "source": [
        "type(true_output_vars['output_0'])"
      ],
      "metadata": {
        "id": "h0oXBcPRRQDN",
        "outputId": "edbc90c2-61da-448e-bdc0-ae491739e9b0",
        "colab": {
          "base_uri": "https://localhost:8080/"
        }
      },
      "id": "h0oXBcPRRQDN",
      "execution_count": null,
      "outputs": [
        {
          "output_type": "execute_result",
          "data": {
            "text/plain": [
              "dict"
            ]
          },
          "metadata": {},
          "execution_count": 71
        }
      ]
    },
    {
      "cell_type": "markdown",
      "source": [
        "We're dealing with dictionaries. When dealing with dictionaries, the first thing to check is whether the keys are the same..."
      ],
      "metadata": {
        "id": "_zihL85_Sfh5"
      },
      "id": "_zihL85_Sfh5"
    },
    {
      "cell_type": "code",
      "source": [
        "returned_output_vars['output_0'].keys() == true_output_vars['output_0'].keys()"
      ],
      "metadata": {
        "id": "suNkiB-4RUTo",
        "outputId": "4dbe3e8e-a268-4dc0-f8ec-e15499d34996",
        "colab": {
          "base_uri": "https://localhost:8080/"
        }
      },
      "id": "suNkiB-4RUTo",
      "execution_count": null,
      "outputs": [
        {
          "output_type": "execute_result",
          "data": {
            "text/plain": [
              "False"
            ]
          },
          "metadata": {},
          "execution_count": 72
        }
      ]
    },
    {
      "cell_type": "markdown",
      "source": [
        "The keys aren't the same. Let's see if there are any keys in the returned result that aren't expected..."
      ],
      "metadata": {
        "id": "Dufq0rlJSpiR"
      },
      "id": "Dufq0rlJSpiR"
    },
    {
      "cell_type": "code",
      "source": [
        "returned_output_vars['output_0'].keys() - true_output_vars['output_0'].keys()"
      ],
      "metadata": {
        "id": "uQ0ykU0jRe8C",
        "outputId": "53ec2204-17b4-4b10-ef37-ed5e6a9744aa",
        "colab": {
          "base_uri": "https://localhost:8080/"
        }
      },
      "id": "uQ0ykU0jRe8C",
      "execution_count": null,
      "outputs": [
        {
          "output_type": "execute_result",
          "data": {
            "text/plain": [
              "{'value_type'}"
            ]
          },
          "metadata": {},
          "execution_count": 73
        }
      ]
    },
    {
      "cell_type": "markdown",
      "source": [
        "The key 'value_type' is in our returned output but not in the true output. Let's do the reverse and see if there are any expected keys which are not in our returned output..."
      ],
      "metadata": {
        "id": "ZJHjrXI5TEZ-"
      },
      "id": "ZJHjrXI5TEZ-"
    },
    {
      "cell_type": "code",
      "source": [
        "true_output_vars['output_0'].keys() - returned_output_vars['output_0'].keys()"
      ],
      "metadata": {
        "id": "ODA7aU3URlJs",
        "outputId": "1df68edd-8204-4e46-a46b-c2dba3b85a60",
        "colab": {
          "base_uri": "https://localhost:8080/"
        }
      },
      "id": "ODA7aU3URlJs",
      "execution_count": null,
      "outputs": [
        {
          "output_type": "execute_result",
          "data": {
            "text/plain": [
              "{'value_types'}"
            ]
          },
          "metadata": {},
          "execution_count": 74
        }
      ]
    },
    {
      "cell_type": "markdown",
      "source": [
        "The key 'value_types' (notice it's plural) appears in the expected output but not our returned output. Combined with 'value_type' (singular) appearing in the returned output, we can conclude that we forgot an 's' in that key. Seems like we found the problem...\n",
        "\n",
        "**Not so fast!**\n",
        "\n",
        "Our solution uses branching logic. We do one thing if the input `some_object` is a `dict` and another thing if it's a `list`. To know where to look in our solution we have to know some more about the `some_object`."
      ],
      "metadata": {
        "id": "rcqBjPnhTVI0"
      },
      "id": "rcqBjPnhTVI0"
    },
    {
      "cell_type": "code",
      "source": [
        "type(original_input_vars['some_object'])"
      ],
      "metadata": {
        "id": "Gy4SkeDIXTl3",
        "outputId": "78df5536-4605-4abe-e0bc-01bc6f046f50",
        "colab": {
          "base_uri": "https://localhost:8080/"
        }
      },
      "id": "Gy4SkeDIXTl3",
      "execution_count": null,
      "outputs": [
        {
          "output_type": "execute_result",
          "data": {
            "text/plain": [
              "dict"
            ]
          },
          "metadata": {},
          "execution_count": 75
        }
      ]
    },
    {
      "cell_type": "markdown",
      "source": [
        "We're dealing with a `dict` input, so we need to find where we are setting the 'value_type' key and change that to 'value_types'"
      ],
      "metadata": {
        "id": "pe2kEw9hYC48"
      },
      "id": "pe2kEw9hYC48"
    },
    {
      "cell_type": "markdown",
      "metadata": {
        "nbgrader": {
          "grade": false,
          "locked": true,
          "solution": false
        },
        "tags": [
          "exercise_text"
        ],
        "id": "vywgIwXEA9kC"
      },
      "source": [
        "## Exercise 2 - (**1** Points): \n",
        "**Motivation (don't dwell on this)**\n",
        "\n",
        "In order to maintain server performance and keep response sizes reasonable, the Reddit API paginates results (i.e. it only gives back a slice of the full result). `raw_reddit_data` is actually a `list` of those slices (each slice is a `dict`). Based on the analysis we were able to do with `analyze_structure` in the previous exercise, we can tell that `raw_reddit_data[i]['data']['children']` contains a `list` of all the post data from \"page\" `i`. We need to combine all of these `lists` into a single `list` to remove some unnecessary complexity from later analysis tasks.\n",
        "\n",
        "**Requirements**\n",
        "\n",
        "Define the function `combine_children(raw_reddit_data)`. \n",
        "\n",
        "The input `raw_reddit_data` is a `list` of `dict`s such that for any `i` between `0` and `len(raw_reddit_data) - 1`, there will exist a **`list`** `raw_reddit_data[i]['data']['children']`. \n",
        "\n",
        "The output should be a *single new* `list` which contains all of the elements of each \"children\" list *with the order preserved*."
      ],
      "id": "vywgIwXEA9kC"
    },
    {
      "cell_type": "code",
      "execution_count": null,
      "metadata": {
        "collapsed": true,
        "nbgrader": {
          "grade": false,
          "locked": true,
          "solution": false
        },
        "tags": [
          "demo_data"
        ],
        "id": "KEcf4ctoA9kD"
      },
      "outputs": [],
      "source": [
        "### Define demo inputs\n",
        "\n",
        "# child_i_j indicates the j-th element in \"list of children\" i\n",
        "demo_raw_reddit_data_ex2 = [\n",
        "    {'data':{'children':['child_0_0', 'child_0_1']}},\n",
        "    {'data':{'children':['child_1_0', 'child_1_1']}},\n",
        "    {'data':{'children':['child_2_0', 'child_2_1']}}\n",
        "]"
      ],
      "id": "KEcf4ctoA9kD"
    },
    {
      "cell_type": "markdown",
      "metadata": {
        "nbgrader": {
          "grade": false,
          "locked": true,
          "solution": false
        },
        "tags": [
          "demo_output_md"
        ],
        "id": "6n267RMJA9kD"
      },
      "source": [
        "<!-- Expected demo output text block -->\n",
        "The demo included in the solution cell below should display the following output:\n",
        "```\n",
        "['child_0_0', 'child_0_1', 'child_1_0', 'child_1_1', 'child_2_0', 'child_2_1']\n",
        "```\n",
        "<!-- Include any shout outs here -->\n",
        "**Note** - the \"lists of children\" in this example are *greatly simplified* to illustrate the top-level structure of `raw_reddit_data`, the output structure, and the ordering requirement."
      ],
      "id": "6n267RMJA9kD"
    },
    {
      "cell_type": "code",
      "execution_count": null,
      "metadata": {
        "tags": [
          "exercise_solution"
        ],
        "id": "_XYqYcQnA9kE",
        "outputId": "12168404-a847-40f6-aa9f-459b2b5fb89d",
        "colab": {
          "base_uri": "https://localhost:8080/"
        }
      },
      "outputs": [
        {
          "output_type": "execute_result",
          "data": {
            "text/plain": [
              "['child_0_0', 'child_0_1', 'child_1_0', 'child_1_1', 'child_2_0', 'child_2_1']"
            ]
          },
          "metadata": {},
          "execution_count": 77
        }
      ],
      "source": [
        "### Exercise 2 solution\n",
        "def combine_child_data(raw_reddit_data):\n",
        "    ### BEGIN SOLUTION\n",
        "    rv = raw_reddit_data[0]['data']['children']\n",
        "    for page in raw_reddit_data[1:]:\n",
        "        rv += page['data']['children']\n",
        "    return rv\n",
        "    ### END SOLUTION\n",
        "    \n",
        "### demo function call\n",
        "combine_child_data(demo_raw_reddit_data_ex2)"
      ],
      "id": "_XYqYcQnA9kE"
    },
    {
      "cell_type": "markdown",
      "metadata": {
        "nbgrader": {
          "grade": false,
          "locked": true,
          "solution": false
        },
        "tags": [
          "test_data_boilerplate"
        ],
        "id": "QoQ5yzNdA9kE"
      },
      "source": [
        "<!-- Test Cell Boilerplate -->\n",
        "The cell below will test your solution for Exercise 2. The testing variables will be available for debugging under the following names in a dictionary format.\n",
        "- `input_vars` - Input variables for your solution. \n",
        "- `original_input_vars` - Copy of input variables from prior to running your solution. These _should_ be the same as `input_vars` - otherwise the inputs were modified by your solution.\n",
        "- `returned_output_vars` - Outputs returned by your solution.\n",
        "- `true_output_vars` - The expected output. This _should_ \"match\" `returned_output_vars` based on the question requirements - otherwise, your solution is not returning the correct output. "
      ],
      "id": "QoQ5yzNdA9kE"
    },
    {
      "cell_type": "code",
      "execution_count": null,
      "metadata": {
        "nbgrader": {
          "grade": true,
          "grade_id": "ex2",
          "locked": true,
          "points": "1",
          "solution": false
        },
        "tags": [],
        "id": "bA5cSSxpA9kF",
        "outputId": "93d061c3-4271-47cd-856e-df280e95df6b",
        "colab": {
          "base_uri": "https://localhost:8080/",
          "height": 503
        }
      },
      "outputs": [
        {
          "output_type": "stream",
          "name": "stdout",
          "text": [
            "5e3f0d781ba1b93fcce1788f8448f8ec\n",
            "5e3f0d781ba1b93fcce1788f8448f8ec\n",
            "52243648c34549fa35bbbdf59ae56057\n",
            "52243648c34549fa35bbbdf59ae56057\n",
            "ed83b476ee8f414c417022217cf79354\n",
            "ed83b476ee8f414c417022217cf79354\n"
          ]
        },
        {
          "output_type": "error",
          "ename": "AssertionError",
          "evalue": "ignored",
          "traceback": [
            "\u001b[0;31m---------------------------------------------------------------------------\u001b[0m",
            "\u001b[0;31mAssertionError\u001b[0m                            Traceback (most recent call last)",
            "\u001b[0;32m<ipython-input-78-4bab0cfc16bb>\u001b[0m in \u001b[0;36m<module>\u001b[0;34m\u001b[0m\n\u001b[1;32m     38\u001b[0m \u001b[0;32mfor\u001b[0m \u001b[0m_\u001b[0m \u001b[0;32min\u001b[0m \u001b[0mrange\u001b[0m\u001b[0;34m(\u001b[0m\u001b[0;36m20\u001b[0m\u001b[0;34m)\u001b[0m\u001b[0;34m:\u001b[0m\u001b[0;34m\u001b[0m\u001b[0;34m\u001b[0m\u001b[0m\n\u001b[1;32m     39\u001b[0m     \u001b[0;32mtry\u001b[0m\u001b[0;34m:\u001b[0m\u001b[0;34m\u001b[0m\u001b[0;34m\u001b[0m\u001b[0m\n\u001b[0;32m---> 40\u001b[0;31m         \u001b[0mtester\u001b[0m\u001b[0;34m.\u001b[0m\u001b[0mrun_test\u001b[0m\u001b[0;34m(\u001b[0m\u001b[0;34m)\u001b[0m\u001b[0;34m\u001b[0m\u001b[0;34m\u001b[0m\u001b[0m\n\u001b[0m\u001b[1;32m     41\u001b[0m         \u001b[0;34m(\u001b[0m\u001b[0minput_vars\u001b[0m\u001b[0;34m,\u001b[0m \u001b[0moriginal_input_vars\u001b[0m\u001b[0;34m,\u001b[0m \u001b[0mreturned_output_vars\u001b[0m\u001b[0;34m,\u001b[0m \u001b[0mtrue_output_vars\u001b[0m\u001b[0;34m)\u001b[0m \u001b[0;34m=\u001b[0m \u001b[0mtester\u001b[0m\u001b[0;34m.\u001b[0m\u001b[0mget_test_vars\u001b[0m\u001b[0;34m(\u001b[0m\u001b[0;34m)\u001b[0m\u001b[0;34m\u001b[0m\u001b[0;34m\u001b[0m\u001b[0m\n\u001b[1;32m     42\u001b[0m     \u001b[0;32mexcept\u001b[0m\u001b[0;34m:\u001b[0m\u001b[0;34m\u001b[0m\u001b[0;34m\u001b[0m\u001b[0m\n",
            "\u001b[0;32m/content/tester_fw/testers.py\u001b[0m in \u001b[0;36mrun_test\u001b[0;34m(self, func)\u001b[0m\n\u001b[1;32m     36\u001b[0m \u001b[0;34m\u001b[0m\u001b[0m\n\u001b[1;32m     37\u001b[0m     \u001b[0;32mdef\u001b[0m \u001b[0mrun_test\u001b[0m\u001b[0;34m(\u001b[0m\u001b[0mself\u001b[0m\u001b[0;34m,\u001b[0m \u001b[0mfunc\u001b[0m\u001b[0;34m=\u001b[0m\u001b[0;32mNone\u001b[0m\u001b[0;34m)\u001b[0m\u001b[0;34m:\u001b[0m\u001b[0;34m\u001b[0m\u001b[0;34m\u001b[0m\u001b[0m\n\u001b[0;32m---> 38\u001b[0;31m         \u001b[0;32mreturn\u001b[0m \u001b[0msuper\u001b[0m\u001b[0;34m(\u001b[0m\u001b[0;34m)\u001b[0m\u001b[0;34m.\u001b[0m\u001b[0mrun_test\u001b[0m\u001b[0;34m(\u001b[0m\u001b[0mself\u001b[0m\u001b[0;34m.\u001b[0m\u001b[0mfunc\u001b[0m\u001b[0;34m)\u001b[0m\u001b[0;34m\u001b[0m\u001b[0;34m\u001b[0m\u001b[0m\n\u001b[0m\u001b[1;32m     39\u001b[0m \u001b[0;34m\u001b[0m\u001b[0m\n\u001b[1;32m     40\u001b[0m     \u001b[0;32mdef\u001b[0m \u001b[0mbuild_vars\u001b[0m\u001b[0;34m(\u001b[0m\u001b[0mself\u001b[0m\u001b[0;34m)\u001b[0m\u001b[0;34m:\u001b[0m\u001b[0;34m\u001b[0m\u001b[0;34m\u001b[0m\u001b[0m\n",
            "\u001b[0;32m/content/tester_fw/__init__.py\u001b[0m in \u001b[0;36mrun_test\u001b[0;34m(self, func)\u001b[0m\n\u001b[1;32m     41\u001b[0m         \u001b[0mself\u001b[0m\u001b[0;34m.\u001b[0m\u001b[0mrun_func\u001b[0m\u001b[0;34m(\u001b[0m\u001b[0mfunc\u001b[0m\u001b[0;34m)\u001b[0m      \u001b[0;31m# Run the function being tested and set the returned outputs\u001b[0m\u001b[0;34m\u001b[0m\u001b[0;34m\u001b[0m\u001b[0m\n\u001b[1;32m     42\u001b[0m         \u001b[0;32mif\u001b[0m \u001b[0mself\u001b[0m\u001b[0;34m.\u001b[0m\u001b[0mprevent_mod\u001b[0m\u001b[0;34m:\u001b[0m     \u001b[0;31m#  - can disable by setting `prevent_mod`to `False` in constructor\u001b[0m\u001b[0;34m\u001b[0m\u001b[0;34m\u001b[0m\u001b[0m\n\u001b[0;32m---> 43\u001b[0;31m             \u001b[0mself\u001b[0m\u001b[0;34m.\u001b[0m\u001b[0mcheck_modified\u001b[0m\u001b[0;34m(\u001b[0m\u001b[0;34m)\u001b[0m    \u001b[0;31m# Check to verify inputs were not modified\u001b[0m\u001b[0;34m\u001b[0m\u001b[0;34m\u001b[0m\u001b[0m\n\u001b[0m\u001b[1;32m     44\u001b[0m         \u001b[0mself\u001b[0m\u001b[0;34m.\u001b[0m\u001b[0mcheck_type\u001b[0m\u001b[0;34m(\u001b[0m\u001b[0;34m)\u001b[0m        \u001b[0;31m# Check to verify correct output types\u001b[0m\u001b[0;34m\u001b[0m\u001b[0;34m\u001b[0m\u001b[0m\n\u001b[1;32m     45\u001b[0m         \u001b[0mself\u001b[0m\u001b[0;34m.\u001b[0m\u001b[0mcheck_matches\u001b[0m\u001b[0;34m(\u001b[0m\u001b[0;34m)\u001b[0m     \u001b[0;31m# Check to verify correct output\u001b[0m\u001b[0;34m\u001b[0m\u001b[0;34m\u001b[0m\u001b[0m\n",
            "\u001b[0;32m/content/tester_fw/testers.py\u001b[0m in \u001b[0;36mcheck_modified\u001b[0;34m(self)\u001b[0m\n\u001b[1;32m     33\u001b[0m                 \u001b[0;32massert\u001b[0m \u001b[0;34m(\u001b[0m\u001b[0mself\u001b[0m\u001b[0;34m.\u001b[0m\u001b[0minput_vars\u001b[0m\u001b[0;34m[\u001b[0m\u001b[0mvar_name\u001b[0m\u001b[0;34m]\u001b[0m \u001b[0;34m==\u001b[0m \u001b[0mself\u001b[0m\u001b[0;34m.\u001b[0m\u001b[0moriginal_input_vars\u001b[0m\u001b[0;34m[\u001b[0m\u001b[0mvar_name\u001b[0m\u001b[0;34m]\u001b[0m\u001b[0;34m)\u001b[0m\u001b[0;34m.\u001b[0m\u001b[0mall\u001b[0m\u001b[0;34m(\u001b[0m\u001b[0;34m)\u001b[0m\u001b[0;34m\u001b[0m\u001b[0;34m\u001b[0m\u001b[0m\n\u001b[1;32m     34\u001b[0m             \u001b[0;32melse\u001b[0m\u001b[0;34m:\u001b[0m\u001b[0;34m\u001b[0m\u001b[0;34m\u001b[0m\u001b[0m\n\u001b[0;32m---> 35\u001b[0;31m                 \u001b[0;32massert\u001b[0m \u001b[0mself\u001b[0m\u001b[0;34m.\u001b[0m\u001b[0minput_vars\u001b[0m\u001b[0;34m[\u001b[0m\u001b[0mvar_name\u001b[0m\u001b[0;34m]\u001b[0m \u001b[0;34m==\u001b[0m \u001b[0mself\u001b[0m\u001b[0;34m.\u001b[0m\u001b[0moriginal_input_vars\u001b[0m\u001b[0;34m[\u001b[0m\u001b[0mvar_name\u001b[0m\u001b[0;34m]\u001b[0m\u001b[0;34m,\u001b[0m \u001b[0;34mf'Your solution modified the input variable `{var_name}`. You can use the testing variables for debugging.'\u001b[0m\u001b[0;34m\u001b[0m\u001b[0;34m\u001b[0m\u001b[0m\n\u001b[0m\u001b[1;32m     36\u001b[0m \u001b[0;34m\u001b[0m\u001b[0m\n\u001b[1;32m     37\u001b[0m     \u001b[0;32mdef\u001b[0m \u001b[0mrun_test\u001b[0m\u001b[0;34m(\u001b[0m\u001b[0mself\u001b[0m\u001b[0;34m,\u001b[0m \u001b[0mfunc\u001b[0m\u001b[0;34m=\u001b[0m\u001b[0;32mNone\u001b[0m\u001b[0;34m)\u001b[0m\u001b[0;34m:\u001b[0m\u001b[0;34m\u001b[0m\u001b[0;34m\u001b[0m\u001b[0m\n",
            "\u001b[0;31mAssertionError\u001b[0m: Your solution modified the input variable `raw_reddit_data`. You can use the testing variables for debugging."
          ]
        }
      ],
      "source": [
        "### test_cell_ex2\n",
        "### BEGIN HIDDEN TESTS\n",
        "import dill\n",
        "import hashlib\n",
        "with open('resource/asnlib/public/hash_check.pkl', 'rb') as f:\n",
        "    hash_check = dill.load(f)\n",
        "for fname in ['testers.py', '__init__.py', 'test_utils.py']:\n",
        "    hash_check(f'tester_fw/{fname}', f'resource/asnlib/public/{fname}')\n",
        "del hash_check\n",
        "del dill\n",
        "del hashlib\n",
        "### END HIDDEN TESTS\n",
        "from tester_fw.testers import Tester\n",
        "\n",
        "conf = {\n",
        "    'case_file':'tc_2', \n",
        "    'func': combine_child_data, # replace this with the function defined above\n",
        "    'inputs':{ # input config dict. keys are parameter names\n",
        "        'raw_reddit_data':{\n",
        "            'dtype':'list', # data type of param.\n",
        "            'check_modified':True,\n",
        "        }\n",
        "    },\n",
        "    'outputs':{\n",
        "        'output_0':{\n",
        "            'index':0,\n",
        "            'dtype':'list',\n",
        "            'check_dtype': True,\n",
        "            'check_col_dtypes': True, # Ignored if dtype is not df\n",
        "            'check_col_order': True, # Ignored if dtype is not df\n",
        "            'check_row_order': True, # Ignored if dtype is not df\n",
        "            'check_column_type': True, # Ignored if dtype is not df\n",
        "            'float_tolerance': 10 ** (-6)\n",
        "        }\n",
        "    }\n",
        "}\n",
        "tester = Tester(conf, key=b'S90rT5WLPFy08a82F6SXyiKoyeTi33DOHh7bxXASQw0=', path='resource/asnlib/publicdata/')\n",
        "for _ in range(20):\n",
        "    try:\n",
        "        tester.run_test()\n",
        "        (input_vars, original_input_vars, returned_output_vars, true_output_vars) = tester.get_test_vars()\n",
        "    except:\n",
        "        (input_vars, original_input_vars, returned_output_vars, true_output_vars) = tester.get_test_vars()\n",
        "        raise\n",
        "\n",
        "### BEGIN HIDDEN TESTS\n",
        "tester = Tester(conf, key=b'bE_KdJGq_bhBuoTZRi37O7tu3s38ac4bJUsgUEXnK8s=', path='resource/asnlib/publicdata/encrypted/')\n",
        "for _ in range(20):\n",
        "    try:\n",
        "        tester.run_test()\n",
        "        (input_vars, original_input_vars, returned_output_vars, true_output_vars) = tester.get_test_vars()\n",
        "    except:\n",
        "        (input_vars, original_input_vars, returned_output_vars, true_output_vars) = tester.get_test_vars()\n",
        "        raise\n",
        "### END HIDDEN TESTS\n",
        "print('Passed! Please submit.')"
      ],
      "id": "bA5cSSxpA9kF"
    },
    {
      "cell_type": "markdown",
      "source": [
        "This time we have a different assertion error. We have modified an input variable! Let's see what it looked like originally and what it looks like after our solution."
      ],
      "metadata": {
        "id": "t0ownO40ZSy3"
      },
      "id": "t0ownO40ZSy3"
    },
    {
      "cell_type": "code",
      "source": [
        "# This prints an insane amount of text. You can uncomment the line below\n",
        "# if you do not believe me.\n",
        "\n",
        "# original_input_vars['raw_reddit_data']\n"
      ],
      "metadata": {
        "id": "YivJZcuUZxNx"
      },
      "id": "YivJZcuUZxNx",
      "execution_count": null,
      "outputs": []
    },
    {
      "cell_type": "markdown",
      "source": [
        "Well that's huge. No way we're going to parse that visually. We need to narrow it down a bit."
      ],
      "metadata": {
        "id": "vB8Fp0EhaECc"
      },
      "id": "vB8Fp0EhaECc"
    },
    {
      "cell_type": "code",
      "source": [
        "type(original_input_vars['raw_reddit_data'])"
      ],
      "metadata": {
        "id": "l1TSFwVLZ1rM",
        "outputId": "af29605b-cdfa-4688-d4b3-d6d4a98783cb",
        "colab": {
          "base_uri": "https://localhost:8080/"
        }
      },
      "id": "l1TSFwVLZ1rM",
      "execution_count": null,
      "outputs": [
        {
          "output_type": "execute_result",
          "data": {
            "text/plain": [
              "list"
            ]
          },
          "metadata": {},
          "execution_count": 80
        }
      ]
    },
    {
      "cell_type": "markdown",
      "source": [
        "We have a list. Let's do some comparisons with lists. First let's verify that the original and modified lists are the same length..."
      ],
      "metadata": {
        "id": "397BbF0WapSn"
      },
      "id": "397BbF0WapSn"
    },
    {
      "cell_type": "code",
      "source": [
        "len(original_input_vars['raw_reddit_data']) == len(input_vars['raw_reddit_data'])"
      ],
      "metadata": {
        "id": "L1KK5cp5bo-M",
        "outputId": "3ab946f4-09a4-4758-ec31-b2713b138ff0",
        "colab": {
          "base_uri": "https://localhost:8080/"
        }
      },
      "id": "L1KK5cp5bo-M",
      "execution_count": null,
      "outputs": [
        {
          "output_type": "execute_result",
          "data": {
            "text/plain": [
              "True"
            ]
          },
          "metadata": {},
          "execution_count": 83
        }
      ]
    },
    {
      "cell_type": "markdown",
      "source": [
        "Ok, they're the same length. Now we can iterateively check to see which elements are not the same."
      ],
      "metadata": {
        "id": "RmVeYERBbxTY"
      },
      "id": "RmVeYERBbxTY"
    },
    {
      "cell_type": "code",
      "source": [
        "for i, original_list in enumerate(original_input_vars['raw_reddit_data']):\n",
        "  modified_list = input_vars['raw_reddit_data'][i]\n",
        "  if modified_list != original_list:\n",
        "    print(f'The solution modified raw_reddit_data[{i}]')"
      ],
      "metadata": {
        "id": "fdifuI5ia1Gg",
        "outputId": "7ea070a4-874c-4397-e95c-4d3b0cb2177e",
        "colab": {
          "base_uri": "https://localhost:8080/"
        }
      },
      "id": "fdifuI5ia1Gg",
      "execution_count": null,
      "outputs": [
        {
          "output_type": "stream",
          "name": "stdout",
          "text": [
            "The solution modified raw_reddit_data[0]\n"
          ]
        }
      ]
    },
    {
      "cell_type": "markdown",
      "source": [
        "What type is `raw_reddit_data[0]`?"
      ],
      "metadata": {
        "id": "5jMTRDXdb6dd"
      },
      "id": "5jMTRDXdb6dd"
    },
    {
      "cell_type": "code",
      "source": [
        "type(original_input_vars['raw_reddit_data'][0])"
      ],
      "metadata": {
        "id": "PhzmDQGYcIgV",
        "outputId": "e3bb8a14-229f-459c-fa3c-0208cfea1acc",
        "colab": {
          "base_uri": "https://localhost:8080/"
        }
      },
      "id": "PhzmDQGYcIgV",
      "execution_count": null,
      "outputs": [
        {
          "output_type": "execute_result",
          "data": {
            "text/plain": [
              "dict"
            ]
          },
          "metadata": {},
          "execution_count": 85
        }
      ]
    },
    {
      "cell_type": "markdown",
      "source": [
        "Are the keys the same?"
      ],
      "metadata": {
        "id": "oAnWRgoicPe1"
      },
      "id": "oAnWRgoicPe1"
    },
    {
      "cell_type": "code",
      "source": [
        "original_input_vars['raw_reddit_data'][0].keys() == input_vars['raw_reddit_data'][0].keys()"
      ],
      "metadata": {
        "id": "tA9vyKjvcS4w",
        "outputId": "14cfcfe5-d244-441d-8a3e-91906056528d",
        "colab": {
          "base_uri": "https://localhost:8080/"
        }
      },
      "id": "tA9vyKjvcS4w",
      "execution_count": null,
      "outputs": [
        {
          "output_type": "execute_result",
          "data": {
            "text/plain": [
              "True"
            ]
          },
          "metadata": {},
          "execution_count": 86
        }
      ]
    },
    {
      "cell_type": "markdown",
      "source": [
        "Which value is different?"
      ],
      "metadata": {
        "id": "y1JYo-1Qcgla"
      },
      "id": "y1JYo-1Qcgla"
    },
    {
      "cell_type": "code",
      "source": [
        "for key, original_val in original_input_vars['raw_reddit_data'][0].items():\n",
        "  modified_val = input_vars['raw_reddit_data'][0][key]\n",
        "  if modified_val != original_val:\n",
        "    print(f\"The solution modified raw_reddit_data[0]['{key}'], which is type {type(original_val)}\")"
      ],
      "metadata": {
        "id": "SqNZgdgxcle7",
        "outputId": "ae3084ba-703e-4183-c325-2d72c86a1498",
        "colab": {
          "base_uri": "https://localhost:8080/"
        }
      },
      "id": "SqNZgdgxcle7",
      "execution_count": null,
      "outputs": [
        {
          "output_type": "stream",
          "name": "stdout",
          "text": [
            "The solution modified raw_reddit_data[0]['data'], which is type <class 'dict'>\n"
          ]
        }
      ]
    },
    {
      "cell_type": "markdown",
      "source": [
        "Repeat the process for `raw_reddit_data[0]['data']`"
      ],
      "metadata": {
        "id": "GdDrJjpodQKb"
      },
      "id": "GdDrJjpodQKb"
    },
    {
      "cell_type": "code",
      "source": [
        "assert original_input_vars['raw_reddit_data'][0]['data'].keys() == input_vars['raw_reddit_data'][0]['data'].keys(), 'key mismatch'\n",
        "for key, original_val in original_input_vars['raw_reddit_data'][0]['data'].items():\n",
        "  modified_val = input_vars['raw_reddit_data'][0]['data'][key]\n",
        "  if modified_val != original_val:\n",
        "    print(f\"The solution modified raw_reddit_data[0]['data']['{key}'], which is type {type(original_val)}\")"
      ],
      "metadata": {
        "id": "2RYE7ohudoFs",
        "outputId": "f592ff97-31ac-4d38-818a-8a2622191199",
        "colab": {
          "base_uri": "https://localhost:8080/"
        }
      },
      "id": "2RYE7ohudoFs",
      "execution_count": null,
      "outputs": [
        {
          "output_type": "stream",
          "name": "stdout",
          "text": [
            "The solution modified raw_reddit_data[0]['data']['children'], which is type <class 'list'>\n"
          ]
        }
      ]
    },
    {
      "cell_type": "markdown",
      "source": [
        "Now back to the list strategy!"
      ],
      "metadata": {
        "id": "pqOVIPo7eBTT"
      },
      "id": "pqOVIPo7eBTT"
    },
    {
      "cell_type": "code",
      "source": [
        "len(original_input_vars['raw_reddit_data'][0]['data']['children']) == len(input_vars['raw_reddit_data'][0]['data']['children'])"
      ],
      "metadata": {
        "id": "m_OkJ1GHeFhV",
        "outputId": "f87837b4-2bc3-4d1f-e130-b1acdcbd2f0f",
        "colab": {
          "base_uri": "https://localhost:8080/"
        }
      },
      "id": "m_OkJ1GHeFhV",
      "execution_count": null,
      "outputs": [
        {
          "output_type": "execute_result",
          "data": {
            "text/plain": [
              "False"
            ]
          },
          "metadata": {},
          "execution_count": 91
        }
      ]
    },
    {
      "cell_type": "markdown",
      "source": [
        "Finally, we have lists of two different lengths! Which one is longer?"
      ],
      "metadata": {
        "id": "gFGXbjtnedf2"
      },
      "id": "gFGXbjtnedf2"
    },
    {
      "cell_type": "code",
      "source": [
        "len(input_vars['raw_reddit_data'][0]['data']['children'])"
      ],
      "metadata": {
        "id": "0YfMs2eBekdw",
        "outputId": "8bb714ec-dabe-49ba-a7e9-9c1602c54419",
        "colab": {
          "base_uri": "https://localhost:8080/"
        }
      },
      "id": "0YfMs2eBekdw",
      "execution_count": null,
      "outputs": [
        {
          "output_type": "execute_result",
          "data": {
            "text/plain": [
              "12"
            ]
          },
          "metadata": {},
          "execution_count": 92
        }
      ]
    },
    {
      "cell_type": "code",
      "source": [
        "len(original_input_vars['raw_reddit_data'][0]['data']['children'])"
      ],
      "metadata": {
        "id": "5z5NslG3enUZ",
        "outputId": "f237a9e8-3868-4ada-efaf-dd77866b94a8",
        "colab": {
          "base_uri": "https://localhost:8080/"
        }
      },
      "id": "5z5NslG3enUZ",
      "execution_count": null,
      "outputs": [
        {
          "output_type": "execute_result",
          "data": {
            "text/plain": [
              "4"
            ]
          },
          "metadata": {},
          "execution_count": 93
        }
      ]
    },
    {
      "cell_type": "markdown",
      "source": [
        "The `input_vars` one is longer! This means that somewhere we're adding elements to `raw_reddit_data[0]['data']['children']`. Now we need to check our solution and see if we have any references to that which are being modified...\n",
        "\n",
        "We do! Here's the solution again so you don't have to scroll up.  \n",
        "```\n",
        "def combine_child_data(raw_reddit_data):\n",
        "    ### BEGIN SOLUTION\n",
        "    rv = raw_reddit_data[0]['data']['children']\n",
        "    for page in raw_reddit_data[1:]:\n",
        "        rv += page['data']['children']\n",
        "    return rv\n",
        "```\n",
        "To fix this we could make `rv` a copy of `raw_reddit_data` or (even better) initialize it as an empty list and start our `for` loop at 0."
      ],
      "metadata": {
        "id": "KZQ-Oc_Nev-f"
      },
      "id": "KZQ-Oc_Nev-f"
    },
    {
      "cell_type": "markdown",
      "metadata": {
        "nbgrader": {
          "grade": false,
          "locked": true,
          "solution": false
        },
        "tags": [
          "exercise_text"
        ],
        "id": "C4_PQVGxA9kG"
      },
      "source": [
        "## Exercise 3a - (**3** Points): \n",
        "**Requirements**  \n",
        "\n",
        "Define the function `clean_text_phase_0(text)` which takes an inputs `text`, a `str` to be cleaned. All of the following transformations must be performed on `text` and the end result returned as a `str`. Some transformations may conflict with others, but using the order provided will give the correct result.\n",
        "\n",
        "|step number|what to transform|how to identify|transformation|recommendation|  \n",
        "|---|---|---|---|---|  \n",
        "|0|all letters|NA|convert to lower case|use `str` methods|  \n",
        "|1|special unicode characters|handled by `clean_unicode`|Use `clean_unicode`|use provided helper function|  \n",
        "|2|urls|the sequence '`http`' followed by at least one **non-space character**, i.e. `'the http module'` does not contain a url, but `http://cse6040.gatech.edu` is a url.|remove|use `re` - remove pattern matches|  \n",
        "|3|space indicators|**space character**, `-`, `+` , or `=`|replace with `' '`|use `re` - replace pattern matches with a single space.|   \n",
        "|4|posessive ending|`\"'s\"` (does not have to occur at the end of a **word**)|remove|use `re` - remove pattern matches|  \n",
        "|5|symbols|`*`, `_`, `:`, `#`, `.`, `,`(the \"comma\" character), `~`, `?`, `!`, `$`, `%`, `;`, `(`, `)`, `[`, `]`, `/`, `\\`, `{`, `}`, `'`, `<`, `>`, `&`, `` ` ``, `\"`|remove|use `re` - remove pattern matches. **All symbbols are in demo sample data**.|  \n",
        "|6|consecutive spaces|consecutive spaces. ex: `'     '`|replace with single space|use `str` methods to split into \"list of words\", re-combine with `str` methods  \n",
        "\n",
        "The term \"**space character**\" should be taken to mean any character which matches the regex pattern `'\\s'`. This includes *but is not limited* to spaces, newlines, and tabs. The term \"**non-space character**\" should be taken to mean all other characters.\n",
        "\n",
        "The term \"**word**\" should be taken to mean a series of non-space characters which are either wrapped by either space characters or the start or end of a string. We would interpret the string `'these are all words'` to have 4 words."
      ],
      "id": "C4_PQVGxA9kG"
    },
    {
      "cell_type": "markdown",
      "metadata": {
        "nbgrader": {
          "grade": false,
          "locked": true,
          "solution": false
        },
        "id": "RF2MBde_A9kF"
      },
      "source": [
        "## Helper Function `clean_unicode`\n",
        "\n",
        "Reddit posts allow for unicode special characters and html special characters (letters with accents, emojis, etc.). These characters will cause problems with our analysis. We have provided `clean_unicode(text)` which takes a string input, `text` and returns that string with any such characters replaced with an empty string `''`. You will have to use it in the solution to the next exercise (or figure out a way to strip them out yourself...)"
      ],
      "id": "RF2MBde_A9kF"
    },
    {
      "cell_type": "code",
      "execution_count": null,
      "metadata": {
        "collapsed": true,
        "nbgrader": {
          "grade": false,
          "locked": true,
          "solution": false
        },
        "id": "9dXEuXs-A9kG"
      },
      "outputs": [],
      "source": [
        "def clean_unicode(text):\n",
        "    text = re.sub(r'&.*?;', '', text)\n",
        "    encoded = text.encode('unicode_escape')\n",
        "    return re.sub(br\"\\\\u....|\\\\U........|\\\\x..\", b\"\", encoded).decode(\"unicode-escape\")"
      ],
      "id": "9dXEuXs-A9kG"
    },
    {
      "cell_type": "code",
      "execution_count": null,
      "metadata": {
        "nbgrader": {
          "grade": false,
          "locked": true,
          "solution": false
        },
        "tags": [
          "demo_data"
        ],
        "id": "7dvS5lKEA9kG",
        "outputId": "2fe2218a-0b40-4bfc-d5e5-0eed493935b6",
        "colab": {
          "base_uri": "https://localhost:8080/",
          "height": 69
        }
      },
      "outputs": [
        {
          "output_type": "execute_result",
          "data": {
            "text/plain": [
              "'\\n😀 I just love #Python. You will learn to love it, too!!! (Just as much as I do). \\n\\n\\nCheck out my site at https://cse6040.gatech.edu. It\\'s not much ~~ but I think it\\'s gr8!\\n        \\t       It\\'s really cool & fun! The \"bee\\'s knees\" if you will. 🐝\\n\\nThe request module\\'s functionality really makes HTTP requests a breeze!\\nallon*_:#.,~?!$%;()\\\\[\\\\]\\'/{}\\\\\\'<>&`\"eword\\n\\n\"within\" should remain, but \"it\" should not\\n'"
            ],
            "application/vnd.google.colaboratory.intrinsic+json": {
              "type": "string"
            }
          },
          "metadata": {},
          "execution_count": 25
        }
      ],
      "source": [
        "### Define demo inputs\n",
        "with open('resource/asnlib/publicdata/children.json') as f:\n",
        "    children = json.load(f)\n",
        "\n",
        "demo_text_ex3a = '''\n",
        "😀 I just love #Python. You will learn to love it, too!!! (Just as much as I do). \n",
        "\n",
        "\n",
        "Check out my site at https://cse6040.gatech.edu. It's not much ~~ but I think it's gr8!\n",
        "        \t       It's really cool & fun! The \"bee's knees\" if you will. 🐝\n",
        "\n",
        "The request module's functionality really makes HTTP requests a breeze!\n",
        "allon*_:#.,~?!$%;()\\[\\]\\'/{}\\\\\\'<>&`\"eword\n",
        "\n",
        "\"within\" should remain, but \"it\" should not\n",
        "'''\n",
        "demo_text_ex3a"
      ],
      "id": "7dvS5lKEA9kG"
    },
    {
      "cell_type": "markdown",
      "metadata": {
        "nbgrader": {
          "grade": false,
          "locked": true,
          "solution": false
        },
        "tags": [
          "demo_output_md"
        ],
        "id": "juSQ9ANtA9kH"
      },
      "source": [
        "<!-- Expected demo output text block -->\n",
        "The demo included in the solution cell below should display the following output:\n",
        "```\n",
        "'i just love python you will learn to love it too just as much as i do check out my site at it not much but i think it gr8 it really cool fun the bee knees if you will the request module functionality really makes http requests a breeze alloneword within should remain but it should not'\n",
        "```\n",
        "<!-- Include any shout outs here -->\n",
        "\n",
        "**Note** This is a simplified example which admittedly includes some nonsense. It checks most **but not all** requirements. If you need help comparing your output and the expected output you can use <https://text-compare.com/>."
      ],
      "id": "juSQ9ANtA9kH"
    },
    {
      "cell_type": "code",
      "execution_count": null,
      "metadata": {
        "tags": [
          "exercise_solution"
        ],
        "id": "qIv67UIhA9kH",
        "outputId": "f8fe20b1-dbfd-4fe5-eeb0-a5cb74813052",
        "colab": {
          "base_uri": "https://localhost:8080/",
          "height": 52
        }
      },
      "outputs": [
        {
          "output_type": "execute_result",
          "data": {
            "text/plain": [
              "'i just love python you will learn to love it too just as much as i do check out my site at it not much but i think it gr8 it really cool fun the bee knees if you will the request module functionality really makes http requests a breeze alloneword within should remain but it should not'"
            ],
            "application/vnd.google.colaboratory.intrinsic+json": {
              "type": "string"
            }
          },
          "metadata": {},
          "execution_count": 96
        }
      ],
      "source": [
        "### Exercise 3a solution\n",
        "def clean_text_phase_0(text):\n",
        "    ### BEGIN SOLUTION\n",
        "    clean = text.lower() # Convert to lowercase\n",
        "    clean = clean_unicode(clean)\n",
        "    clean = re.sub(r'http[^\\s]+', '', clean) # Remove urls\n",
        "    clean = re.sub(r'[\\s\\-=]', ' ', clean) # Replace any space character or dash with ' '\n",
        "    clean = re.sub(r'\\'s', '', clean) # Remove \"'s\"\n",
        "    clean = re.sub(r'[*_:#.,~?!$%;()\\[\\]\\'/{}\\\\\\'<>&`\"]', '', clean) # Remove punctuation and grouping symbols \n",
        "    clean = ' '.join(clean.split())\n",
        "    ## Moving to another solution\n",
        "    #     clean = ' '.join(s for s in clean.split() if (re.search(r'[0-9]', s) is None and s not in stopwords)) # remove any \"words\" (sequences without spaces) containing numbers\n",
        "    return clean \n",
        "    ### END SOLUTION\n",
        "    \n",
        "### demo function call\n",
        "clean_text_phase_0(demo_text_ex3a)"
      ],
      "id": "qIv67UIhA9kH"
    },
    {
      "cell_type": "markdown",
      "metadata": {
        "nbgrader": {
          "grade": false,
          "locked": true,
          "solution": false
        },
        "tags": [
          "test_data_boilerplate"
        ],
        "id": "0D6gOt5LA9kI"
      },
      "source": [
        "<!-- Test Cell Boilerplate -->\n",
        "The cell below will test your solution for Exercise 3. The testing variables will be available for debugging under the following names in a dictionary format.\n",
        "- `input_vars` - Input variables for your solution. \n",
        "- `original_input_vars` - Copy of input variables from prior to running your solution. These _should_ be the same as `input_vars` - otherwise the inputs were modified by your solution.\n",
        "- `returned_output_vars` - Outputs returned by your solution.\n",
        "- `true_output_vars` - The expected output. This _should_ \"match\" `returned_output_vars` based on the question requirements - otherwise, your solution is not returning the correct output. \n",
        "\n",
        "Depending on the test cases drawn in this cell, a `DepricationWarning` may be raised. **This is nothing to be concerned about**. It indicates that a feature we are using *may* be disabled in a *future* release, but it **will work** for now."
      ],
      "id": "0D6gOt5LA9kI"
    },
    {
      "cell_type": "code",
      "execution_count": null,
      "metadata": {
        "nbgrader": {
          "grade": true,
          "grade_id": "ex3a",
          "locked": true,
          "points": "3",
          "solution": false
        },
        "tags": [],
        "id": "2XcaYz58A9kI",
        "outputId": "2f9aff24-d513-408e-b30e-b712182fcb96",
        "colab": {
          "base_uri": "https://localhost:8080/",
          "height": 556
        }
      },
      "outputs": [
        {
          "output_type": "stream",
          "name": "stdout",
          "text": [
            "5e3f0d781ba1b93fcce1788f8448f8ec\n",
            "5e3f0d781ba1b93fcce1788f8448f8ec\n",
            "52243648c34549fa35bbbdf59ae56057\n",
            "52243648c34549fa35bbbdf59ae56057\n",
            "ed83b476ee8f414c417022217cf79354\n",
            "ed83b476ee8f414c417022217cf79354\n"
          ]
        },
        {
          "output_type": "error",
          "ename": "AssertionError",
          "evalue": "ignored",
          "traceback": [
            "\u001b[0;31m---------------------------------------------------------------------------\u001b[0m",
            "\u001b[0;31mAssertionError\u001b[0m                            Traceback (most recent call last)",
            "\u001b[0;32m<ipython-input-104-6efdc59a7921>\u001b[0m in \u001b[0;36m<module>\u001b[0;34m\u001b[0m\n\u001b[1;32m     38\u001b[0m \u001b[0;32mfor\u001b[0m \u001b[0m_\u001b[0m \u001b[0;32min\u001b[0m \u001b[0mrange\u001b[0m\u001b[0;34m(\u001b[0m\u001b[0;36m100\u001b[0m\u001b[0;34m)\u001b[0m\u001b[0;34m:\u001b[0m\u001b[0;34m\u001b[0m\u001b[0;34m\u001b[0m\u001b[0m\n\u001b[1;32m     39\u001b[0m     \u001b[0;32mtry\u001b[0m\u001b[0;34m:\u001b[0m\u001b[0;34m\u001b[0m\u001b[0;34m\u001b[0m\u001b[0m\n\u001b[0;32m---> 40\u001b[0;31m         \u001b[0mtester\u001b[0m\u001b[0;34m.\u001b[0m\u001b[0mrun_test\u001b[0m\u001b[0;34m(\u001b[0m\u001b[0;34m)\u001b[0m\u001b[0;34m\u001b[0m\u001b[0;34m\u001b[0m\u001b[0m\n\u001b[0m\u001b[1;32m     41\u001b[0m         \u001b[0;34m(\u001b[0m\u001b[0minput_vars\u001b[0m\u001b[0;34m,\u001b[0m \u001b[0moriginal_input_vars\u001b[0m\u001b[0;34m,\u001b[0m \u001b[0mreturned_output_vars\u001b[0m\u001b[0;34m,\u001b[0m \u001b[0mtrue_output_vars\u001b[0m\u001b[0;34m)\u001b[0m \u001b[0;34m=\u001b[0m \u001b[0mtester\u001b[0m\u001b[0;34m.\u001b[0m\u001b[0mget_test_vars\u001b[0m\u001b[0;34m(\u001b[0m\u001b[0;34m)\u001b[0m\u001b[0;34m\u001b[0m\u001b[0;34m\u001b[0m\u001b[0m\n\u001b[1;32m     42\u001b[0m     \u001b[0;32mexcept\u001b[0m\u001b[0;34m:\u001b[0m\u001b[0;34m\u001b[0m\u001b[0;34m\u001b[0m\u001b[0m\n",
            "\u001b[0;32m/content/tester_fw/testers.py\u001b[0m in \u001b[0;36mrun_test\u001b[0;34m(self, func)\u001b[0m\n\u001b[1;32m     36\u001b[0m \u001b[0;34m\u001b[0m\u001b[0m\n\u001b[1;32m     37\u001b[0m     \u001b[0;32mdef\u001b[0m \u001b[0mrun_test\u001b[0m\u001b[0;34m(\u001b[0m\u001b[0mself\u001b[0m\u001b[0;34m,\u001b[0m \u001b[0mfunc\u001b[0m\u001b[0;34m=\u001b[0m\u001b[0;32mNone\u001b[0m\u001b[0;34m)\u001b[0m\u001b[0;34m:\u001b[0m\u001b[0;34m\u001b[0m\u001b[0;34m\u001b[0m\u001b[0m\n\u001b[0;32m---> 38\u001b[0;31m         \u001b[0;32mreturn\u001b[0m \u001b[0msuper\u001b[0m\u001b[0;34m(\u001b[0m\u001b[0;34m)\u001b[0m\u001b[0;34m.\u001b[0m\u001b[0mrun_test\u001b[0m\u001b[0;34m(\u001b[0m\u001b[0mself\u001b[0m\u001b[0;34m.\u001b[0m\u001b[0mfunc\u001b[0m\u001b[0;34m)\u001b[0m\u001b[0;34m\u001b[0m\u001b[0;34m\u001b[0m\u001b[0m\n\u001b[0m\u001b[1;32m     39\u001b[0m \u001b[0;34m\u001b[0m\u001b[0m\n\u001b[1;32m     40\u001b[0m     \u001b[0;32mdef\u001b[0m \u001b[0mbuild_vars\u001b[0m\u001b[0;34m(\u001b[0m\u001b[0mself\u001b[0m\u001b[0;34m)\u001b[0m\u001b[0;34m:\u001b[0m\u001b[0;34m\u001b[0m\u001b[0;34m\u001b[0m\u001b[0m\n",
            "\u001b[0;32m/content/tester_fw/__init__.py\u001b[0m in \u001b[0;36mrun_test\u001b[0;34m(self, func)\u001b[0m\n\u001b[1;32m     43\u001b[0m             \u001b[0mself\u001b[0m\u001b[0;34m.\u001b[0m\u001b[0mcheck_modified\u001b[0m\u001b[0;34m(\u001b[0m\u001b[0;34m)\u001b[0m    \u001b[0;31m# Check to verify inputs were not modified\u001b[0m\u001b[0;34m\u001b[0m\u001b[0;34m\u001b[0m\u001b[0m\n\u001b[1;32m     44\u001b[0m         \u001b[0mself\u001b[0m\u001b[0;34m.\u001b[0m\u001b[0mcheck_type\u001b[0m\u001b[0;34m(\u001b[0m\u001b[0;34m)\u001b[0m        \u001b[0;31m# Check to verify correct output types\u001b[0m\u001b[0;34m\u001b[0m\u001b[0;34m\u001b[0m\u001b[0m\n\u001b[0;32m---> 45\u001b[0;31m         \u001b[0mself\u001b[0m\u001b[0;34m.\u001b[0m\u001b[0mcheck_matches\u001b[0m\u001b[0;34m(\u001b[0m\u001b[0;34m)\u001b[0m     \u001b[0;31m# Check to verify correct output\u001b[0m\u001b[0;34m\u001b[0m\u001b[0;34m\u001b[0m\u001b[0m\n\u001b[0m\u001b[1;32m     46\u001b[0m \u001b[0;34m\u001b[0m\u001b[0m\n\u001b[1;32m     47\u001b[0m \u001b[0;34m\u001b[0m\u001b[0m\n",
            "\u001b[0;32m/content/tester_fw/testers.py\u001b[0m in \u001b[0;36mcheck_matches\u001b[0;34m(self)\u001b[0m\n\u001b[1;32m     77\u001b[0m         \u001b[0;32mfor\u001b[0m \u001b[0mout_key\u001b[0m\u001b[0;34m,\u001b[0m \u001b[0mout_dict\u001b[0m \u001b[0;32min\u001b[0m \u001b[0mself\u001b[0m\u001b[0;34m.\u001b[0m\u001b[0mconf_outputs\u001b[0m\u001b[0;34m.\u001b[0m\u001b[0mitems\u001b[0m\u001b[0;34m(\u001b[0m\u001b[0;34m)\u001b[0m\u001b[0;34m:\u001b[0m\u001b[0;34m\u001b[0m\u001b[0;34m\u001b[0m\u001b[0m\n\u001b[1;32m     78\u001b[0m             \u001b[0mtest_var\u001b[0m \u001b[0;34m=\u001b[0m \u001b[0mself\u001b[0m\u001b[0;34m.\u001b[0m\u001b[0mreturned_output_vars\u001b[0m\u001b[0;34m[\u001b[0m\u001b[0mout_key\u001b[0m\u001b[0;34m]\u001b[0m\u001b[0;34m\u001b[0m\u001b[0;34m\u001b[0m\u001b[0m\n\u001b[0;32m---> 79\u001b[0;31m             assert test_utils.compare_copies(a=test_var,\n\u001b[0m\u001b[1;32m     80\u001b[0m                                             \u001b[0mb\u001b[0m\u001b[0;34m=\u001b[0m\u001b[0mself\u001b[0m\u001b[0;34m.\u001b[0m\u001b[0mtrue_output_vars\u001b[0m\u001b[0;34m[\u001b[0m\u001b[0mout_key\u001b[0m\u001b[0;34m]\u001b[0m\u001b[0;34m,\u001b[0m\u001b[0;34m\u001b[0m\u001b[0;34m\u001b[0m\u001b[0m\n\u001b[1;32m     81\u001b[0m                                             \u001b[0mtol\u001b[0m\u001b[0;34m=\u001b[0m\u001b[0mout_dict\u001b[0m\u001b[0;34m[\u001b[0m\u001b[0;34m'float_tolerance'\u001b[0m\u001b[0;34m]\u001b[0m\u001b[0;34m,\u001b[0m\u001b[0;34m\u001b[0m\u001b[0;34m\u001b[0m\u001b[0m\n",
            "\u001b[0;31mAssertionError\u001b[0m: \nOutput for output_0 is incorrect.\nThe returned result is available as `returned_output_vars['output_0']`\nThe expected result is available as `true_output_vars['output_0']`\n            "
          ]
        }
      ],
      "source": [
        "### test_cell_ex3a\n",
        "### BEGIN HIDDEN TESTS\n",
        "import dill\n",
        "import hashlib\n",
        "with open('resource/asnlib/public/hash_check.pkl', 'rb') as f:\n",
        "    hash_check = dill.load(f)\n",
        "for fname in ['testers.py', '__init__.py', 'test_utils.py']:\n",
        "    hash_check(f'tester_fw/{fname}', f'resource/asnlib/public/{fname}')\n",
        "del hash_check\n",
        "del dill\n",
        "del hashlib\n",
        "### END HIDDEN TESTS\n",
        "from tester_fw.testers import Tester\n",
        "\n",
        "conf = {\n",
        "    'case_file':'tc_3a', \n",
        "    'func': clean_text_phase_0, # replace this with the function defined above\n",
        "    'inputs':{ # input config dict. keys are parameter names\n",
        "        'text':{\n",
        "            'dtype':'str', # data type of param.\n",
        "            'check_modified':True,\n",
        "        },\n",
        "    },\n",
        "    'outputs':{\n",
        "        'output_0':{\n",
        "            'index':0,\n",
        "            'dtype':'str',\n",
        "            'check_dtype': True,\n",
        "            'check_col_dtypes': True, # Ignored if dtype is not df\n",
        "            'check_col_order': True, # Ignored if dtype is not df\n",
        "            'check_row_order': True, # Ignored if dtype is not df\n",
        "            'check_column_type': True, # Ignored if dtype is not df\n",
        "            'float_tolerance': 10 ** (-6)\n",
        "        }\n",
        "    }\n",
        "}\n",
        "tester = Tester(conf, key=b'S90rT5WLPFy08a82F6SXyiKoyeTi33DOHh7bxXASQw0=', path='resource/asnlib/publicdata/')\n",
        "for _ in range(100):\n",
        "    try:\n",
        "        tester.run_test()\n",
        "        (input_vars, original_input_vars, returned_output_vars, true_output_vars) = tester.get_test_vars()\n",
        "    except:\n",
        "        (input_vars, original_input_vars, returned_output_vars, true_output_vars) = tester.get_test_vars()\n",
        "        raise\n",
        "\n",
        "### BEGIN HIDDEN TESTS\n",
        "tester = Tester(conf, key=b'bE_KdJGq_bhBuoTZRi37O7tu3s38ac4bJUsgUEXnK8s=', path='resource/asnlib/publicdata/encrypted/')\n",
        "for _ in range(100):\n",
        "    try:\n",
        "        tester.run_test()\n",
        "        (input_vars, original_input_vars, returned_output_vars, true_output_vars) = tester.get_test_vars()\n",
        "    except:\n",
        "        (input_vars, original_input_vars, returned_output_vars, true_output_vars) = tester.get_test_vars()\n",
        "        raise\n",
        "### END HIDDEN TESTS\n",
        "print('Passed! Please submit.')"
      ],
      "id": "2XcaYz58A9kI"
    },
    {
      "cell_type": "markdown",
      "source": [
        "Another error. Our output is not correct again! Let's check the types again."
      ],
      "metadata": {
        "id": "vn3CaknFhKlQ"
      },
      "id": "vn3CaknFhKlQ"
    },
    {
      "cell_type": "code",
      "source": [
        "assert isinstance(returned_output_vars['output_0'], type(true_output_vars['output_0'])), 'type mismatch'\n",
        "type(true_output_vars['output_0'])"
      ],
      "metadata": {
        "id": "HRHaCDpihSg2",
        "outputId": "11472b26-1742-46df-bbef-c7b94c02c9c2",
        "colab": {
          "base_uri": "https://localhost:8080/"
        }
      },
      "id": "HRHaCDpihSg2",
      "execution_count": null,
      "outputs": [
        {
          "output_type": "execute_result",
          "data": {
            "text/plain": [
              "str"
            ]
          },
          "metadata": {},
          "execution_count": 105
        }
      ]
    },
    {
      "cell_type": "markdown",
      "source": [
        "We have strings. Let's print them and compare."
      ],
      "metadata": {
        "id": "wjQoMK1HhmKj"
      },
      "id": "wjQoMK1HhmKj"
    },
    {
      "cell_type": "code",
      "source": [
        "returned_output_vars['output_0']"
      ],
      "metadata": {
        "id": "57hmpZJFhlic",
        "outputId": "db6d6518-d754-47a0-b5e5-da0edf1430d1",
        "colab": {
          "base_uri": "https://localhost:8080/",
          "height": 139
        }
      },
      "id": "57hmpZJFhlic",
      "execution_count": null,
      "outputs": [
        {
          "output_type": "execute_result",
          "data": {
            "text/plain": [
              "'hello ive just released my book on python regular expressions and it is free to download till 13 jan 2019 you can still pay if you wish e book link you will continue to get free updates in future youll need to opt in to get notification via e mail github repo this book would help you learn regular expressions step by step with 200+ examples from basics to advanced levels in addition to re module that comes with standard library the 3rd party regex module is covered as well exercises are also included to test your understanding table of contents 1 preface 2 why is it needed 3 regular expression modules 4 anchors 5 alternation and grouping 6 escaping metacharacters 7 dot metacharacter and quantifiers 8 working with matched portions 9 character class 10 groupings and backreferences 11 lookarounds 12 flags 13 unicode 14 miscellaneous 15 gotchas 16 further reading hope you find the book useful i would be grateful for your feedback and suggestions happy learning'"
            ],
            "application/vnd.google.colaboratory.intrinsic+json": {
              "type": "string"
            }
          },
          "metadata": {},
          "execution_count": 106
        }
      ]
    },
    {
      "cell_type": "code",
      "source": [
        "true_output_vars['output_0']"
      ],
      "metadata": {
        "id": "pzALUI5phwzD",
        "outputId": "9ea1aeea-bb82-4853-9e59-f9ba86218e7c",
        "colab": {
          "base_uri": "https://localhost:8080/",
          "height": 139
        }
      },
      "id": "pzALUI5phwzD",
      "execution_count": null,
      "outputs": [
        {
          "output_type": "execute_result",
          "data": {
            "text/plain": [
              "'hello ive just released my book on python regular expressions and it is free to download till 13 jan 2019 you can still pay if you wish e book link you will continue to get free updates in future youll need to opt in to get notification via e mail github repo this book would help you learn regular expressions step by step with 200 examples from basics to advanced levels in addition to re module that comes with standard library the 3rd party regex module is covered as well exercises are also included to test your understanding table of contents 1 preface 2 why is it needed 3 regular expression modules 4 anchors 5 alternation and grouping 6 escaping metacharacters 7 dot metacharacter and quantifiers 8 working with matched portions 9 character class 10 groupings and backreferences 11 lookarounds 12 flags 13 unicode 14 miscellaneous 15 gotchas 16 further reading hope you find the book useful i would be grateful for your feedback and suggestions happy learning'"
            ],
            "application/vnd.google.colaboratory.intrinsic+json": {
              "type": "string"
            }
          },
          "metadata": {},
          "execution_count": 107
        }
      ]
    },
    {
      "cell_type": "markdown",
      "source": [
        "At a glance these look the same. Look a little close and the returned version might be longer? There's got to be a better way to compare strings than just looking at them! Try the tool linked in the propmt, <https://text-compare.com/>! \n",
        "\n",
        "We can see from the diff checker that the returned version has \"+\" which is not expected. Wasn't that one of the things we were supposed to deal with?"
      ],
      "metadata": {
        "id": "UxdMHqtMh53K"
      },
      "id": "UxdMHqtMh53K"
    },
    {
      "cell_type": "markdown",
      "metadata": {
        "nbgrader": {
          "grade": false,
          "locked": true,
          "solution": false
        },
        "id": "Ta8_VN7uA9kP"
      },
      "source": [
        "## Cosine Similarity\n",
        "**Read this if you want more information on how we are calculating similarity. All formulas will be given in the exercises where they are used.**\n",
        "\n",
        "The dictionaries we created for each post's text in the earlier exercises can also be thought of as vectors in a high dimensional space. In this context we can say that there is an angle $\\theta \\in [0, \\pi/2]$ between any two of these vectors $v_0$ and $v_1$. The more similar the two posts are, the smaller the angle will be, thus the larger $\\cos\\theta$ will be. We can calculate $\\cos\\theta$ with the following formula.  \n",
        "$$\\cos\\theta = \\frac{v_0 \\cdot v_1}{\\|v_0\\|\\|v_1\\|}$$\n",
        "Let's denote the *unit vectors* with the same direction as $v_0$ and $v_1$ by $\\hat{v_0}$ and $\\hat{v_1}$ respectively. Then the formula becomes simpler.  \n",
        "  \n",
        "$$\\cos\\theta = \\hat{v_0} \\cdot \\hat{v_1}$$\n",
        "We can calculate any unit vector $\\hat{v_i} \\in \\mathcal{R}^n$ with the following:\n",
        "$$\\hat{v_i} = \\frac{v_i}{\\|v_i\\|}$$\n",
        "where\n",
        "$$\\|v_i\\| = \\sqrt{\\sum_{j = 0}^{n-1}{v_{i,j}^2}}$$\n"
      ],
      "id": "Ta8_VN7uA9kP"
    },
    {
      "cell_type": "markdown",
      "metadata": {
        "nbgrader": {
          "grade": false,
          "locked": true,
          "solution": false
        },
        "tags": [
          "exercise_text"
        ],
        "id": "Vjfd7jvqA9kR"
      },
      "source": [
        "## Exercise 7 - (**1** Points): \n",
        "**Motivation (don't dwell on this)**\n",
        "\n",
        "Now that we have normalized word vectors for each post, it's time to implement the similarity calculation.\n",
        "\n",
        "**Requirements**\n",
        "\n",
        "Define `calc_similarity(vector_0, vector_1)`. The inputs `vector_0` and `vector_1` will be `dict`s mapping `str` to `float`. Perform the following calculations and return the end result.\n",
        "- Calculate the product of `vector_0[k]` times `vector_1[k]` for each key `k` that is present in **both** `vector_0` and `vector_1`.\n",
        "- Compute the sum of all these products **and round to 5 decimal places**.\n",
        "- Return the **rounded** sum as a `float`."
      ],
      "id": "Vjfd7jvqA9kR"
    },
    {
      "cell_type": "code",
      "execution_count": null,
      "metadata": {
        "collapsed": true,
        "nbgrader": {
          "grade": false,
          "locked": true,
          "solution": false
        },
        "tags": [
          "demo_data"
        ],
        "id": "ioomCiRfA9kR"
      },
      "outputs": [],
      "source": [
        "### Define demo inputs\n",
        "with open('resource/asnlib/publicdata/normalized_children.json') as f:\n",
        "    normalized_children = json.load(f)\n",
        "demo_vector_0_ex7 = {'python': 0.8, 'jupyter': 0.6}\n",
        "demo_vector_1_ex7 = {'python': 0.38461538461538464, 'code': 0.9230769230769231}"
      ],
      "id": "ioomCiRfA9kR"
    },
    {
      "cell_type": "markdown",
      "metadata": {
        "nbgrader": {
          "grade": false,
          "locked": true,
          "solution": false
        },
        "tags": [
          "demo_output_md"
        ],
        "id": "95miNeZDA9kS"
      },
      "source": [
        "<!-- Expected demo output text block -->\n",
        "The demo included in the solution cell below should display the following output:\n",
        "```\n",
        "0.30769\n",
        "1.0\n",
        "```\n",
        "<!-- Include any shout outs here -->\n",
        "**Note** This simplified example contains two runs of `normalize_vector`. The first run uses both demo inputs. The second run uses `demo_vector_0_ex7` as both `vector_0` and `vector_1` to illustrate that comparing a vector to itself should always give the result of `1.0` since $cos(0) = 1$."
      ],
      "id": "95miNeZDA9kS"
    },
    {
      "cell_type": "code",
      "execution_count": 128,
      "metadata": {
        "tags": [
          "exercise_solution"
        ],
        "id": "gID0CEbAA9kS",
        "outputId": "2af7642d-c359-4f1b-f3fc-3739024f8cfb",
        "colab": {
          "base_uri": "https://localhost:8080/"
        }
      },
      "outputs": [
        {
          "output_type": "stream",
          "name": "stdout",
          "text": [
            "0.30769\n",
            "1.0\n"
          ]
        }
      ],
      "source": [
        "### Exercise 7 solution\n",
        "def calc_similarity(vector_0, vector_1):\n",
        "    ### BEGIN SOLUTION\n",
        "    common_keys = vector_0.keys() & vector_1.keys()\n",
        "    def round_prod(key):\n",
        "        p = vector_0[key]*vector_1[key]\n",
        "        return round(p, 5)\n",
        "    sim = sum(round_prod(key) for key in common_keys)\n",
        "    return sim\n",
        "    ### END SOLUTION\n",
        "    \n",
        "### demo function call\n",
        "print(calc_similarity(demo_vector_0_ex7, demo_vector_1_ex7))\n",
        "print(calc_similarity(demo_vector_0_ex7, demo_vector_0_ex7))"
      ],
      "id": "gID0CEbAA9kS"
    },
    {
      "cell_type": "markdown",
      "metadata": {
        "nbgrader": {
          "grade": false,
          "locked": true,
          "solution": false
        },
        "tags": [
          "test_data_boilerplate"
        ],
        "id": "4EvJIGlCA9kS"
      },
      "source": [
        "<!-- Test Cell Boilerplate -->\n",
        "The cell below will test your solution for Exercise 7. The testing variables will be available for debugging under the following names in a dictionary format.\n",
        "- `input_vars` - Input variables for your solution. \n",
        "- `original_input_vars` - Copy of input variables from prior to running your solution. These _should_ be the same as `input_vars` - otherwise the inputs were modified by your solution.\n",
        "- `returned_output_vars` - Outputs returned by your solution.\n",
        "- `true_output_vars` - The expected output. This _should_ \"match\" `returned_output_vars` based on the question requirements - otherwise, your solution is not returning the correct output. "
      ],
      "id": "4EvJIGlCA9kS"
    },
    {
      "cell_type": "code",
      "execution_count": 129,
      "metadata": {
        "nbgrader": {
          "grade": true,
          "grade_id": "ex7",
          "locked": true,
          "points": "1",
          "solution": false
        },
        "tags": [],
        "id": "_ABFAwrWA9kS",
        "outputId": "28b936bc-a3fc-4dce-aba7-e8b72061dd4d",
        "colab": {
          "base_uri": "https://localhost:8080/",
          "height": 556
        }
      },
      "outputs": [
        {
          "output_type": "stream",
          "name": "stdout",
          "text": [
            "5e3f0d781ba1b93fcce1788f8448f8ec\n",
            "5e3f0d781ba1b93fcce1788f8448f8ec\n",
            "52243648c34549fa35bbbdf59ae56057\n",
            "52243648c34549fa35bbbdf59ae56057\n",
            "ed83b476ee8f414c417022217cf79354\n",
            "ed83b476ee8f414c417022217cf79354\n"
          ]
        },
        {
          "output_type": "error",
          "ename": "AssertionError",
          "evalue": "ignored",
          "traceback": [
            "\u001b[0;31m---------------------------------------------------------------------------\u001b[0m",
            "\u001b[0;31mAssertionError\u001b[0m                            Traceback (most recent call last)",
            "\u001b[0;32m<ipython-input-129-7e7d7d6aa2e5>\u001b[0m in \u001b[0;36m<module>\u001b[0;34m\u001b[0m\n\u001b[1;32m     42\u001b[0m \u001b[0;32mfor\u001b[0m \u001b[0m_\u001b[0m \u001b[0;32min\u001b[0m \u001b[0mrange\u001b[0m\u001b[0;34m(\u001b[0m\u001b[0;36m20\u001b[0m\u001b[0;34m)\u001b[0m\u001b[0;34m:\u001b[0m\u001b[0;34m\u001b[0m\u001b[0;34m\u001b[0m\u001b[0m\n\u001b[1;32m     43\u001b[0m     \u001b[0;32mtry\u001b[0m\u001b[0;34m:\u001b[0m\u001b[0;34m\u001b[0m\u001b[0;34m\u001b[0m\u001b[0m\n\u001b[0;32m---> 44\u001b[0;31m         \u001b[0mtester\u001b[0m\u001b[0;34m.\u001b[0m\u001b[0mrun_test\u001b[0m\u001b[0;34m(\u001b[0m\u001b[0;34m)\u001b[0m\u001b[0;34m\u001b[0m\u001b[0;34m\u001b[0m\u001b[0m\n\u001b[0m\u001b[1;32m     45\u001b[0m         \u001b[0;34m(\u001b[0m\u001b[0minput_vars\u001b[0m\u001b[0;34m,\u001b[0m \u001b[0moriginal_input_vars\u001b[0m\u001b[0;34m,\u001b[0m \u001b[0mreturned_output_vars\u001b[0m\u001b[0;34m,\u001b[0m \u001b[0mtrue_output_vars\u001b[0m\u001b[0;34m)\u001b[0m \u001b[0;34m=\u001b[0m \u001b[0mtester\u001b[0m\u001b[0;34m.\u001b[0m\u001b[0mget_test_vars\u001b[0m\u001b[0;34m(\u001b[0m\u001b[0;34m)\u001b[0m\u001b[0;34m\u001b[0m\u001b[0;34m\u001b[0m\u001b[0m\n\u001b[1;32m     46\u001b[0m     \u001b[0;32mexcept\u001b[0m\u001b[0;34m:\u001b[0m\u001b[0;34m\u001b[0m\u001b[0;34m\u001b[0m\u001b[0m\n",
            "\u001b[0;32m/content/tester_fw/testers.py\u001b[0m in \u001b[0;36mrun_test\u001b[0;34m(self, func)\u001b[0m\n\u001b[1;32m     36\u001b[0m \u001b[0;34m\u001b[0m\u001b[0m\n\u001b[1;32m     37\u001b[0m     \u001b[0;32mdef\u001b[0m \u001b[0mrun_test\u001b[0m\u001b[0;34m(\u001b[0m\u001b[0mself\u001b[0m\u001b[0;34m,\u001b[0m \u001b[0mfunc\u001b[0m\u001b[0;34m=\u001b[0m\u001b[0;32mNone\u001b[0m\u001b[0;34m)\u001b[0m\u001b[0;34m:\u001b[0m\u001b[0;34m\u001b[0m\u001b[0;34m\u001b[0m\u001b[0m\n\u001b[0;32m---> 38\u001b[0;31m         \u001b[0;32mreturn\u001b[0m \u001b[0msuper\u001b[0m\u001b[0;34m(\u001b[0m\u001b[0;34m)\u001b[0m\u001b[0;34m.\u001b[0m\u001b[0mrun_test\u001b[0m\u001b[0;34m(\u001b[0m\u001b[0mself\u001b[0m\u001b[0;34m.\u001b[0m\u001b[0mfunc\u001b[0m\u001b[0;34m)\u001b[0m\u001b[0;34m\u001b[0m\u001b[0;34m\u001b[0m\u001b[0m\n\u001b[0m\u001b[1;32m     39\u001b[0m \u001b[0;34m\u001b[0m\u001b[0m\n\u001b[1;32m     40\u001b[0m     \u001b[0;32mdef\u001b[0m \u001b[0mbuild_vars\u001b[0m\u001b[0;34m(\u001b[0m\u001b[0mself\u001b[0m\u001b[0;34m)\u001b[0m\u001b[0;34m:\u001b[0m\u001b[0;34m\u001b[0m\u001b[0;34m\u001b[0m\u001b[0m\n",
            "\u001b[0;32m/content/tester_fw/__init__.py\u001b[0m in \u001b[0;36mrun_test\u001b[0;34m(self, func)\u001b[0m\n\u001b[1;32m     43\u001b[0m             \u001b[0mself\u001b[0m\u001b[0;34m.\u001b[0m\u001b[0mcheck_modified\u001b[0m\u001b[0;34m(\u001b[0m\u001b[0;34m)\u001b[0m    \u001b[0;31m# Check to verify inputs were not modified\u001b[0m\u001b[0;34m\u001b[0m\u001b[0;34m\u001b[0m\u001b[0m\n\u001b[1;32m     44\u001b[0m         \u001b[0mself\u001b[0m\u001b[0;34m.\u001b[0m\u001b[0mcheck_type\u001b[0m\u001b[0;34m(\u001b[0m\u001b[0;34m)\u001b[0m        \u001b[0;31m# Check to verify correct output types\u001b[0m\u001b[0;34m\u001b[0m\u001b[0;34m\u001b[0m\u001b[0m\n\u001b[0;32m---> 45\u001b[0;31m         \u001b[0mself\u001b[0m\u001b[0;34m.\u001b[0m\u001b[0mcheck_matches\u001b[0m\u001b[0;34m(\u001b[0m\u001b[0;34m)\u001b[0m     \u001b[0;31m# Check to verify correct output\u001b[0m\u001b[0;34m\u001b[0m\u001b[0;34m\u001b[0m\u001b[0m\n\u001b[0m\u001b[1;32m     46\u001b[0m \u001b[0;34m\u001b[0m\u001b[0m\n\u001b[1;32m     47\u001b[0m \u001b[0;34m\u001b[0m\u001b[0m\n",
            "\u001b[0;32m/content/tester_fw/testers.py\u001b[0m in \u001b[0;36mcheck_matches\u001b[0;34m(self)\u001b[0m\n\u001b[1;32m     77\u001b[0m         \u001b[0;32mfor\u001b[0m \u001b[0mout_key\u001b[0m\u001b[0;34m,\u001b[0m \u001b[0mout_dict\u001b[0m \u001b[0;32min\u001b[0m \u001b[0mself\u001b[0m\u001b[0;34m.\u001b[0m\u001b[0mconf_outputs\u001b[0m\u001b[0;34m.\u001b[0m\u001b[0mitems\u001b[0m\u001b[0;34m(\u001b[0m\u001b[0;34m)\u001b[0m\u001b[0;34m:\u001b[0m\u001b[0;34m\u001b[0m\u001b[0;34m\u001b[0m\u001b[0m\n\u001b[1;32m     78\u001b[0m             \u001b[0mtest_var\u001b[0m \u001b[0;34m=\u001b[0m \u001b[0mself\u001b[0m\u001b[0;34m.\u001b[0m\u001b[0mreturned_output_vars\u001b[0m\u001b[0;34m[\u001b[0m\u001b[0mout_key\u001b[0m\u001b[0;34m]\u001b[0m\u001b[0;34m\u001b[0m\u001b[0;34m\u001b[0m\u001b[0m\n\u001b[0;32m---> 79\u001b[0;31m             assert test_utils.compare_copies(a=test_var,\n\u001b[0m\u001b[1;32m     80\u001b[0m                                             \u001b[0mb\u001b[0m\u001b[0;34m=\u001b[0m\u001b[0mself\u001b[0m\u001b[0;34m.\u001b[0m\u001b[0mtrue_output_vars\u001b[0m\u001b[0;34m[\u001b[0m\u001b[0mout_key\u001b[0m\u001b[0;34m]\u001b[0m\u001b[0;34m,\u001b[0m\u001b[0;34m\u001b[0m\u001b[0;34m\u001b[0m\u001b[0m\n\u001b[1;32m     81\u001b[0m                                             \u001b[0mtol\u001b[0m\u001b[0;34m=\u001b[0m\u001b[0mout_dict\u001b[0m\u001b[0;34m[\u001b[0m\u001b[0;34m'float_tolerance'\u001b[0m\u001b[0;34m]\u001b[0m\u001b[0;34m,\u001b[0m\u001b[0;34m\u001b[0m\u001b[0;34m\u001b[0m\u001b[0m\n",
            "\u001b[0;31mAssertionError\u001b[0m: \nOutput for output_0 is incorrect.\nThe returned result is available as `returned_output_vars['output_0']`\nThe expected result is available as `true_output_vars['output_0']`\n            "
          ]
        }
      ],
      "source": [
        "### test_cell_ex7\n",
        "### BEGIN HIDDEN TESTS\n",
        "import dill\n",
        "import hashlib\n",
        "with open('resource/asnlib/public/hash_check.pkl', 'rb') as f:\n",
        "    hash_check = dill.load(f)\n",
        "for fname in ['testers.py', '__init__.py', 'test_utils.py']:\n",
        "    hash_check(f'tester_fw/{fname}', f'resource/asnlib/public/{fname}')\n",
        "del hash_check\n",
        "del dill\n",
        "del hashlib\n",
        "### END HIDDEN TESTS\n",
        "from tester_fw.testers import Tester\n",
        "\n",
        "conf = {\n",
        "    'case_file':'tc_7', \n",
        "    'func': calc_similarity, # replace this with the function defined above\n",
        "    'inputs':{ # input config dict. keys are parameter names\n",
        "        'vector_0':{\n",
        "            'dtype':'dict', # data type of param.\n",
        "            'check_modified':True,\n",
        "        },\n",
        "        'vector_1':{\n",
        "            'dtype':'dict', # data type of param.\n",
        "            'check_modified':True,\n",
        "        }\n",
        "    },\n",
        "    'outputs':{\n",
        "        'output_0':{\n",
        "            'index':0,\n",
        "            'dtype':'',\n",
        "            'check_dtype': True,\n",
        "            'check_col_dtypes': True, # Ignored if dtype is not df\n",
        "            'check_col_order': True, # Ignored if dtype is not df\n",
        "            'check_row_order': True, # Ignored if dtype is not df\n",
        "            'check_column_type': True, # Ignored if dtype is not df\n",
        "            'float_tolerance': 10 ** (-6)\n",
        "        }\n",
        "    }\n",
        "}\n",
        "tester = Tester(conf, key=b'S90rT5WLPFy08a82F6SXyiKoyeTi33DOHh7bxXASQw0=', path='resource/asnlib/publicdata/')\n",
        "for _ in range(20):\n",
        "    try:\n",
        "        tester.run_test()\n",
        "        (input_vars, original_input_vars, returned_output_vars, true_output_vars) = tester.get_test_vars()\n",
        "    except:\n",
        "        (input_vars, original_input_vars, returned_output_vars, true_output_vars) = tester.get_test_vars()\n",
        "        raise\n",
        "\n",
        "### BEGIN HIDDEN TESTS\n",
        "tester = Tester(conf, key=b'bE_KdJGq_bhBuoTZRi37O7tu3s38ac4bJUsgUEXnK8s=', path='resource/asnlib/publicdata/encrypted/')\n",
        "for _ in range(20):\n",
        "    try:\n",
        "        tester.run_test()\n",
        "        (input_vars, original_input_vars, returned_output_vars, true_output_vars) = tester.get_test_vars()\n",
        "    except:\n",
        "        (input_vars, original_input_vars, returned_output_vars, true_output_vars) = tester.get_test_vars()\n",
        "        raise\n",
        "### END HIDDEN TESTS\n",
        "print('Passed! Please submit.')"
      ],
      "id": "_ABFAwrWA9kS"
    },
    {
      "cell_type": "markdown",
      "source": [
        "More problems! Let's do the type checking exercise again."
      ],
      "metadata": {
        "id": "U9Hc5CBw2jur"
      },
      "id": "U9Hc5CBw2jur"
    },
    {
      "cell_type": "code",
      "source": [
        "assert isinstance(returned_output_vars['output_0'], type(true_output_vars['output_0'])), 'type mismatch'\n",
        "type(true_output_vars['output_0'])"
      ],
      "metadata": {
        "id": "9Tk81GEL2sPA",
        "outputId": "ff0e93a0-b335-40c7-b7a6-77a3173d54dc",
        "colab": {
          "base_uri": "https://localhost:8080/"
        }
      },
      "id": "9Tk81GEL2sPA",
      "execution_count": 130,
      "outputs": [
        {
          "output_type": "execute_result",
          "data": {
            "text/plain": [
              "float"
            ]
          },
          "metadata": {},
          "execution_count": 130
        }
      ]
    },
    {
      "cell_type": "markdown",
      "source": [
        "We're dealing with `float`s this time. Let's see what the absolute difference between our answer and the real answer is."
      ],
      "metadata": {
        "id": "V-tYJOwJ29R0"
      },
      "id": "V-tYJOwJ29R0"
    },
    {
      "cell_type": "code",
      "source": [
        "abs(returned_output_vars['output_0'] - true_output_vars['output_0'])"
      ],
      "metadata": {
        "id": "SJbFR-t43F4z",
        "outputId": "e196accf-c5d7-4e20-d8f6-1ad42932d9b2",
        "colab": {
          "base_uri": "https://localhost:8080/"
        }
      },
      "id": "SJbFR-t43F4z",
      "execution_count": 131,
      "outputs": [
        {
          "output_type": "execute_result",
          "data": {
            "text/plain": [
              "9.999999999999593e-06"
            ]
          },
          "metadata": {},
          "execution_count": 131
        }
      ]
    },
    {
      "cell_type": "markdown",
      "source": [
        "That's a pretty small difference, but it's larger than the tolerance. You can see the tolerance in the test cell. Let's take a look at the values themselves."
      ],
      "metadata": {
        "id": "mHf3PJ-E3VHx"
      },
      "id": "mHf3PJ-E3VHx"
    },
    {
      "cell_type": "code",
      "source": [
        "returned_output_vars['output_0']"
      ],
      "metadata": {
        "id": "ljmc_IvB3ik2",
        "outputId": "a15a7921-4e40-42dc-a5ff-cbe8fc0acb39",
        "colab": {
          "base_uri": "https://localhost:8080/"
        }
      },
      "id": "ljmc_IvB3ik2",
      "execution_count": 132,
      "outputs": [
        {
          "output_type": "execute_result",
          "data": {
            "text/plain": [
              "0.03039"
            ]
          },
          "metadata": {},
          "execution_count": 132
        }
      ]
    },
    {
      "cell_type": "code",
      "source": [
        "true_output_vars['output_0']"
      ],
      "metadata": {
        "id": "XT3EY5mT3j0m",
        "outputId": "c0c6be27-8734-47dd-f491-0f5ec6aa6a1c",
        "colab": {
          "base_uri": "https://localhost:8080/"
        }
      },
      "id": "XT3EY5mT3j0m",
      "execution_count": 133,
      "outputs": [
        {
          "output_type": "execute_result",
          "data": {
            "text/plain": [
              "0.03038"
            ]
          },
          "metadata": {},
          "execution_count": 133
        }
      ]
    },
    {
      "cell_type": "markdown",
      "source": [
        "Somehow we're calculating the last digit incorrectly, but only sometimes. We know it's only sometimes because the demo has the right answer. How can we proceed? Let's extract the inputs and do some trial and error."
      ],
      "metadata": {
        "id": "6Qm8ngV733Mv"
      },
      "id": "6Qm8ngV733Mv"
    },
    {
      "cell_type": "code",
      "source": [
        "### Exercise 7 solution\n",
        "def calc_similarity(vector_0, vector_1):\n",
        "    ### BEGIN SOLUTION\n",
        "    print() # let's make a blank line to differentiate the runs\n",
        "    common_keys = list(vector_0.keys() & vector_1.keys())\n",
        "    print({k: (vector_0[k], vector_1[k]) for k in common_keys}) # let's see what we're multiplying\n",
        "    def round_prod(key):\n",
        "        p = vector_0[key]*vector_1[key]\n",
        "        return round(p, 5)\n",
        "    print({key: round_prod(key) for key in common_keys}) # let's see the products we're adding up\n",
        "    sim = sum(round_prod(key) for key in common_keys)\n",
        "    return sim\n",
        "    ### END SOLUTION\n",
        "    \n",
        "### demo function call\n",
        "print(calc_similarity(demo_vector_0_ex7, demo_vector_1_ex7))\n",
        "print(calc_similarity(demo_vector_0_ex7, demo_vector_0_ex7))\n",
        "### add this additional check\n",
        "print(calc_similarity(**original_input_vars)) "
      ],
      "metadata": {
        "id": "HWEYRshM4zCV",
        "outputId": "2f6b5f04-6791-4d68-8759-9665efc8bb60",
        "colab": {
          "base_uri": "https://localhost:8080/"
        }
      },
      "id": "HWEYRshM4zCV",
      "execution_count": 141,
      "outputs": [
        {
          "output_type": "stream",
          "name": "stdout",
          "text": [
            "\n",
            "{'python': (0.8, 0.38461538461538464)}\n",
            "{'python': 0.30769}\n",
            "0.30769\n",
            "\n",
            "{'python': (0.8, 0.8), 'jupyter': (0.6, 0.6)}\n",
            "{'python': 0.64, 'jupyter': 0.36}\n",
            "1.0\n",
            "\n",
            "{'one': (0.05006261743217589, 0.13483997249264842), 'every': (0.05006261743217589, 0.06741998624632421), 'automate': (0.05006261743217589, 0.06741998624632421), 'currently': (0.05006261743217589, 0.06741998624632421), 'excel': (0.10012523486435178, 0.06741998624632421), 'first': (0.10012523486435178, 0.06741998624632421)}\n",
            "{'one': 0.00675, 'every': 0.00338, 'automate': 0.00338, 'currently': 0.00338, 'excel': 0.00675, 'first': 0.00675}\n",
            "0.03039\n"
          ]
        }
      ]
    },
    {
      "cell_type": "markdown",
      "source": [
        "We're rounding the products before adding. It didn't matter in the first example in the demo because there's only one product. In the second product there's nothing to round, so it doesn't matter there either. The test cell example has multiple terms and they're all more precise than 5 decimal places, but we rounded them. Maybe that matters? (A closer read of the prompt should inform you that it does!)"
      ],
      "metadata": {
        "id": "_VNYz3a_70zO"
      },
      "id": "_VNYz3a_70zO"
    },
    {
      "cell_type": "markdown",
      "metadata": {
        "nbgrader": {
          "grade": false,
          "locked": true,
          "solution": false
        },
        "tags": [
          "exercise_text"
        ],
        "id": "XCgTjseVA9kT"
      },
      "source": [
        "## Exercise 8 - (**3** Points): \n",
        "\n",
        "**Motivation (don't dwell on this)** \n",
        "\n",
        "We are interested in identifying the posts which are most similar to a given post. We have already done all of the math to capture that information, but it's in yet another huge JSON. \n",
        "\n",
        "**Requirements**\n",
        "\n",
        "Define `n_most_similar(sim_matrix, post_id, n)`. The input `sim_matrix` will be a nested `dict` with the same structure as `similarity_matrix` described in the cell above. The input `post_id` will be the id of the post we are interested in and will be a key of `sim_matrix`. The function should do the following:\n",
        "\n",
        "- Get the \"similarity vector\" (`sim_matrix[post_id]`).\n",
        "- Sort the key/value pairs based on the similarity score. It is recommended but not required to have a `list` of `tuples` for this intermediate result. They should be sorted in *descending* order of similarity. If there are ties (2 or more posts with the same similarity to `post_id`) then break the ties by sorting them into alphabetical order.\n",
        "- Return a `list` of `tuples` of length `n+1` containing `post_id` and the `n` most similar posts. Tuples should be of the form (post id (`str`), similarity score (`float`)) \n",
        "\n",
        "**Note** the post associated with `post_id` will always be at the top of the list since it will have a similarity of `1.0` to itself."
      ],
      "id": "XCgTjseVA9kT"
    },
    {
      "cell_type": "code",
      "execution_count": null,
      "metadata": {
        "collapsed": true,
        "nbgrader": {
          "grade": false,
          "locked": true,
          "solution": false
        },
        "tags": [
          "demo_data"
        ],
        "id": "SGlwizJ4A9kT"
      },
      "outputs": [],
      "source": [
        "### Define demo inputs\n",
        "\n",
        "with open('resource/asnlib/publicdata/similarity_matrix.json') as f:\n",
        "    similarity_matrix = json.load(f)\n",
        "\n",
        "demo_sim_matrix_ex8 = {\n",
        "  'post_0': {'post_0': 1.0,    'post_1': 0.79686,'post_2': 0.67635,'post_3': 0.52459,'post_4': 0.2334},\n",
        "  'post_1': {'post_0': 0.79686,'post_1': 1.0,    'post_2': 0.65699,'post_3': 0.45758,'post_4': 0.11308},\n",
        "  'post_2': {'post_0': 0.67635,'post_1': 0.65699,'post_2': 1.0,    'post_3': 0.51968,'post_4': 0.16411},\n",
        "  'post_3': {'post_0': 0.52459,'post_1': 0.45758,'post_2': 0.51968,'post_3': 1.0,    'post_4': 0.33981},\n",
        "  'post_4': {'post_0': 0.2334, 'post_1': 0.11308,'post_2': 0.16411,'post_3': 0.33981,'post_4': 1.0}}\n",
        "\n",
        "demo_n_ex8 = 2\n",
        "demo_post_id_0 = 'post_0'\n",
        "demo_post_id_1 = 'post_3'"
      ],
      "id": "SGlwizJ4A9kT"
    },
    {
      "cell_type": "markdown",
      "metadata": {
        "nbgrader": {
          "grade": false,
          "locked": true,
          "solution": false
        },
        "tags": [
          "demo_output_md"
        ],
        "id": "jUV_8TiWA9kU"
      },
      "source": [
        "<!-- Expected demo output text block -->\n",
        "The demo included in the solution cell below should display the following output:\n",
        "```\n",
        "[('post_0', 1.0), ('post_1', 0.79686), ('post_2', 0.67635)]\n",
        "\n",
        "[('post_3', 1.0), ('post_0', 0.52459), ('post_2', 0.51968)]\n",
        "```\n",
        "**Note** This demo calls `n_most_similar` twice. The outputs are separated by a blank line. The first uses `demo_post_id_0` as `post_id`, and the second uses `demo_post_id_1` as `post_id`."
      ],
      "id": "jUV_8TiWA9kU"
    },
    {
      "cell_type": "code",
      "execution_count": 142,
      "metadata": {
        "tags": [
          "exercise_solution"
        ],
        "id": "16cdkXpqA9kU",
        "outputId": "e936ede4-957c-4c66-d87c-b86d8ff20619",
        "colab": {
          "base_uri": "https://localhost:8080/"
        }
      },
      "outputs": [
        {
          "output_type": "stream",
          "name": "stdout",
          "text": [
            "[('post_0', 1.0), ('post_1', 0.79686), ('post_2', 0.67635)]\n",
            "\n",
            "[('post_3', 1.0), ('post_0', 0.52459), ('post_2', 0.51968)]\n"
          ]
        }
      ],
      "source": [
        "### Exercise 8 solution\n",
        "def n_most_similar(sim_matrix, post_id, n):\n",
        "    ### BEGIN SOLUTION\n",
        "    sims = sorted(sim_matrix[post_id].items(), key=lambda x: -x[1])\n",
        "    return sims[:n+1]\n",
        "    ### END SOLUTION\n",
        "    \n",
        "print(n_most_similar(demo_sim_matrix_ex8, demo_post_id_0, demo_n_ex8))\n",
        "print()\n",
        "print(n_most_similar(demo_sim_matrix_ex8, demo_post_id_1, demo_n_ex8))"
      ],
      "id": "16cdkXpqA9kU"
    },
    {
      "cell_type": "markdown",
      "metadata": {
        "nbgrader": {
          "grade": false,
          "locked": true,
          "solution": false
        },
        "tags": [
          "test_data_boilerplate"
        ],
        "id": "lZWj0x8FA9kU"
      },
      "source": [
        "<!-- Test Cell Boilerplate -->\n",
        "The cell below will test your solution for Exercise 8. The testing variables will be available for debugging under the following names in a dictionary format.\n",
        "- `input_vars` - Input variables for your solution. \n",
        "- `original_input_vars` - Copy of input variables from prior to running your solution. These _should_ be the same as `input_vars` - otherwise the inputs were modified by your solution.\n",
        "- `returned_output_vars` - Outputs returned by your solution.\n",
        "- `true_output_vars` - The expected output. This _should_ \"match\" `returned_output_vars` based on the question requirements - otherwise, your solution is not returning the correct output. "
      ],
      "id": "lZWj0x8FA9kU"
    },
    {
      "cell_type": "code",
      "execution_count": 143,
      "metadata": {
        "nbgrader": {
          "grade": true,
          "grade_id": "ex8",
          "locked": true,
          "points": "3",
          "solution": false
        },
        "tags": [],
        "id": "h4WI7dolA9kV",
        "outputId": "1f298763-361e-4283-8856-90df76011868",
        "colab": {
          "base_uri": "https://localhost:8080/",
          "height": 556
        }
      },
      "outputs": [
        {
          "output_type": "stream",
          "name": "stdout",
          "text": [
            "5e3f0d781ba1b93fcce1788f8448f8ec\n",
            "5e3f0d781ba1b93fcce1788f8448f8ec\n",
            "52243648c34549fa35bbbdf59ae56057\n",
            "52243648c34549fa35bbbdf59ae56057\n",
            "ed83b476ee8f414c417022217cf79354\n",
            "ed83b476ee8f414c417022217cf79354\n"
          ]
        },
        {
          "output_type": "error",
          "ename": "AssertionError",
          "evalue": "ignored",
          "traceback": [
            "\u001b[0;31m---------------------------------------------------------------------------\u001b[0m",
            "\u001b[0;31mAssertionError\u001b[0m                            Traceback (most recent call last)",
            "\u001b[0;32m<ipython-input-143-9b6c41155ab4>\u001b[0m in \u001b[0;36m<module>\u001b[0;34m\u001b[0m\n\u001b[1;32m     46\u001b[0m \u001b[0;32mfor\u001b[0m \u001b[0m_\u001b[0m \u001b[0;32min\u001b[0m \u001b[0mrange\u001b[0m\u001b[0;34m(\u001b[0m\u001b[0;36m100\u001b[0m\u001b[0;34m)\u001b[0m\u001b[0;34m:\u001b[0m\u001b[0;34m\u001b[0m\u001b[0;34m\u001b[0m\u001b[0m\n\u001b[1;32m     47\u001b[0m     \u001b[0;32mtry\u001b[0m\u001b[0;34m:\u001b[0m\u001b[0;34m\u001b[0m\u001b[0;34m\u001b[0m\u001b[0m\n\u001b[0;32m---> 48\u001b[0;31m         \u001b[0mtester\u001b[0m\u001b[0;34m.\u001b[0m\u001b[0mrun_test\u001b[0m\u001b[0;34m(\u001b[0m\u001b[0;34m)\u001b[0m\u001b[0;34m\u001b[0m\u001b[0;34m\u001b[0m\u001b[0m\n\u001b[0m\u001b[1;32m     49\u001b[0m         \u001b[0;34m(\u001b[0m\u001b[0minput_vars\u001b[0m\u001b[0;34m,\u001b[0m \u001b[0moriginal_input_vars\u001b[0m\u001b[0;34m,\u001b[0m \u001b[0mreturned_output_vars\u001b[0m\u001b[0;34m,\u001b[0m \u001b[0mtrue_output_vars\u001b[0m\u001b[0;34m)\u001b[0m \u001b[0;34m=\u001b[0m \u001b[0mtester\u001b[0m\u001b[0;34m.\u001b[0m\u001b[0mget_test_vars\u001b[0m\u001b[0;34m(\u001b[0m\u001b[0;34m)\u001b[0m\u001b[0;34m\u001b[0m\u001b[0;34m\u001b[0m\u001b[0m\n\u001b[1;32m     50\u001b[0m     \u001b[0;32mexcept\u001b[0m\u001b[0;34m:\u001b[0m\u001b[0;34m\u001b[0m\u001b[0;34m\u001b[0m\u001b[0m\n",
            "\u001b[0;32m/content/tester_fw/testers.py\u001b[0m in \u001b[0;36mrun_test\u001b[0;34m(self, func)\u001b[0m\n\u001b[1;32m     36\u001b[0m \u001b[0;34m\u001b[0m\u001b[0m\n\u001b[1;32m     37\u001b[0m     \u001b[0;32mdef\u001b[0m \u001b[0mrun_test\u001b[0m\u001b[0;34m(\u001b[0m\u001b[0mself\u001b[0m\u001b[0;34m,\u001b[0m \u001b[0mfunc\u001b[0m\u001b[0;34m=\u001b[0m\u001b[0;32mNone\u001b[0m\u001b[0;34m)\u001b[0m\u001b[0;34m:\u001b[0m\u001b[0;34m\u001b[0m\u001b[0;34m\u001b[0m\u001b[0m\n\u001b[0;32m---> 38\u001b[0;31m         \u001b[0;32mreturn\u001b[0m \u001b[0msuper\u001b[0m\u001b[0;34m(\u001b[0m\u001b[0;34m)\u001b[0m\u001b[0;34m.\u001b[0m\u001b[0mrun_test\u001b[0m\u001b[0;34m(\u001b[0m\u001b[0mself\u001b[0m\u001b[0;34m.\u001b[0m\u001b[0mfunc\u001b[0m\u001b[0;34m)\u001b[0m\u001b[0;34m\u001b[0m\u001b[0;34m\u001b[0m\u001b[0m\n\u001b[0m\u001b[1;32m     39\u001b[0m \u001b[0;34m\u001b[0m\u001b[0m\n\u001b[1;32m     40\u001b[0m     \u001b[0;32mdef\u001b[0m \u001b[0mbuild_vars\u001b[0m\u001b[0;34m(\u001b[0m\u001b[0mself\u001b[0m\u001b[0;34m)\u001b[0m\u001b[0;34m:\u001b[0m\u001b[0;34m\u001b[0m\u001b[0;34m\u001b[0m\u001b[0m\n",
            "\u001b[0;32m/content/tester_fw/__init__.py\u001b[0m in \u001b[0;36mrun_test\u001b[0;34m(self, func)\u001b[0m\n\u001b[1;32m     43\u001b[0m             \u001b[0mself\u001b[0m\u001b[0;34m.\u001b[0m\u001b[0mcheck_modified\u001b[0m\u001b[0;34m(\u001b[0m\u001b[0;34m)\u001b[0m    \u001b[0;31m# Check to verify inputs were not modified\u001b[0m\u001b[0;34m\u001b[0m\u001b[0;34m\u001b[0m\u001b[0m\n\u001b[1;32m     44\u001b[0m         \u001b[0mself\u001b[0m\u001b[0;34m.\u001b[0m\u001b[0mcheck_type\u001b[0m\u001b[0;34m(\u001b[0m\u001b[0;34m)\u001b[0m        \u001b[0;31m# Check to verify correct output types\u001b[0m\u001b[0;34m\u001b[0m\u001b[0;34m\u001b[0m\u001b[0m\n\u001b[0;32m---> 45\u001b[0;31m         \u001b[0mself\u001b[0m\u001b[0;34m.\u001b[0m\u001b[0mcheck_matches\u001b[0m\u001b[0;34m(\u001b[0m\u001b[0;34m)\u001b[0m     \u001b[0;31m# Check to verify correct output\u001b[0m\u001b[0;34m\u001b[0m\u001b[0;34m\u001b[0m\u001b[0m\n\u001b[0m\u001b[1;32m     46\u001b[0m \u001b[0;34m\u001b[0m\u001b[0m\n\u001b[1;32m     47\u001b[0m \u001b[0;34m\u001b[0m\u001b[0m\n",
            "\u001b[0;32m/content/tester_fw/testers.py\u001b[0m in \u001b[0;36mcheck_matches\u001b[0;34m(self)\u001b[0m\n\u001b[1;32m     77\u001b[0m         \u001b[0;32mfor\u001b[0m \u001b[0mout_key\u001b[0m\u001b[0;34m,\u001b[0m \u001b[0mout_dict\u001b[0m \u001b[0;32min\u001b[0m \u001b[0mself\u001b[0m\u001b[0;34m.\u001b[0m\u001b[0mconf_outputs\u001b[0m\u001b[0;34m.\u001b[0m\u001b[0mitems\u001b[0m\u001b[0;34m(\u001b[0m\u001b[0;34m)\u001b[0m\u001b[0;34m:\u001b[0m\u001b[0;34m\u001b[0m\u001b[0;34m\u001b[0m\u001b[0m\n\u001b[1;32m     78\u001b[0m             \u001b[0mtest_var\u001b[0m \u001b[0;34m=\u001b[0m \u001b[0mself\u001b[0m\u001b[0;34m.\u001b[0m\u001b[0mreturned_output_vars\u001b[0m\u001b[0;34m[\u001b[0m\u001b[0mout_key\u001b[0m\u001b[0;34m]\u001b[0m\u001b[0;34m\u001b[0m\u001b[0;34m\u001b[0m\u001b[0m\n\u001b[0;32m---> 79\u001b[0;31m             assert test_utils.compare_copies(a=test_var,\n\u001b[0m\u001b[1;32m     80\u001b[0m                                             \u001b[0mb\u001b[0m\u001b[0;34m=\u001b[0m\u001b[0mself\u001b[0m\u001b[0;34m.\u001b[0m\u001b[0mtrue_output_vars\u001b[0m\u001b[0;34m[\u001b[0m\u001b[0mout_key\u001b[0m\u001b[0;34m]\u001b[0m\u001b[0;34m,\u001b[0m\u001b[0;34m\u001b[0m\u001b[0;34m\u001b[0m\u001b[0m\n\u001b[1;32m     81\u001b[0m                                             \u001b[0mtol\u001b[0m\u001b[0;34m=\u001b[0m\u001b[0mout_dict\u001b[0m\u001b[0;34m[\u001b[0m\u001b[0;34m'float_tolerance'\u001b[0m\u001b[0;34m]\u001b[0m\u001b[0;34m,\u001b[0m\u001b[0;34m\u001b[0m\u001b[0;34m\u001b[0m\u001b[0m\n",
            "\u001b[0;31mAssertionError\u001b[0m: \nOutput for output_0 is incorrect.\nThe returned result is available as `returned_output_vars['output_0']`\nThe expected result is available as `true_output_vars['output_0']`\n            "
          ]
        }
      ],
      "source": [
        "### test_cell_ex8\n",
        "### BEGIN HIDDEN TESTS\n",
        "import dill\n",
        "import hashlib\n",
        "with open('resource/asnlib/public/hash_check.pkl', 'rb') as f:\n",
        "    hash_check = dill.load(f)\n",
        "for fname in ['testers.py', '__init__.py', 'test_utils.py']:\n",
        "    hash_check(f'tester_fw/{fname}', f'resource/asnlib/public/{fname}')\n",
        "del hash_check\n",
        "del dill\n",
        "del hashlib\n",
        "### END HIDDEN TESTS\n",
        "from tester_fw.testers import Tester\n",
        "\n",
        "conf = {\n",
        "    'case_file':'tc_8', \n",
        "    'func': n_most_similar, # replace this with the function defined above\n",
        "    'inputs':{ # input config dict. keys are parameter names\n",
        "        'sim_matrix':{\n",
        "            'dtype':'dict', # data type of param.\n",
        "            'check_modified':True,\n",
        "        },\n",
        "        'post_id':{\n",
        "            'dtype':'str', # data type of param.\n",
        "            'check_modified':True,\n",
        "        },\n",
        "        'n':{\n",
        "            'dtype':'int', # data type of param.\n",
        "            'check_modified':True,\n",
        "        }\n",
        "    },\n",
        "    'outputs':{\n",
        "        'output_0':{\n",
        "            'index':0,\n",
        "            'dtype':'',\n",
        "            'check_dtype': True,\n",
        "            'check_col_dtypes': True, # Ignored if dtype is not df\n",
        "            'check_col_order': True, # Ignored if dtype is not df\n",
        "            'check_row_order': True, # Ignored if dtype is not df\n",
        "            'check_column_type': True, # Ignored if dtype is not df\n",
        "            'float_tolerance': 10 ** (-6)\n",
        "        }\n",
        "    }\n",
        "}\n",
        "tester = Tester(conf, key=b'S90rT5WLPFy08a82F6SXyiKoyeTi33DOHh7bxXASQw0=', path='resource/asnlib/publicdata/')\n",
        "for _ in range(100):\n",
        "    try:\n",
        "        tester.run_test()\n",
        "        (input_vars, original_input_vars, returned_output_vars, true_output_vars) = tester.get_test_vars()\n",
        "    except:\n",
        "        (input_vars, original_input_vars, returned_output_vars, true_output_vars) = tester.get_test_vars()\n",
        "        raise\n",
        "\n",
        "### BEGIN HIDDEN TESTS\n",
        "tester = Tester(conf, key=b'bE_KdJGq_bhBuoTZRi37O7tu3s38ac4bJUsgUEXnK8s=', path='resource/asnlib/publicdata/encrypted/')\n",
        "for _ in range(100):\n",
        "    try:\n",
        "        tester.run_test()\n",
        "        (input_vars, original_input_vars, returned_output_vars, true_output_vars) = tester.get_test_vars()\n",
        "    except:\n",
        "        (input_vars, original_input_vars, returned_output_vars, true_output_vars) = tester.get_test_vars()\n",
        "        raise\n",
        "### END HIDDEN TESTS\n",
        "print('Passed! Please submit.')"
      ],
      "id": "h4WI7dolA9kV"
    },
    {
      "cell_type": "markdown",
      "metadata": {
        "nbgrader": {
          "grade": false,
          "locked": true,
          "solution": false
        },
        "tags": [
          "fin"
        ],
        "id": "QtWRsjqqA9kW"
      },
      "source": [
        "Yet again we have some faulty code! Debugging this one will be left up to you, although we're going to (time permits) cover it in the associated session."
      ],
      "id": "QtWRsjqqA9kW"
    },
    {
      "cell_type": "code",
      "source": [],
      "metadata": {
        "id": "ucjxtRXD96Fk"
      },
      "id": "ucjxtRXD96Fk",
      "execution_count": null,
      "outputs": []
    }
  ],
  "metadata": {
    "kernelspec": {
      "display_name": "Python 3.8",
      "language": "python",
      "name": "python38"
    },
    "language_info": {
      "codemirror_mode": {
        "name": "ipython",
        "version": 3
      },
      "file_extension": ".py",
      "mimetype": "text/x-python",
      "name": "python",
      "nbconvert_exporter": "python",
      "pygments_lexer": "ipython3",
      "version": "3.8.7"
    },
    "vscode": {
      "interpreter": {
        "hash": "916dbcbb3f70747c44a77c7bcd40155683ae19c65e1c03b4aa3499c5328201f1"
      }
    },
    "colab": {
      "provenance": [],
      "include_colab_link": true
    }
  },
  "nbformat": 4,
  "nbformat_minor": 5
}