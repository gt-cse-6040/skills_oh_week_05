{
  "cells": [
    {
      "cell_type": "markdown",
      "metadata": {
        "id": "view-in-github",
        "colab_type": "text"
      },
      "source": [
        "<a href=\"https://colab.research.google.com/github/gt-cse-6040/skills_oh_week_05/blob/main/main.ipynb\" target=\"_parent\"><img src=\"https://colab.research.google.com/assets/colab-badge.svg\" alt=\"Open In Colab\"/></a>"
      ]
    },
    {
      "cell_type": "code",
      "source": [
        "!wget -q https://raw.githubusercontent.com/gt-cse-6040/skills_oh_week_05/main/setup.sh\n",
        "!sh setup.sh > /dev/null 2>&1\n",
        "!rm setup.sh"
      ],
      "metadata": {
        "id": "Nz7I2-5RLwQc"
      },
      "id": "Nz7I2-5RLwQc",
      "execution_count": 54,
      "outputs": []
    },
    {
      "cell_type": "markdown",
      "metadata": {
        "nbgrader": {
          "grade": false,
          "locked": true,
          "solution": false
        },
        "tags": [
          "notebook_header"
        ],
        "id": "B-9DLH6bA9j2"
      },
      "source": [
        "# Debugging midterm problems\n",
        "\n",
        "Below are several exercises from Midterm 1 (Fall 2022) with **incorrect** solutions. The general topic of the exam is dealing with data from the Reddit API. Skills covered are processing nested data, string manipulation, and implementing basic logic in Python."
      ],
      "id": "B-9DLH6bA9j2"
    },
    {
      "cell_type": "markdown",
      "source": [
        "## Global imports and initial data load\n",
        "This isn't key to debugging but it is necessary to run the rest of the code in the notebook."
      ],
      "metadata": {
        "id": "1d-un32fPMRr"
      },
      "id": "1d-un32fPMRr"
    },
    {
      "cell_type": "code",
      "execution_count": 14,
      "metadata": {
        "collapsed": true,
        "nbgrader": {
          "grade": false,
          "locked": true,
          "solution": false
        },
        "tags": [
          "global_imports"
        ],
        "id": "Mf_seWTsA9j7"
      },
      "outputs": [],
      "source": [
        "### Global Imports\n",
        "import json\n",
        "import re\n",
        "from collections import defaultdict\n",
        "with open('resource/asnlib/publicdata/learnpython_top_800_all.json') as f:\n",
        "    raw_reddit_data = json.load(f)\n",
        "with open('resource/asnlib/publicdata/stopwords.json') as f:\n",
        "    stopwords = set([s.replace(\"'\", \"\") for s in json.load(f)])"
      ],
      "id": "Mf_seWTsA9j7"
    },
    {
      "cell_type": "markdown",
      "metadata": {
        "nbgrader": {
          "grade": false,
          "locked": true,
          "solution": false
        },
        "tags": [
          "exercise_text"
        ],
        "id": "mrOMS9UkA9j_"
      },
      "source": [
        "## Exercise 1 - (**2** Points): \n",
        "\n",
        "**Requirements**\n",
        "\n",
        "Define the function `analyze_structure(some_object)`. The input `some_object` will either be a `list` or a `dict`. \n",
        "\n",
        "- For a `list` input the function should return a `dict` with the following keys: `{'type', 'len', `**`'value_type'}`**. \n",
        "\n",
        "- For a `dict` input the function should return a `dict` with the following keys: `{'type', 'keys', `**`'value_types'}`**.\n",
        "\n",
        "See the charts below for more information on the key/value pairs:\n",
        "\n",
        "**If the input is a `list`** your result should have these key/value pairs.\n",
        "\n",
        "|key|value|type of value|examples (comma separated)|  \n",
        "|---|---|---|---|  \n",
        "|\"type\"|\"list\"|`str`|The string `\"list\"` is the only acceptable value|  \n",
        "|\"len\"|length of `some_object`|`int`|`1`, `4`, `500`|  \n",
        "|\"value_type\"|The type of the first element of `some_object` (cast to a `str`)|`str`|`\"<class 'str'>\"`, `\"<class 'dict'>\"`|  \n",
        "\n",
        "**If the input is a `dict`** your result should have these key/value pairs.\n",
        "\n",
        "|key|value|type of value|examples (comma separated)|  \n",
        "|---|---|---|---|  \n",
        "|\"type\"|\"dict\"|`str`|The string `\"dict\"` is the only acceptable value|  \n",
        "|\"keys\"|set of `some_object`'s keys|`set`|`{'data', 'kind'}`|  \n",
        "|\"value_types\"|`dict` mapping each of `some_object`'s keys to the type (cast to `str`) of the value associated with it.|`dict` mapping `str` keys to `str` values|`{'kind': \"<class 'str'>\", 'data': \"<class 'dict'>\"}`|  \n",
        "\n",
        "** Note:** Don't forget to cast the `'value_type'` for `list`s and values of `'value_types'` for `dict`s  to strings!   \n",
        "\n",
        "**Note:** You can use `str(type(x))` to cast the `type` of `x` to a `str`."
      ],
      "id": "mrOMS9UkA9j_"
    },
    {
      "cell_type": "markdown",
      "metadata": {
        "nbgrader": {
          "grade": false,
          "locked": true,
          "solution": false
        },
        "tags": [
          "demo_output_md"
        ],
        "id": "QlShvhuTA9kA"
      },
      "source": [
        "<!-- Expected demo output text block -->\n",
        "The demo included in the solution cell below should display the following output:\n",
        "```\n",
        "{'type': 'list', 'len': 8, 'value_type': \"<class 'dict'>\"}\n",
        "\n",
        "{'type': 'dict', 'keys': {'kind', 'data'}, 'value_types': {'kind': \"<class 'str'>\", 'data': \"<class 'dict'>\"}}\n",
        "\n",
        "{'type': 'dict', 'keys': {'geo_filter', 'before', 'modhash', 'after', 'dist', 'children'}, 'value_types': {'after': \"<class 'str'>\", 'dist': \"<class 'int'>\", 'modhash': \"<class 'str'>\", 'geo_filter': \"<class 'str'>\", 'children': \"<class 'list'>\", 'before': \"<class 'NoneType'>\"}}\n",
        "\n",
        "{'type': 'list', 'len': 100, 'value_type': \"<class 'dict'>\"}\n",
        "\n",
        "{'type': 'dict', 'keys': {'kind', 'data'}, 'value_types': {'kind': \"<class 'str'>\", 'data': \"<class 'dict'>\"}}\n",
        "```\n",
        "<!-- Include any shout outs here -->\n",
        "\n",
        "**Note** this demo will run your solution **5** times, diving level by level into the raw data. Each individual run's output is separated by a blank line."
      ],
      "id": "QlShvhuTA9kA"
    },
    {
      "cell_type": "code",
      "execution_count": 55,
      "metadata": {
        "tags": [
          "exercise_solution"
        ],
        "id": "sdLITjPtA9kB",
        "outputId": "8728a263-b2c1-4af5-d390-287eef8cc99b",
        "colab": {
          "base_uri": "https://localhost:8080/"
        }
      },
      "outputs": [
        {
          "output_type": "stream",
          "name": "stdout",
          "text": [
            "{'type': 'list', 'len': 8, 'value_type': \"<class 'dict'>\"}\n",
            "\n",
            "{'type': 'dict', 'keys': {'data', 'kind'}, 'value_type': {'kind': \"<class 'str'>\", 'data': \"<class 'dict'>\"}}\n",
            "\n",
            "{'type': 'dict', 'keys': {'before', 'geo_filter', 'dist', 'after', 'children', 'modhash'}, 'value_type': {'after': \"<class 'str'>\", 'dist': \"<class 'int'>\", 'modhash': \"<class 'str'>\", 'geo_filter': \"<class 'str'>\", 'children': \"<class 'list'>\", 'before': \"<class 'NoneType'>\"}}\n",
            "\n",
            "{'type': 'list', 'len': 100, 'value_type': \"<class 'dict'>\"}\n",
            "\n",
            "{'type': 'dict', 'keys': {'data', 'kind'}, 'value_type': {'kind': \"<class 'str'>\", 'data': \"<class 'dict'>\"}}\n"
          ]
        }
      ],
      "source": [
        "### Exercise 1 solution\n",
        "def analyze_structure(some_object):\n",
        "    assert isinstance(some_object, (list, dict)), f'argument must be `list` or `dict`, {type(some_object)} was given.'\n",
        "    if isinstance(some_object, list):\n",
        "        # Handle the `list` case\n",
        "        ### BEGIN SOLUTION\n",
        "        return {'type': 'list',\n",
        "                'len': len(some_object),\n",
        "                'value_type': str(type(some_object[0]))}\n",
        "        ### END SOLUTION\n",
        "    elif isinstance(some_object, dict):\n",
        "        # Handle the `dict` case\n",
        "        ### BEGIN SOLUTION\n",
        "        return {'type': 'dict',\n",
        "                'keys': set(some_object.keys()),\n",
        "                'value_type': {k: str(type(v)) for k, v in some_object.items()}}\n",
        "        ### END SOLUTION\n",
        "    else:\n",
        "        assert False # This code will never execute\n",
        "    \n",
        "### demo function calls\n",
        "print(analyze_structure(raw_reddit_data))\n",
        "print()\n",
        "print(analyze_structure(raw_reddit_data[0]))\n",
        "print()\n",
        "print(analyze_structure(raw_reddit_data[0]['data']))\n",
        "print()\n",
        "print(analyze_structure(raw_reddit_data[0]['data']['children']))\n",
        "print()\n",
        "print(analyze_structure(raw_reddit_data[0]['data']['children'][0]))"
      ],
      "id": "sdLITjPtA9kB"
    },
    {
      "cell_type": "markdown",
      "metadata": {
        "nbgrader": {
          "grade": false,
          "locked": true,
          "solution": false
        },
        "tags": [
          "test_data_boilerplate"
        ],
        "id": "iAy3-UxGA9kB"
      },
      "source": [
        "<!-- Test Cell Boilerplate -->\n",
        "The cell below will test your solution for Exercise 1. The testing variables will be available for debugging under the following names in a dictionary format.\n",
        "- `input_vars` - Input variables for your solution. \n",
        "- `original_input_vars` - Copy of input variables from prior to running your solution. These _should_ be the same as `input_vars` - otherwise the inputs were modified by your solution.\n",
        "- `returned_output_vars` - Outputs returned by your solution.\n",
        "- `true_output_vars` - The expected output. This _should_ \"match\" `returned_output_vars` based on the question requirements - otherwise, your solution is not returning the correct output. "
      ],
      "id": "iAy3-UxGA9kB"
    },
    {
      "cell_type": "code",
      "execution_count": 56,
      "metadata": {
        "nbgrader": {
          "grade": true,
          "grade_id": "ex1",
          "locked": true,
          "points": "2",
          "solution": false
        },
        "tags": [],
        "id": "VM4KmiGeA9kC",
        "outputId": "411c8a79-0d42-4e86-e2ec-3fbb3046a78c",
        "colab": {
          "base_uri": "https://localhost:8080/",
          "height": 556
        }
      },
      "outputs": [
        {
          "output_type": "stream",
          "name": "stdout",
          "text": [
            "5e3f0d781ba1b93fcce1788f8448f8ec\n",
            "5e3f0d781ba1b93fcce1788f8448f8ec\n",
            "52243648c34549fa35bbbdf59ae56057\n",
            "52243648c34549fa35bbbdf59ae56057\n",
            "ed83b476ee8f414c417022217cf79354\n",
            "ed83b476ee8f414c417022217cf79354\n"
          ]
        },
        {
          "output_type": "error",
          "ename": "AssertionError",
          "evalue": "ignored",
          "traceback": [
            "\u001b[0;31m---------------------------------------------------------------------------\u001b[0m",
            "\u001b[0;31mAssertionError\u001b[0m                            Traceback (most recent call last)",
            "\u001b[0;32m<ipython-input-56-eac818fa4b0e>\u001b[0m in \u001b[0;36m<module>\u001b[0;34m\u001b[0m\n\u001b[1;32m     38\u001b[0m \u001b[0;32mfor\u001b[0m \u001b[0m_\u001b[0m \u001b[0;32min\u001b[0m \u001b[0mrange\u001b[0m\u001b[0;34m(\u001b[0m\u001b[0;36m20\u001b[0m\u001b[0;34m)\u001b[0m\u001b[0;34m:\u001b[0m\u001b[0;34m\u001b[0m\u001b[0;34m\u001b[0m\u001b[0m\n\u001b[1;32m     39\u001b[0m     \u001b[0;32mtry\u001b[0m\u001b[0;34m:\u001b[0m\u001b[0;34m\u001b[0m\u001b[0;34m\u001b[0m\u001b[0m\n\u001b[0;32m---> 40\u001b[0;31m         \u001b[0mtester\u001b[0m\u001b[0;34m.\u001b[0m\u001b[0mrun_test\u001b[0m\u001b[0;34m(\u001b[0m\u001b[0;34m)\u001b[0m\u001b[0;34m\u001b[0m\u001b[0;34m\u001b[0m\u001b[0m\n\u001b[0m\u001b[1;32m     41\u001b[0m         \u001b[0;34m(\u001b[0m\u001b[0minput_vars\u001b[0m\u001b[0;34m,\u001b[0m \u001b[0moriginal_input_vars\u001b[0m\u001b[0;34m,\u001b[0m \u001b[0mreturned_output_vars\u001b[0m\u001b[0;34m,\u001b[0m \u001b[0mtrue_output_vars\u001b[0m\u001b[0;34m)\u001b[0m \u001b[0;34m=\u001b[0m \u001b[0mtester\u001b[0m\u001b[0;34m.\u001b[0m\u001b[0mget_test_vars\u001b[0m\u001b[0;34m(\u001b[0m\u001b[0;34m)\u001b[0m\u001b[0;34m\u001b[0m\u001b[0;34m\u001b[0m\u001b[0m\n\u001b[1;32m     42\u001b[0m     \u001b[0;32mexcept\u001b[0m\u001b[0;34m:\u001b[0m\u001b[0;34m\u001b[0m\u001b[0;34m\u001b[0m\u001b[0m\n",
            "\u001b[0;32m/content/tester_fw/testers.py\u001b[0m in \u001b[0;36mrun_test\u001b[0;34m(self, func)\u001b[0m\n\u001b[1;32m     36\u001b[0m \u001b[0;34m\u001b[0m\u001b[0m\n\u001b[1;32m     37\u001b[0m     \u001b[0;32mdef\u001b[0m \u001b[0mrun_test\u001b[0m\u001b[0;34m(\u001b[0m\u001b[0mself\u001b[0m\u001b[0;34m,\u001b[0m \u001b[0mfunc\u001b[0m\u001b[0;34m=\u001b[0m\u001b[0;32mNone\u001b[0m\u001b[0;34m)\u001b[0m\u001b[0;34m:\u001b[0m\u001b[0;34m\u001b[0m\u001b[0;34m\u001b[0m\u001b[0m\n\u001b[0;32m---> 38\u001b[0;31m         \u001b[0;32mreturn\u001b[0m \u001b[0msuper\u001b[0m\u001b[0;34m(\u001b[0m\u001b[0;34m)\u001b[0m\u001b[0;34m.\u001b[0m\u001b[0mrun_test\u001b[0m\u001b[0;34m(\u001b[0m\u001b[0mself\u001b[0m\u001b[0;34m.\u001b[0m\u001b[0mfunc\u001b[0m\u001b[0;34m)\u001b[0m\u001b[0;34m\u001b[0m\u001b[0;34m\u001b[0m\u001b[0m\n\u001b[0m\u001b[1;32m     39\u001b[0m \u001b[0;34m\u001b[0m\u001b[0m\n\u001b[1;32m     40\u001b[0m     \u001b[0;32mdef\u001b[0m \u001b[0mbuild_vars\u001b[0m\u001b[0;34m(\u001b[0m\u001b[0mself\u001b[0m\u001b[0;34m)\u001b[0m\u001b[0;34m:\u001b[0m\u001b[0;34m\u001b[0m\u001b[0;34m\u001b[0m\u001b[0m\n",
            "\u001b[0;32m/content/tester_fw/__init__.py\u001b[0m in \u001b[0;36mrun_test\u001b[0;34m(self, func)\u001b[0m\n\u001b[1;32m     43\u001b[0m             \u001b[0mself\u001b[0m\u001b[0;34m.\u001b[0m\u001b[0mcheck_modified\u001b[0m\u001b[0;34m(\u001b[0m\u001b[0;34m)\u001b[0m    \u001b[0;31m# Check to verify inputs were not modified\u001b[0m\u001b[0;34m\u001b[0m\u001b[0;34m\u001b[0m\u001b[0m\n\u001b[1;32m     44\u001b[0m         \u001b[0mself\u001b[0m\u001b[0;34m.\u001b[0m\u001b[0mcheck_type\u001b[0m\u001b[0;34m(\u001b[0m\u001b[0;34m)\u001b[0m        \u001b[0;31m# Check to verify correct output types\u001b[0m\u001b[0;34m\u001b[0m\u001b[0;34m\u001b[0m\u001b[0m\n\u001b[0;32m---> 45\u001b[0;31m         \u001b[0mself\u001b[0m\u001b[0;34m.\u001b[0m\u001b[0mcheck_matches\u001b[0m\u001b[0;34m(\u001b[0m\u001b[0;34m)\u001b[0m     \u001b[0;31m# Check to verify correct output\u001b[0m\u001b[0;34m\u001b[0m\u001b[0;34m\u001b[0m\u001b[0m\n\u001b[0m\u001b[1;32m     46\u001b[0m \u001b[0;34m\u001b[0m\u001b[0m\n\u001b[1;32m     47\u001b[0m \u001b[0;34m\u001b[0m\u001b[0m\n",
            "\u001b[0;32m/content/tester_fw/testers.py\u001b[0m in \u001b[0;36mcheck_matches\u001b[0;34m(self)\u001b[0m\n\u001b[1;32m     77\u001b[0m         \u001b[0;32mfor\u001b[0m \u001b[0mout_key\u001b[0m\u001b[0;34m,\u001b[0m \u001b[0mout_dict\u001b[0m \u001b[0;32min\u001b[0m \u001b[0mself\u001b[0m\u001b[0;34m.\u001b[0m\u001b[0mconf_outputs\u001b[0m\u001b[0;34m.\u001b[0m\u001b[0mitems\u001b[0m\u001b[0;34m(\u001b[0m\u001b[0;34m)\u001b[0m\u001b[0;34m:\u001b[0m\u001b[0;34m\u001b[0m\u001b[0;34m\u001b[0m\u001b[0m\n\u001b[1;32m     78\u001b[0m             \u001b[0mtest_var\u001b[0m \u001b[0;34m=\u001b[0m \u001b[0mself\u001b[0m\u001b[0;34m.\u001b[0m\u001b[0mreturned_output_vars\u001b[0m\u001b[0;34m[\u001b[0m\u001b[0mout_key\u001b[0m\u001b[0;34m]\u001b[0m\u001b[0;34m\u001b[0m\u001b[0;34m\u001b[0m\u001b[0m\n\u001b[0;32m---> 79\u001b[0;31m             assert test_utils.compare_copies(a=test_var,\n\u001b[0m\u001b[1;32m     80\u001b[0m                                             \u001b[0mb\u001b[0m\u001b[0;34m=\u001b[0m\u001b[0mself\u001b[0m\u001b[0;34m.\u001b[0m\u001b[0mtrue_output_vars\u001b[0m\u001b[0;34m[\u001b[0m\u001b[0mout_key\u001b[0m\u001b[0;34m]\u001b[0m\u001b[0;34m,\u001b[0m\u001b[0;34m\u001b[0m\u001b[0;34m\u001b[0m\u001b[0m\n\u001b[1;32m     81\u001b[0m                                             \u001b[0mtol\u001b[0m\u001b[0;34m=\u001b[0m\u001b[0mout_dict\u001b[0m\u001b[0;34m[\u001b[0m\u001b[0;34m'float_tolerance'\u001b[0m\u001b[0;34m]\u001b[0m\u001b[0;34m,\u001b[0m\u001b[0;34m\u001b[0m\u001b[0;34m\u001b[0m\u001b[0m\n",
            "\u001b[0;31mAssertionError\u001b[0m: \nOutput for output_0 is incorrect.\nThe returned result is available as `returned_output_vars['output_0']`\nThe expected result is available as `true_output_vars['output_0']`\n            "
          ]
        }
      ],
      "source": [
        "### test_cell_ex1\n",
        "### BEGIN HIDDEN TESTS\n",
        "import dill\n",
        "import hashlib\n",
        "with open('resource/asnlib/public/hash_check.pkl', 'rb') as f:\n",
        "    hash_check = dill.load(f)\n",
        "for fname in ['testers.py', '__init__.py', 'test_utils.py']:\n",
        "    hash_check(f'tester_fw/{fname}', f'resource/asnlib/public/{fname}')\n",
        "del hash_check\n",
        "del dill\n",
        "del hashlib\n",
        "### END HIDDEN TESTS\n",
        "from tester_fw.testers import Tester\n",
        "\n",
        "conf = {\n",
        "    'case_file':'tc_1', \n",
        "    'func': analyze_structure, # replace this with the function defined above\n",
        "    'inputs':{ # input config dict. keys are parameter names\n",
        "        'some_object':{\n",
        "            'dtype':'dict', # data type of param.\n",
        "            'check_modified':True,\n",
        "        }\n",
        "    },\n",
        "    'outputs':{\n",
        "        'output_0':{\n",
        "            'index':0,\n",
        "            'dtype':'dict',\n",
        "            'check_dtype': True,\n",
        "            'check_col_dtypes': True, # Ignored if dtype is not df\n",
        "            'check_col_order': True, # Ignored if dtype is not df\n",
        "            'check_row_order': True, # Ignored if dtype is not df\n",
        "            'check_column_type': True, # Ignored if dtype is not df\n",
        "            'float_tolerance': 10 ** (-6)\n",
        "        }\n",
        "    }\n",
        "}\n",
        "tester = Tester(conf, key=b'S90rT5WLPFy08a82F6SXyiKoyeTi33DOHh7bxXASQw0=', path='resource/asnlib/publicdata/')\n",
        "for _ in range(20):\n",
        "    try:\n",
        "        tester.run_test()\n",
        "        (input_vars, original_input_vars, returned_output_vars, true_output_vars) = tester.get_test_vars()\n",
        "    except:\n",
        "        (input_vars, original_input_vars, returned_output_vars, true_output_vars) = tester.get_test_vars()\n",
        "        raise\n",
        "\n",
        "### BEGIN HIDDEN TESTS\n",
        "tester = Tester(conf, key=b'bE_KdJGq_bhBuoTZRi37O7tu3s38ac4bJUsgUEXnK8s=', path='resource/asnlib/publicdata/encrypted/')\n",
        "for _ in range(20):\n",
        "    try:\n",
        "        tester.run_test()\n",
        "        (input_vars, original_input_vars, returned_output_vars, true_output_vars) = tester.get_test_vars()\n",
        "    except:\n",
        "        (input_vars, original_input_vars, returned_output_vars, true_output_vars) = tester.get_test_vars()\n",
        "        raise\n",
        "### END HIDDEN TESTS\n",
        "print('Passed! Please submit.')"
      ],
      "id": "VM4KmiGeA9kC"
    },
    {
      "cell_type": "markdown",
      "source": [
        "We have an assertion error telling us that our output is incorrect. Let's drill down and see exactly where..."
      ],
      "metadata": {
        "id": "LllwaK0URz4K"
      },
      "id": "LllwaK0URz4K"
    },
    {
      "cell_type": "code",
      "source": [
        "returned_output_vars['output_0'] == true_output_vars['output_0']"
      ],
      "metadata": {
        "id": "b3F3kmfdQ0ZV",
        "outputId": "3cca7166-48ce-40fc-adae-5984b7b0f602",
        "colab": {
          "base_uri": "https://localhost:8080/"
        }
      },
      "id": "b3F3kmfdQ0ZV",
      "execution_count": 58,
      "outputs": [
        {
          "output_type": "execute_result",
          "data": {
            "text/plain": [
              "False"
            ]
          },
          "metadata": {},
          "execution_count": 58
        }
      ]
    },
    {
      "cell_type": "markdown",
      "source": [
        "We see again using the test case variables that the output isn't matching. Next, let's see if the returned type is the same as the expected type..."
      ],
      "metadata": {
        "id": "ch368cI5SB75"
      },
      "id": "ch368cI5SB75"
    },
    {
      "cell_type": "code",
      "source": [
        "isinstance(returned_output_vars['output_0'], type(true_output_vars['output_0']))"
      ],
      "metadata": {
        "id": "9raaIDQlQ8kF",
        "outputId": "c91e7a54-99a2-4bf6-a2e8-8e743f624339",
        "colab": {
          "base_uri": "https://localhost:8080/"
        }
      },
      "id": "9raaIDQlQ8kF",
      "execution_count": 59,
      "outputs": [
        {
          "output_type": "execute_result",
          "data": {
            "text/plain": [
              "True"
            ]
          },
          "metadata": {},
          "execution_count": 59
        }
      ]
    },
    {
      "cell_type": "markdown",
      "source": [
        "The types match, so our solution isn't completely off. The next step is to see what type we're dealing with. This will dictate how we continue our debugging efforts!"
      ],
      "metadata": {
        "id": "sELSnt_fSR5g"
      },
      "id": "sELSnt_fSR5g"
    },
    {
      "cell_type": "code",
      "source": [
        "type(true_output_vars['output_0'])"
      ],
      "metadata": {
        "id": "h0oXBcPRRQDN",
        "outputId": "f4cdee63-11f1-4c60-c200-f51acb46f938",
        "colab": {
          "base_uri": "https://localhost:8080/"
        }
      },
      "id": "h0oXBcPRRQDN",
      "execution_count": 64,
      "outputs": [
        {
          "output_type": "execute_result",
          "data": {
            "text/plain": [
              "dict"
            ]
          },
          "metadata": {},
          "execution_count": 64
        }
      ]
    },
    {
      "cell_type": "markdown",
      "source": [
        "We're dealing with dictionaries. When dealing with dictionaries, the first thing to check is whether the keys are the same..."
      ],
      "metadata": {
        "id": "_zihL85_Sfh5"
      },
      "id": "_zihL85_Sfh5"
    },
    {
      "cell_type": "code",
      "source": [
        "returned_output_vars['output_0'].keys() == true_output_vars['output_0'].keys()"
      ],
      "metadata": {
        "id": "suNkiB-4RUTo",
        "outputId": "4a06fb2b-5355-41fb-9a85-759bafc47c6d",
        "colab": {
          "base_uri": "https://localhost:8080/"
        }
      },
      "id": "suNkiB-4RUTo",
      "execution_count": 61,
      "outputs": [
        {
          "output_type": "execute_result",
          "data": {
            "text/plain": [
              "False"
            ]
          },
          "metadata": {},
          "execution_count": 61
        }
      ]
    },
    {
      "cell_type": "markdown",
      "source": [
        "The keys aren't the same. Let's see if there are any keys in the returned result that aren't expected..."
      ],
      "metadata": {
        "id": "Dufq0rlJSpiR"
      },
      "id": "Dufq0rlJSpiR"
    },
    {
      "cell_type": "code",
      "source": [
        "returned_output_vars['output_0'].keys() - true_output_vars['output_0'].keys()"
      ],
      "metadata": {
        "id": "uQ0ykU0jRe8C",
        "outputId": "149b7503-6f8c-4019-923e-833d63a7a47b",
        "colab": {
          "base_uri": "https://localhost:8080/"
        }
      },
      "id": "uQ0ykU0jRe8C",
      "execution_count": 62,
      "outputs": [
        {
          "output_type": "execute_result",
          "data": {
            "text/plain": [
              "{'value_type'}"
            ]
          },
          "metadata": {},
          "execution_count": 62
        }
      ]
    },
    {
      "cell_type": "markdown",
      "source": [
        "The key 'value_type' is in our returned output but not in the true output. Let's do the reverse and see if there are any expected keys which are not in our returned output..."
      ],
      "metadata": {
        "id": "ZJHjrXI5TEZ-"
      },
      "id": "ZJHjrXI5TEZ-"
    },
    {
      "cell_type": "code",
      "source": [
        "true_output_vars['output_0'].keys() - returned_output_vars['output_0'].keys()"
      ],
      "metadata": {
        "id": "ODA7aU3URlJs",
        "outputId": "4d176a15-5e72-4eab-af75-18f301a8ae0b",
        "colab": {
          "base_uri": "https://localhost:8080/"
        }
      },
      "id": "ODA7aU3URlJs",
      "execution_count": 63,
      "outputs": [
        {
          "output_type": "execute_result",
          "data": {
            "text/plain": [
              "{'value_types'}"
            ]
          },
          "metadata": {},
          "execution_count": 63
        }
      ]
    },
    {
      "cell_type": "markdown",
      "source": [
        "The key 'value_types' (notice it's plural) appears in the expected output but not our returned output. Seems like we found the problem...\n",
        "\n",
        "Not so fast!"
      ],
      "metadata": {
        "id": "rcqBjPnhTVI0"
      },
      "id": "rcqBjPnhTVI0"
    },
    {
      "cell_type": "markdown",
      "metadata": {
        "nbgrader": {
          "grade": false,
          "locked": true,
          "solution": false
        },
        "tags": [
          "exercise_text"
        ],
        "id": "vywgIwXEA9kC"
      },
      "source": [
        "## Exercise 2 - (**1** Points): \n",
        "**Motivation (don't dwell on this)**\n",
        "\n",
        "In order to maintain server performance and keep response sizes reasonable, the Reddit API paginates results (i.e. it only gives back a slice of the full result). `raw_reddit_data` is actually a `list` of those slices (each slice is a `dict`). Based on the analysis we were able to do with `analyze_structure` in the previous exercise, we can tell that `raw_reddit_data[i]['data']['children']` contains a `list` of all the post data from \"page\" `i`. We need to combine all of these `lists` into a single `list` to remove some unnecessary complexity from later analysis tasks.\n",
        "\n",
        "**Requirements**\n",
        "\n",
        "Define the function `combine_children(raw_reddit_data)`. \n",
        "\n",
        "The input `raw_reddit_data` is a `list` of `dict`s such that for any `i` between `0` and `len(raw_reddit_data) - 1`, there will exist a **`list`** `raw_reddit_data[i]['data']['children']`. \n",
        "\n",
        "The output should be a *single new* `list` which contains all of the elements of each \"children\" list *with the order preserved*."
      ],
      "id": "vywgIwXEA9kC"
    },
    {
      "cell_type": "code",
      "execution_count": 21,
      "metadata": {
        "collapsed": true,
        "nbgrader": {
          "grade": false,
          "locked": true,
          "solution": false
        },
        "tags": [
          "demo_data"
        ],
        "id": "KEcf4ctoA9kD"
      },
      "outputs": [],
      "source": [
        "### Define demo inputs\n",
        "\n",
        "# child_i_j indicates the j-th element in \"list of children\" i\n",
        "demo_raw_reddit_data_ex2 = [\n",
        "    {'data':{'children':['child_0_0', 'child_0_1']}},\n",
        "    {'data':{'children':['child_1_0', 'child_1_1']}},\n",
        "    {'data':{'children':['child_2_0', 'child_2_1']}}\n",
        "]"
      ],
      "id": "KEcf4ctoA9kD"
    },
    {
      "cell_type": "markdown",
      "metadata": {
        "nbgrader": {
          "grade": false,
          "locked": true,
          "solution": false
        },
        "tags": [
          "demo_output_md"
        ],
        "id": "6n267RMJA9kD"
      },
      "source": [
        "<!-- Expected demo output text block -->\n",
        "The demo included in the solution cell below should display the following output:\n",
        "```\n",
        "['child_0_0', 'child_0_1', 'child_1_0', 'child_1_1', 'child_2_0', 'child_2_1']\n",
        "```\n",
        "<!-- Include any shout outs here -->\n",
        "**Note** - the \"lists of children\" in this example are *greatly simplified* to illustrate the top-level structure of `raw_reddit_data`, the output structure, and the ordering requirement."
      ],
      "id": "6n267RMJA9kD"
    },
    {
      "cell_type": "code",
      "execution_count": 57,
      "metadata": {
        "tags": [
          "exercise_solution"
        ],
        "id": "_XYqYcQnA9kE",
        "outputId": "e6d5890e-88f4-4687-ea5d-39dd9654b936",
        "colab": {
          "base_uri": "https://localhost:8080/"
        }
      },
      "outputs": [
        {
          "output_type": "execute_result",
          "data": {
            "text/plain": [
              "[['child_0_0', 'child_0_1'],\n",
              " ['child_1_0', 'child_1_1'],\n",
              " ['child_2_0', 'child_2_1']]"
            ]
          },
          "metadata": {},
          "execution_count": 57
        }
      ],
      "source": [
        "### Exercise 2 solution\n",
        "def combine_child_data(raw_reddit_data):\n",
        "    ### BEGIN SOLUTION\n",
        "    rv = []\n",
        "    for page in raw_reddit_data:\n",
        "        rv.append(page['data']['children'])\n",
        "    return rv\n",
        "    ### END SOLUTION\n",
        "    \n",
        "### demo function call\n",
        "combine_child_data(demo_raw_reddit_data_ex2)"
      ],
      "id": "_XYqYcQnA9kE"
    },
    {
      "cell_type": "markdown",
      "metadata": {
        "nbgrader": {
          "grade": false,
          "locked": true,
          "solution": false
        },
        "tags": [
          "test_data_boilerplate"
        ],
        "id": "QoQ5yzNdA9kE"
      },
      "source": [
        "<!-- Test Cell Boilerplate -->\n",
        "The cell below will test your solution for Exercise 2. The testing variables will be available for debugging under the following names in a dictionary format.\n",
        "- `input_vars` - Input variables for your solution. \n",
        "- `original_input_vars` - Copy of input variables from prior to running your solution. These _should_ be the same as `input_vars` - otherwise the inputs were modified by your solution.\n",
        "- `returned_output_vars` - Outputs returned by your solution.\n",
        "- `true_output_vars` - The expected output. This _should_ \"match\" `returned_output_vars` based on the question requirements - otherwise, your solution is not returning the correct output. "
      ],
      "id": "QoQ5yzNdA9kE"
    },
    {
      "cell_type": "code",
      "execution_count": 23,
      "metadata": {
        "nbgrader": {
          "grade": true,
          "grade_id": "ex2",
          "locked": true,
          "points": "1",
          "solution": false
        },
        "tags": [],
        "id": "bA5cSSxpA9kF",
        "outputId": "8c6eb1d3-f83b-4a51-a368-855f6c622846",
        "colab": {
          "base_uri": "https://localhost:8080/"
        }
      },
      "outputs": [
        {
          "output_type": "stream",
          "name": "stdout",
          "text": [
            "5e3f0d781ba1b93fcce1788f8448f8ec\n",
            "5e3f0d781ba1b93fcce1788f8448f8ec\n",
            "52243648c34549fa35bbbdf59ae56057\n",
            "52243648c34549fa35bbbdf59ae56057\n",
            "ed83b476ee8f414c417022217cf79354\n",
            "ed83b476ee8f414c417022217cf79354\n",
            "Passed! Please submit.\n"
          ]
        }
      ],
      "source": [
        "### test_cell_ex2\n",
        "### BEGIN HIDDEN TESTS\n",
        "import dill\n",
        "import hashlib\n",
        "with open('resource/asnlib/public/hash_check.pkl', 'rb') as f:\n",
        "    hash_check = dill.load(f)\n",
        "for fname in ['testers.py', '__init__.py', 'test_utils.py']:\n",
        "    hash_check(f'tester_fw/{fname}', f'resource/asnlib/public/{fname}')\n",
        "del hash_check\n",
        "del dill\n",
        "del hashlib\n",
        "### END HIDDEN TESTS\n",
        "from tester_fw.testers import Tester\n",
        "\n",
        "conf = {\n",
        "    'case_file':'tc_2', \n",
        "    'func': combine_child_data, # replace this with the function defined above\n",
        "    'inputs':{ # input config dict. keys are parameter names\n",
        "        'raw_reddit_data':{\n",
        "            'dtype':'list', # data type of param.\n",
        "            'check_modified':True,\n",
        "        }\n",
        "    },\n",
        "    'outputs':{\n",
        "        'output_0':{\n",
        "            'index':0,\n",
        "            'dtype':'list',\n",
        "            'check_dtype': True,\n",
        "            'check_col_dtypes': True, # Ignored if dtype is not df\n",
        "            'check_col_order': True, # Ignored if dtype is not df\n",
        "            'check_row_order': True, # Ignored if dtype is not df\n",
        "            'check_column_type': True, # Ignored if dtype is not df\n",
        "            'float_tolerance': 10 ** (-6)\n",
        "        }\n",
        "    }\n",
        "}\n",
        "tester = Tester(conf, key=b'S90rT5WLPFy08a82F6SXyiKoyeTi33DOHh7bxXASQw0=', path='resource/asnlib/publicdata/')\n",
        "for _ in range(20):\n",
        "    try:\n",
        "        tester.run_test()\n",
        "        (input_vars, original_input_vars, returned_output_vars, true_output_vars) = tester.get_test_vars()\n",
        "    except:\n",
        "        (input_vars, original_input_vars, returned_output_vars, true_output_vars) = tester.get_test_vars()\n",
        "        raise\n",
        "\n",
        "### BEGIN HIDDEN TESTS\n",
        "tester = Tester(conf, key=b'bE_KdJGq_bhBuoTZRi37O7tu3s38ac4bJUsgUEXnK8s=', path='resource/asnlib/publicdata/encrypted/')\n",
        "for _ in range(20):\n",
        "    try:\n",
        "        tester.run_test()\n",
        "        (input_vars, original_input_vars, returned_output_vars, true_output_vars) = tester.get_test_vars()\n",
        "    except:\n",
        "        (input_vars, original_input_vars, returned_output_vars, true_output_vars) = tester.get_test_vars()\n",
        "        raise\n",
        "### END HIDDEN TESTS\n",
        "print('Passed! Please submit.')"
      ],
      "id": "bA5cSSxpA9kF"
    },
    {
      "cell_type": "markdown",
      "metadata": {
        "nbgrader": {
          "grade": false,
          "locked": true,
          "solution": false
        },
        "id": "e1OV9LWMA9kF"
      },
      "source": [
        "We ran the following code to combine the post data for the entire data set and stored the result in `resource/asnlib/publicdata/children.json`. \n",
        "\n",
        "\n",
        "```\n",
        "children = combine_child_data(raw_reddit_data)\n",
        "with open('resource/asnlib/publicdata/children.json', 'w') as f:\n",
        "    json.dump(children, f)\n",
        "\n",
        "```"
      ],
      "id": "e1OV9LWMA9kF"
    },
    {
      "cell_type": "markdown",
      "metadata": {
        "nbgrader": {
          "grade": false,
          "locked": true,
          "solution": false
        },
        "id": "RF2MBde_A9kF"
      },
      "source": [
        "## Helper Function `clean_unicode`\n",
        "\n",
        "Reddit posts allow for unicode special characters and html special characters (letters with accents, emojis, etc.). These characters will cause problems with our analysis. We have provided `clean_unicode(text)` which takes a string input, `text` and returns that string with any such characters replaced with an empty string `''`. You will have to use it in the solution to the next exercise (or figure out a way to strip them out yourself...)"
      ],
      "id": "RF2MBde_A9kF"
    },
    {
      "cell_type": "code",
      "execution_count": 24,
      "metadata": {
        "collapsed": true,
        "nbgrader": {
          "grade": false,
          "locked": true,
          "solution": false
        },
        "id": "9dXEuXs-A9kG"
      },
      "outputs": [],
      "source": [
        "def clean_unicode(text):\n",
        "    text = re.sub(r'&.*?;', '', text)\n",
        "    encoded = text.encode('unicode_escape')\n",
        "    return re.sub(br\"\\\\u....|\\\\U........|\\\\x..\", b\"\", encoded).decode(\"unicode-escape\")"
      ],
      "id": "9dXEuXs-A9kG"
    },
    {
      "cell_type": "markdown",
      "metadata": {
        "nbgrader": {
          "grade": false,
          "locked": true,
          "solution": false
        },
        "tags": [
          "exercise_text"
        ],
        "id": "C4_PQVGxA9kG"
      },
      "source": [
        "## Exercise 3a - (**3** Points): \n",
        "**Motivation (don't dwell on this)**\n",
        "\n",
        "The text in a Reddit post can contain a lot of characters and formatting which are not useful to our analysis. We need to clean up the text and standardize it.\n",
        "\n",
        "There's a lot of cleaning to be done, so we will be taking care of it in **two phases**. This is the **first phase**.\n",
        "\n",
        "**Requirements**  \n",
        "\n",
        "Define the function `clean_text_phase_0(text)` which takes an inputs `text`, a `str` to be cleaned. All of the following transformations must be performed on `text` and the end result returned as a `str`. Some transformations may conflict with others, but using the order provided will give the correct result.\n",
        "\n",
        "|step number|what to transform|how to identify|transformation|recommendation|  \n",
        "|---|---|---|---|---|  \n",
        "|0|all letters|NA|convert to lower case|use `str` methods|  \n",
        "|1|special unicode characters|handled by `clean_unicode`|Use `clean_unicode`|use provided helper function|  \n",
        "|2|urls|the sequence '`http`' followed by at least one **non-space character**, i.e. `'the http module'` does not contain a url, but `http://cse6040.gatech.edu` is a url.|remove|use `re` - remove pattern matches|  \n",
        "|3|space indicators|**space character**, `-`, `+` , or `=`|replace with `' '`|use `re` - replace pattern matches with a single space.|   \n",
        "|4|posessive ending|`\"'s\"` (does not have to occur at the end of a **word**)|remove|use `re` - remove pattern matches|  \n",
        "|5|symbols|`*`, `_`, `:`, `#`, `.`, `,`(the \"comma\" character), `~`, `?`, `!`, `$`, `%`, `;`, `(`, `)`, `[`, `]`, `/`, `\\`, `{`, `}`, `'`, `<`, `>`, `&`, `` ` ``, `\"`|remove|use `re` - remove pattern matches. **All symbbols are in demo sample data**.|  \n",
        "|6|consecutive spaces|consecutive spaces. ex: `'     '`|replace with single space|use `str` methods to split into \"list of words\", re-combine with `str` methods  \n",
        "\n",
        "The term \"**space character**\" should be taken to mean any character which matches the regex pattern `'\\s'`. This includes *but is not limited* to spaces, newlines, and tabs. The term \"**non-space character**\" should be taken to mean all other characters.\n",
        "\n",
        "The term \"**word**\" should be taken to mean a series of non-space characters which are either wrapped by either space characters or the start or end of a string. We would interpret the string `'these are all words'` to have 4 words."
      ],
      "id": "C4_PQVGxA9kG"
    },
    {
      "cell_type": "code",
      "execution_count": 25,
      "metadata": {
        "nbgrader": {
          "grade": false,
          "locked": true,
          "solution": false
        },
        "tags": [
          "demo_data"
        ],
        "id": "7dvS5lKEA9kG",
        "outputId": "2fe2218a-0b40-4bfc-d5e5-0eed493935b6",
        "colab": {
          "base_uri": "https://localhost:8080/",
          "height": 69
        }
      },
      "outputs": [
        {
          "output_type": "execute_result",
          "data": {
            "text/plain": [
              "'\\n😀 I just love #Python. You will learn to love it, too!!! (Just as much as I do). \\n\\n\\nCheck out my site at https://cse6040.gatech.edu. It\\'s not much ~~ but I think it\\'s gr8!\\n        \\t       It\\'s really cool & fun! The \"bee\\'s knees\" if you will. 🐝\\n\\nThe request module\\'s functionality really makes HTTP requests a breeze!\\nallon*_:#.,~?!$%;()\\\\[\\\\]\\'/{}\\\\\\'<>&`\"eword\\n\\n\"within\" should remain, but \"it\" should not\\n'"
            ],
            "application/vnd.google.colaboratory.intrinsic+json": {
              "type": "string"
            }
          },
          "metadata": {},
          "execution_count": 25
        }
      ],
      "source": [
        "### Define demo inputs\n",
        "with open('resource/asnlib/publicdata/children.json') as f:\n",
        "    children = json.load(f)\n",
        "\n",
        "demo_text_ex3a = '''\n",
        "😀 I just love #Python. You will learn to love it, too!!! (Just as much as I do). \n",
        "\n",
        "\n",
        "Check out my site at https://cse6040.gatech.edu. It's not much ~~ but I think it's gr8!\n",
        "        \t       It's really cool & fun! The \"bee's knees\" if you will. 🐝\n",
        "\n",
        "The request module's functionality really makes HTTP requests a breeze!\n",
        "allon*_:#.,~?!$%;()\\[\\]\\'/{}\\\\\\'<>&`\"eword\n",
        "\n",
        "\"within\" should remain, but \"it\" should not\n",
        "'''\n",
        "demo_text_ex3a"
      ],
      "id": "7dvS5lKEA9kG"
    },
    {
      "cell_type": "markdown",
      "metadata": {
        "nbgrader": {
          "grade": false,
          "locked": true,
          "solution": false
        },
        "tags": [
          "demo_output_md"
        ],
        "id": "juSQ9ANtA9kH"
      },
      "source": [
        "<!-- Expected demo output text block -->\n",
        "The demo included in the solution cell below should display the following output:\n",
        "```\n",
        "'i just love python you will learn to love it too just as much as i do check out my site at it not much but i think it gr8 it really cool fun the bee knees if you will the request module functionality really makes http requests a breeze alloneword within should remain but it should not'\n",
        "```\n",
        "<!-- Include any shout outs here -->\n",
        "\n",
        "**Note** This is a simplified example which admittedly includes some nonsense. It checks most **but not all** requirements. If you need help comparing your output and the expected output you can use <https://text-compare.com/>."
      ],
      "id": "juSQ9ANtA9kH"
    },
    {
      "cell_type": "code",
      "execution_count": 26,
      "metadata": {
        "tags": [
          "exercise_solution"
        ],
        "id": "qIv67UIhA9kH",
        "outputId": "aff1904a-6023-4942-ddbc-17698be2bfed",
        "colab": {
          "base_uri": "https://localhost:8080/",
          "height": 52
        }
      },
      "outputs": [
        {
          "output_type": "execute_result",
          "data": {
            "text/plain": [
              "'i just love python you will learn to love it too just as much as i do check out my site at it not much but i think it gr8 it really cool fun the bee knees if you will the request module functionality really makes http requests a breeze alloneword within should remain but it should not'"
            ],
            "application/vnd.google.colaboratory.intrinsic+json": {
              "type": "string"
            }
          },
          "metadata": {},
          "execution_count": 26
        }
      ],
      "source": [
        "### Exercise 3a solution\n",
        "def clean_text_phase_0(text):\n",
        "    ### BEGIN SOLUTION\n",
        "    clean = text.lower() # Convert to lowercase\n",
        "    clean = clean_unicode(clean)\n",
        "    clean = re.sub(r'http[^\\s]+', '', clean) # Remove urls\n",
        "    clean = re.sub(r'[\\s\\-+=]', ' ', clean) # Replace any space character or dash with ' '\n",
        "    clean = re.sub(r'\\'s', '', clean) # Remove \"'s\"\n",
        "    clean = re.sub(r'[*_:#.,~?!$%;()\\[\\]\\'/{}\\\\\\'<>&`\"]', '', clean) # Remove punctuation and grouping symbols \n",
        "    clean = ' '.join(clean.split())\n",
        "    ## Moving to another solution\n",
        "    #     clean = ' '.join(s for s in clean.split() if (re.search(r'[0-9]', s) is None and s not in stopwords)) # remove any \"words\" (sequences without spaces) containing numbers\n",
        "    return clean \n",
        "    ### END SOLUTION\n",
        "    \n",
        "### demo function call\n",
        "clean_text_phase_0(demo_text_ex3a)"
      ],
      "id": "qIv67UIhA9kH"
    },
    {
      "cell_type": "markdown",
      "metadata": {
        "nbgrader": {
          "grade": false,
          "locked": true,
          "solution": false
        },
        "tags": [
          "test_data_boilerplate"
        ],
        "id": "0D6gOt5LA9kI"
      },
      "source": [
        "<!-- Test Cell Boilerplate -->\n",
        "The cell below will test your solution for Exercise 3. The testing variables will be available for debugging under the following names in a dictionary format.\n",
        "- `input_vars` - Input variables for your solution. \n",
        "- `original_input_vars` - Copy of input variables from prior to running your solution. These _should_ be the same as `input_vars` - otherwise the inputs were modified by your solution.\n",
        "- `returned_output_vars` - Outputs returned by your solution.\n",
        "- `true_output_vars` - The expected output. This _should_ \"match\" `returned_output_vars` based on the question requirements - otherwise, your solution is not returning the correct output. \n",
        "\n",
        "Depending on the test cases drawn in this cell, a `DepricationWarning` may be raised. **This is nothing to be concerned about**. It indicates that a feature we are using *may* be disabled in a *future* release, but it **will work** for now."
      ],
      "id": "0D6gOt5LA9kI"
    },
    {
      "cell_type": "code",
      "execution_count": 27,
      "metadata": {
        "nbgrader": {
          "grade": true,
          "grade_id": "ex3a",
          "locked": true,
          "points": "3",
          "solution": false
        },
        "tags": [],
        "id": "2XcaYz58A9kI",
        "outputId": "0e2bb936-0f78-4007-83f1-3cd7486c01c6",
        "colab": {
          "base_uri": "https://localhost:8080/"
        }
      },
      "outputs": [
        {
          "output_type": "stream",
          "name": "stdout",
          "text": [
            "5e3f0d781ba1b93fcce1788f8448f8ec\n",
            "5e3f0d781ba1b93fcce1788f8448f8ec\n",
            "52243648c34549fa35bbbdf59ae56057\n",
            "52243648c34549fa35bbbdf59ae56057\n",
            "ed83b476ee8f414c417022217cf79354\n",
            "ed83b476ee8f414c417022217cf79354\n",
            "Passed! Please submit.\n"
          ]
        }
      ],
      "source": [
        "### test_cell_ex3a\n",
        "### BEGIN HIDDEN TESTS\n",
        "import dill\n",
        "import hashlib\n",
        "with open('resource/asnlib/public/hash_check.pkl', 'rb') as f:\n",
        "    hash_check = dill.load(f)\n",
        "for fname in ['testers.py', '__init__.py', 'test_utils.py']:\n",
        "    hash_check(f'tester_fw/{fname}', f'resource/asnlib/public/{fname}')\n",
        "del hash_check\n",
        "del dill\n",
        "del hashlib\n",
        "### END HIDDEN TESTS\n",
        "from tester_fw.testers import Tester\n",
        "\n",
        "conf = {\n",
        "    'case_file':'tc_3a', \n",
        "    'func': clean_text_phase_0, # replace this with the function defined above\n",
        "    'inputs':{ # input config dict. keys are parameter names\n",
        "        'text':{\n",
        "            'dtype':'str', # data type of param.\n",
        "            'check_modified':True,\n",
        "        },\n",
        "    },\n",
        "    'outputs':{\n",
        "        'output_0':{\n",
        "            'index':0,\n",
        "            'dtype':'str',\n",
        "            'check_dtype': True,\n",
        "            'check_col_dtypes': True, # Ignored if dtype is not df\n",
        "            'check_col_order': True, # Ignored if dtype is not df\n",
        "            'check_row_order': True, # Ignored if dtype is not df\n",
        "            'check_column_type': True, # Ignored if dtype is not df\n",
        "            'float_tolerance': 10 ** (-6)\n",
        "        }\n",
        "    }\n",
        "}\n",
        "tester = Tester(conf, key=b'S90rT5WLPFy08a82F6SXyiKoyeTi33DOHh7bxXASQw0=', path='resource/asnlib/publicdata/')\n",
        "for _ in range(100):\n",
        "    try:\n",
        "        tester.run_test()\n",
        "        (input_vars, original_input_vars, returned_output_vars, true_output_vars) = tester.get_test_vars()\n",
        "    except:\n",
        "        (input_vars, original_input_vars, returned_output_vars, true_output_vars) = tester.get_test_vars()\n",
        "        raise\n",
        "\n",
        "### BEGIN HIDDEN TESTS\n",
        "tester = Tester(conf, key=b'bE_KdJGq_bhBuoTZRi37O7tu3s38ac4bJUsgUEXnK8s=', path='resource/asnlib/publicdata/encrypted/')\n",
        "for _ in range(100):\n",
        "    try:\n",
        "        tester.run_test()\n",
        "        (input_vars, original_input_vars, returned_output_vars, true_output_vars) = tester.get_test_vars()\n",
        "    except:\n",
        "        (input_vars, original_input_vars, returned_output_vars, true_output_vars) = tester.get_test_vars()\n",
        "        raise\n",
        "### END HIDDEN TESTS\n",
        "print('Passed! Please submit.')"
      ],
      "id": "2XcaYz58A9kI"
    },
    {
      "cell_type": "markdown",
      "metadata": {
        "nbgrader": {
          "grade": false,
          "locked": true,
          "solution": false
        },
        "id": "r5zOr3tAA9kI"
      },
      "source": [
        "We ran the code below to do the following:\n",
        "\n",
        "- Clean the text for all posts.\n",
        "- Store the cleaned texts in a dictionary mapping the post id to the cleaned text.\n",
        "- Store this dictionary in `resource/asnlib/publicdata/clean_children_phase_0.json`\n",
        "\n",
        "\n",
        "```\n",
        "clean_children_phase_0 = {child['data']['id']: clean_text_phase_0(child['data']['selftext']) for child in children}\n",
        "with open('resource/asnlib/publicdata/clean_children_phase_0.json', 'w') as f:\n",
        "    json.dump(clean_children_phase_0, f, indent=4)\n",
        "\n",
        "```"
      ],
      "id": "r5zOr3tAA9kI"
    },
    {
      "cell_type": "markdown",
      "metadata": {
        "nbgrader": {
          "grade": false,
          "locked": true,
          "solution": false
        },
        "tags": [
          "exercise_text"
        ],
        "id": "shC1oF-5A9kI"
      },
      "source": [
        "## Exercise 3b - (**2** Points): \n",
        "**Motivation (don't dwell on this)**\n",
        "\n",
        "The text in a Reddit post can contain a lot of characters and formatting which are not useful to our analysis. We need to clean up the text and standardize it.\n",
        "\n",
        "There's a lot of cleaning to be done, so we will be taking care of it in **two phases**. This is the **second phase**.\n",
        "\n",
        "**Requirements**  \n",
        "\n",
        "Define the function `clean_text_phase_1(text, stopwords)` which takes two inputs `text`, a `str` to be cleaned, and `stopwords`, a `set` of `str` which should not be included in the final result. All of the following transformations must be performed on `text` and the end result returned as a `str`. **Word** removals should be done before dealing with the spaces. (Or you can take care of all 4 requirements in a clever one-liner!)\n",
        "\n",
        "- Remove any **word** which contains a number.\n",
        "- Remove any **word** which is a member of the `set` `stopwords`.\n",
        "- Replace any consecutive spaces with a single space. \n",
        "- Remove leading or trailing spaces from the end result. I.e. the end result should start and end with a **non-space character**.\n",
        "\n",
        "The term \"**space character**\" should be taken to mean any character which matches the regex pattern `'\\s'`. This includes *but is not limited* to spaces, newlines, and tabs. The term \"**non-space character**\" should be taken to mean all other characters.\n",
        "\n",
        "The term \"**word**\" should be taken to mean a series of non-space characters which are either wrapped by either space characters or the start or end of a string. We would interpret the string `'these are all words'` to have 4 words."
      ],
      "id": "shC1oF-5A9kI"
    },
    {
      "cell_type": "code",
      "execution_count": 28,
      "metadata": {
        "nbgrader": {
          "grade": false,
          "locked": true,
          "solution": false
        },
        "tags": [
          "demo_data"
        ],
        "id": "abz6Gk1SA9kJ",
        "outputId": "c3c09cf0-1c79-4833-f3f3-6ecf05569b7b",
        "colab": {
          "base_uri": "https://localhost:8080/",
          "height": 52
        }
      },
      "outputs": [
        {
          "output_type": "execute_result",
          "data": {
            "text/plain": [
              "'i just love python you will learn to love it too just as much as i do check out my site at it not much but i think it gr8 it really cool fun the bee knees if you will the request module functionality really makes http requests a breeze alloneword within should remain but it should not'"
            ],
            "application/vnd.google.colaboratory.intrinsic+json": {
              "type": "string"
            }
          },
          "metadata": {},
          "execution_count": 28
        }
      ],
      "source": [
        "### Define demo inputs\n",
        "with open('resource/asnlib/publicdata/children.json') as f:\n",
        "    children = json.load(f)\n",
        "demo_stopwords_ex3b = {'as', 'it', 'i', 'the'}\n",
        "demo_text_ex3b = 'i just love python you will learn to love it too just as ' + \\\n",
        "    'much as i do check out my site at it not much but i think it gr8 it really ' + \\\n",
        "    'cool fun the bee knees if you will the request module functionality really ' + \\\n",
        "    'makes http requests a breeze alloneword within should remain but it should not'\n",
        "demo_text_ex3b"
      ],
      "id": "abz6Gk1SA9kJ"
    },
    {
      "cell_type": "markdown",
      "metadata": {
        "nbgrader": {
          "grade": false,
          "locked": true,
          "solution": false
        },
        "tags": [
          "demo_output_md"
        ],
        "id": "nnMaB-YmA9kJ"
      },
      "source": [
        "<!-- Expected demo output text block -->\n",
        "The demo included in the solution cell below should display the following output:\n",
        "```\n",
        "'just love python you will learn to love too just much do check out my site at not much but think really cool fun bee knees if you will request module functionality really makes http requests a breeze alloneword within should remain but should not'\n",
        "```\n",
        "<!-- Include any shout outs here -->\n",
        "\n",
        "**Note** This is a simplified example which admittedly includes some nonsense. It checks most **but not all** requirements. If you need help comparing your output and the expected output you can use <https://text-compare.com/>."
      ],
      "id": "nnMaB-YmA9kJ"
    },
    {
      "cell_type": "code",
      "execution_count": 29,
      "metadata": {
        "tags": [
          "exercise_solution"
        ],
        "id": "tLgqvxvFA9kJ",
        "outputId": "52cdf9cf-9fe0-4e28-da9e-3ecfcf3a74e2",
        "colab": {
          "base_uri": "https://localhost:8080/",
          "height": 52
        }
      },
      "outputs": [
        {
          "output_type": "execute_result",
          "data": {
            "text/plain": [
              "'just love python you will learn to love too just much do check out my site at not much but think really cool fun bee knees if you will request module functionality really makes http requests a breeze alloneword within should remain but should not'"
            ],
            "application/vnd.google.colaboratory.intrinsic+json": {
              "type": "string"
            }
          },
          "metadata": {},
          "execution_count": 29
        }
      ],
      "source": [
        "### Exercise 3b solution\n",
        "def clean_text_phase_1(text, stopwords):\n",
        "    ### BEGIN SOLUTION\n",
        "    clean = text    \n",
        "    clean = ' '.join(s for s in clean.split() if (re.search(r'[0-9]', s) is None and s not in stopwords))\n",
        "    return clean \n",
        "    ### END SOLUTION\n",
        "    \n",
        "### demo function call\n",
        "clean_text_phase_1(demo_text_ex3b, demo_stopwords_ex3b)"
      ],
      "id": "tLgqvxvFA9kJ"
    },
    {
      "cell_type": "markdown",
      "metadata": {
        "nbgrader": {
          "grade": false,
          "locked": true,
          "solution": false
        },
        "tags": [
          "test_data_boilerplate"
        ],
        "id": "dgpM21DaA9kK"
      },
      "source": [
        "<!-- Test Cell Boilerplate -->\n",
        "The cell below will test your solution for Exercise 3. The testing variables will be available for debugging under the following names in a dictionary format.\n",
        "- `input_vars` - Input variables for your solution. \n",
        "- `original_input_vars` - Copy of input variables from prior to running your solution. These _should_ be the same as `input_vars` - otherwise the inputs were modified by your solution.\n",
        "- `returned_output_vars` - Outputs returned by your solution.\n",
        "- `true_output_vars` - The expected output. This _should_ \"match\" `returned_output_vars` based on the question requirements - otherwise, your solution is not returning the correct output. \n",
        "\n",
        "Depending on the test cases drawn in this cell, a `DepricationWarning` may be raised. **This is nothing to be concerned about**. It indicates that a feature we are using *may* be disabled in a *future* release, but it **will work** for now."
      ],
      "id": "dgpM21DaA9kK"
    },
    {
      "cell_type": "code",
      "execution_count": 30,
      "metadata": {
        "nbgrader": {
          "grade": true,
          "grade_id": "ex3b",
          "locked": true,
          "points": "2",
          "solution": false
        },
        "tags": [],
        "id": "vmbvTuAGA9kK",
        "outputId": "19c9df08-cea0-4c20-de08-84a09d8226b1",
        "colab": {
          "base_uri": "https://localhost:8080/"
        }
      },
      "outputs": [
        {
          "output_type": "stream",
          "name": "stdout",
          "text": [
            "5e3f0d781ba1b93fcce1788f8448f8ec\n",
            "5e3f0d781ba1b93fcce1788f8448f8ec\n",
            "52243648c34549fa35bbbdf59ae56057\n",
            "52243648c34549fa35bbbdf59ae56057\n",
            "ed83b476ee8f414c417022217cf79354\n",
            "ed83b476ee8f414c417022217cf79354\n",
            "Passed! Please submit.\n"
          ]
        }
      ],
      "source": [
        "### test_cell_ex3b\n",
        "### BEGIN HIDDEN TESTS\n",
        "import dill\n",
        "import hashlib\n",
        "with open('resource/asnlib/public/hash_check.pkl', 'rb') as f:\n",
        "    hash_check = dill.load(f)\n",
        "for fname in ['testers.py', '__init__.py', 'test_utils.py']:\n",
        "    hash_check(f'tester_fw/{fname}', f'resource/asnlib/public/{fname}')\n",
        "del hash_check\n",
        "del dill\n",
        "del hashlib\n",
        "### END HIDDEN TESTS\n",
        "from tester_fw.testers import Tester\n",
        "\n",
        "conf = {\n",
        "    'case_file':'tc_3b', \n",
        "    'func': clean_text_phase_1, # replace this with the function defined above\n",
        "    'inputs':{ # input config dict. keys are parameter names\n",
        "        'text':{\n",
        "            'dtype':'str', # data type of param.\n",
        "            'check_modified':True,\n",
        "        },\n",
        "        'stopwords':{\n",
        "            'dtype':'set',\n",
        "            'check_modified':True,\n",
        "        }\n",
        "    },\n",
        "    'outputs':{\n",
        "        'output_0':{\n",
        "            'index':0,\n",
        "            'dtype':'str',\n",
        "            'check_dtype': True,\n",
        "            'check_col_dtypes': True, # Ignored if dtype is not df\n",
        "            'check_col_order': True, # Ignored if dtype is not df\n",
        "            'check_row_order': True, # Ignored if dtype is not df\n",
        "            'check_column_type': True, # Ignored if dtype is not df\n",
        "            'float_tolerance': 10 ** (-6)\n",
        "        }\n",
        "    }\n",
        "}\n",
        "tester = Tester(conf, key=b'S90rT5WLPFy08a82F6SXyiKoyeTi33DOHh7bxXASQw0=', path='resource/asnlib/publicdata/')\n",
        "for _ in range(100):\n",
        "    try:\n",
        "        tester.run_test()\n",
        "        (input_vars, original_input_vars, returned_output_vars, true_output_vars) = tester.get_test_vars()\n",
        "    except:\n",
        "        (input_vars, original_input_vars, returned_output_vars, true_output_vars) = tester.get_test_vars()\n",
        "        raise\n",
        "\n",
        "### BEGIN HIDDEN TESTS\n",
        "tester = Tester(conf, key=b'bE_KdJGq_bhBuoTZRi37O7tu3s38ac4bJUsgUEXnK8s=', path='resource/asnlib/publicdata/encrypted/')\n",
        "for _ in range(100):\n",
        "    try:\n",
        "        tester.run_test()\n",
        "        (input_vars, original_input_vars, returned_output_vars, true_output_vars) = tester.get_test_vars()\n",
        "    except:\n",
        "        (input_vars, original_input_vars, returned_output_vars, true_output_vars) = tester.get_test_vars()\n",
        "        raise\n",
        "### END HIDDEN TESTS\n",
        "print('Passed! Please submit.')"
      ],
      "id": "vmbvTuAGA9kK"
    },
    {
      "cell_type": "markdown",
      "metadata": {
        "nbgrader": {
          "grade": false,
          "locked": true,
          "solution": false
        },
        "id": "Y5-Kdx7GA9kK"
      },
      "source": [
        "We ran the code below to apply the second phase of cleaning to `clean_children_phase_0` and stored the result in `resource/asnlib/publicdata/clean_children.json`  \n",
        "\n",
        "```\n",
        "clean_children = {id:clean_text_phase_1(text, stopwords) for id, text in clean_children_phase_0.items()}\n",
        "with open('resource/asnlib/publicdata/clean_children.json', 'w') as f:\n",
        "    json.dump(clean_children, f, indent=4)\n",
        "\n",
        "```"
      ],
      "id": "Y5-Kdx7GA9kK"
    },
    {
      "cell_type": "markdown",
      "metadata": {
        "nbgrader": {
          "grade": false,
          "locked": true,
          "solution": false
        },
        "tags": [
          "exercise_text"
        ],
        "id": "iJ0Oj7CxA9kL"
      },
      "source": [
        "## Exercise 4 - (**1** Points): \n",
        "\n",
        "**Motivation (don't dwell on this)**\n",
        "\n",
        "We are eventually going to perform analysis to determine how similar posts are to one another based on the text. In order to perform this analysis we have to vectorize the text. (Don't worry, the only math involved is counting.)\n",
        "\n",
        "**Requirements**\n",
        "\n",
        "Define the function `vectorize_text(text)`. The input `text` is the cleaned text from a single post. The output should be a `dict` mapping each unique word (consecutive non-space characters separated by spaces) to the number of times that word occurs in `text`. \n",
        "\n",
        "**Note** any *instance* of `dict` will be suitable for an output. In other words `defaultdict` is acceptable."
      ],
      "id": "iJ0Oj7CxA9kL"
    },
    {
      "cell_type": "code",
      "execution_count": 31,
      "metadata": {
        "collapsed": true,
        "nbgrader": {
          "grade": false,
          "locked": true,
          "solution": false
        },
        "tags": [
          "demo_data"
        ],
        "id": "Z7Tmk12fA9kL"
      },
      "outputs": [],
      "source": [
        "### Define demo inputs\n",
        "\n",
        "with open('resource/asnlib/publicdata/clean_children.json') as f:\n",
        "    clean_children = json.load(f)\n",
        "\n",
        "demo_text_ex4 = 'foo bar baz baz tux foo tux foo tux bar kat'"
      ],
      "id": "Z7Tmk12fA9kL"
    },
    {
      "cell_type": "markdown",
      "metadata": {
        "nbgrader": {
          "grade": false,
          "locked": true,
          "solution": false
        },
        "tags": [
          "demo_output_md"
        ],
        "id": "qBfnHm73A9kL"
      },
      "source": [
        "<!-- Expected demo output text block -->\n",
        "The demo included in the solution cell below should display the following output:\n",
        "```\n",
        "{'foo': 3, 'bar': 2, 'baz': 2, 'tux': 3, 'kat': 1}\n",
        "```\n",
        "<!-- Include any shout outs here -->\n",
        "**Note** This is a simplified example to demonstrate the structure of the input and output. \n",
        "\n",
        "**Note** If using something besides a base `dict` you may see something slightly different. You can use `isinstance(demo_output_ex4, dict)` to check if you are returning an instance of `dict`. (It should return `True`.)"
      ],
      "id": "qBfnHm73A9kL"
    },
    {
      "cell_type": "code",
      "execution_count": 32,
      "metadata": {
        "tags": [
          "exercise_solution"
        ],
        "id": "4m_WeYr8A9kL",
        "outputId": "7eb60ac4-0137-472b-8517-d7373b7f725c",
        "colab": {
          "base_uri": "https://localhost:8080/"
        }
      },
      "outputs": [
        {
          "output_type": "execute_result",
          "data": {
            "text/plain": [
              "{'foo': 3, 'bar': 2, 'baz': 2, 'tux': 3, 'kat': 1}"
            ]
          },
          "metadata": {},
          "execution_count": 32
        }
      ],
      "source": [
        "### Exercise 4 solution\n",
        "def vectorize_text(text):\n",
        "    ### BEGIN SOLUTION\n",
        "    from collections import defaultdict\n",
        "    vector = defaultdict(int)\n",
        "    for word in text.split():\n",
        "        vector[word] += 1\n",
        "    return dict(vector)\n",
        "    ### END SOLUTION\n",
        "    \n",
        "### demo function call\n",
        "demo_output_ex4 = vectorize_text(demo_text_ex4)\n",
        "demo_output_ex4"
      ],
      "id": "4m_WeYr8A9kL"
    },
    {
      "cell_type": "markdown",
      "metadata": {
        "nbgrader": {
          "grade": false,
          "locked": true,
          "solution": false
        },
        "tags": [
          "test_data_boilerplate"
        ],
        "id": "jilTLo-lA9kM"
      },
      "source": [
        "<!-- Test Cell Boilerplate -->\n",
        "The cell below will test your solution for Exercise 4. The testing variables will be available for debugging under the following names in a dictionary format.\n",
        "- `input_vars` - Input variables for your solution. \n",
        "- `original_input_vars` - Copy of input variables from prior to running your solution. These _should_ be the same as `input_vars` - otherwise the inputs were modified by your solution.\n",
        "- `returned_output_vars` - Outputs returned by your solution.\n",
        "- `true_output_vars` - The expected output. This _should_ \"match\" `returned_output_vars` based on the question requirements - otherwise, your solution is not returning the correct output. "
      ],
      "id": "jilTLo-lA9kM"
    },
    {
      "cell_type": "code",
      "execution_count": 33,
      "metadata": {
        "nbgrader": {
          "grade": true,
          "grade_id": "ex4",
          "locked": true,
          "points": "1",
          "solution": false
        },
        "tags": [],
        "id": "CBoYpgAQA9kM",
        "outputId": "01aa7fdd-7674-4a1f-c219-1036a42e9bd1",
        "colab": {
          "base_uri": "https://localhost:8080/"
        }
      },
      "outputs": [
        {
          "output_type": "stream",
          "name": "stdout",
          "text": [
            "5e3f0d781ba1b93fcce1788f8448f8ec\n",
            "5e3f0d781ba1b93fcce1788f8448f8ec\n",
            "52243648c34549fa35bbbdf59ae56057\n",
            "52243648c34549fa35bbbdf59ae56057\n",
            "ed83b476ee8f414c417022217cf79354\n",
            "ed83b476ee8f414c417022217cf79354\n",
            "Passed! Please submit.\n"
          ]
        }
      ],
      "source": [
        "### test_cell_ex4\n",
        "### BEGIN HIDDEN TESTS\n",
        "import dill\n",
        "import hashlib\n",
        "with open('resource/asnlib/public/hash_check.pkl', 'rb') as f:\n",
        "    hash_check = dill.load(f)\n",
        "for fname in ['testers.py', '__init__.py', 'test_utils.py']:\n",
        "    hash_check(f'tester_fw/{fname}', f'resource/asnlib/public/{fname}')\n",
        "del hash_check\n",
        "del dill\n",
        "del hashlib\n",
        "### END HIDDEN TESTS\n",
        "from tester_fw.testers import Tester\n",
        "\n",
        "conf = {\n",
        "    'case_file':'tc_4', \n",
        "    'func': vectorize_text, # replace this with the function defined above\n",
        "    'inputs':{ # input config dict. keys are parameter names\n",
        "        'text':{\n",
        "            'dtype':'str', # data type of param.\n",
        "            'check_modified':True,\n",
        "        }\n",
        "    },\n",
        "    'outputs':{\n",
        "        'output_0':{\n",
        "            'index':0,\n",
        "            'dtype':'dict',\n",
        "            'check_dtype': True,\n",
        "            'check_col_dtypes': True, # Ignored if dtype is not df\n",
        "            'check_col_order': True, # Ignored if dtype is not df\n",
        "            'check_row_order': True, # Ignored if dtype is not df\n",
        "            'check_column_type': True, # Ignored if dtype is not df\n",
        "            'float_tolerance': 10 ** (-6)\n",
        "        }\n",
        "    }\n",
        "}\n",
        "tester = Tester(conf, key=b'S90rT5WLPFy08a82F6SXyiKoyeTi33DOHh7bxXASQw0=', path='resource/asnlib/publicdata/')\n",
        "for _ in range(20):\n",
        "    try:\n",
        "        tester.run_test()\n",
        "        (input_vars, original_input_vars, returned_output_vars, true_output_vars) = tester.get_test_vars()\n",
        "    except:\n",
        "        (input_vars, original_input_vars, returned_output_vars, true_output_vars) = tester.get_test_vars()\n",
        "        raise\n",
        "\n",
        "### BEGIN HIDDEN TESTS\n",
        "tester = Tester(conf, key=b'bE_KdJGq_bhBuoTZRi37O7tu3s38ac4bJUsgUEXnK8s=', path='resource/asnlib/publicdata/encrypted/')\n",
        "for _ in range(20):\n",
        "    try:\n",
        "        tester.run_test()\n",
        "        (input_vars, original_input_vars, returned_output_vars, true_output_vars) = tester.get_test_vars()\n",
        "    except:\n",
        "        (input_vars, original_input_vars, returned_output_vars, true_output_vars) = tester.get_test_vars()\n",
        "        raise\n",
        "### END HIDDEN TESTS\n",
        "print('Passed! Please submit.')"
      ],
      "id": "CBoYpgAQA9kM"
    },
    {
      "cell_type": "markdown",
      "metadata": {
        "nbgrader": {
          "grade": false,
          "locked": true,
          "solution": false
        },
        "id": "NG9QBPS5A9kM"
      },
      "source": [
        "We ran the following code to do the following:\n",
        "\n",
        "- Vectorize the text for all posts.\n",
        "- Store the vectors in a dictionary mapping the post id to the associated vector.\n",
        "- Store this dictionary in `resource/asnlib/publicdata/vectorized_children.json`\n",
        "\n",
        "\n",
        "```\n",
        "vectorized_children = {id: vectorize_text(text) for id, text in clean_children.items()}\n",
        "with open('resource/asnlib/publicdata/vectorized_children.json', 'w') as f:\n",
        "    json.dump(vectorized_children, f, indent=4)\n",
        "\n",
        "```"
      ],
      "id": "NG9QBPS5A9kM"
    },
    {
      "cell_type": "markdown",
      "metadata": {
        "nbgrader": {
          "grade": false,
          "locked": true,
          "solution": false
        },
        "tags": [
          "exercise_text"
        ],
        "id": "rNNqV5gfA9kN"
      },
      "source": [
        "## Exercise 5 - (**2** Points): \n",
        "**Motivation (don't dwell on this)**\n",
        "\n",
        "One metric concerning the Reddit post which may be useful is the fraction of posts a certain keyword appears in. For `r/learnpython` this metric would give insight into trending topics in the Python space. Other developers have used similar metrics enhanced with sentiment analysis as part of profitable (and un-profitable) stock trading strategies.\n",
        "\n",
        "**Requirements**\n",
        "\n",
        "Define the function `keyword_usage(vectors, keyword)`. The input `vectors` is a dictionary mapping post ids (`str`) to vectors (`dict` mapping words (`str`) to counts (`int`)). The structure of each vector will be the same as the output to exercise 4. The input `keyword` is a `str` representing the keyword we are interested in.\n",
        "\n",
        "The function should return a `str` matching this format:\n",
        "> `'The keyword <keyword> occurs in <pct>% of posts in the sample.'`  \n",
        "- `<keyword>` is the `keyword` parameter.\n",
        "- `<pct>` is the percentage of posts which contain at least one instance of `keyword`. `<pct>` must be rounded to 2 decimal places and include 2 decimal places. (i.e. `15.00` is acceptable but `15`, `15.0`, and `15.000` are not.)\n",
        "  - Use this formula for calculating `<pct>`\n",
        "  - > $\\text{<pct>} = 100\\times\\frac{\\text{\\# of posts containing keyword}}{\\text{\\# of posts}}$\n",
        "  \n",
        "**Note:** Format strings are a great tool for accomplishing this task."
      ],
      "id": "rNNqV5gfA9kN"
    },
    {
      "cell_type": "code",
      "execution_count": 34,
      "metadata": {
        "collapsed": true,
        "nbgrader": {
          "grade": false,
          "locked": true,
          "solution": false
        },
        "tags": [
          "demo_data"
        ],
        "id": "FStJ_7ogA9kN"
      },
      "outputs": [],
      "source": [
        "### Define demo inputs\n",
        "with open('resource/asnlib/publicdata/vectorized_children.json') as f:\n",
        "    vectorized_children = json.load(f)\n",
        "\n",
        "demo_vectors_ex5 = {\n",
        "    'post_0': {'pycharm':1, 'python':3, 'ide': 2, 'jupyter': 3},\n",
        "    'post_1': {'python':1, 'ide': 2, 'jupyter': 3},\n",
        "    'post_2': {'python':3, 'jupyter': 5},\n",
        "    'post_3': {'jupyter': 2}\n",
        "}\n",
        "\n",
        "demo_keyword_0_ex5 = 'python'\n",
        "demo_keyword_1_ex5 = 'jupyter'\n",
        "demo_keyword_2_ex5 = 'ide'\n",
        "demo_keyword_3_ex5 = 'pycharm'"
      ],
      "id": "FStJ_7ogA9kN"
    },
    {
      "cell_type": "markdown",
      "metadata": {
        "nbgrader": {
          "grade": false,
          "locked": true,
          "solution": false
        },
        "tags": [
          "demo_output_md"
        ],
        "id": "3NyaQNBzA9kN"
      },
      "source": [
        "<!-- Expected demo output text block -->\n",
        "The demo included in the solution cell below should display the following output:\n",
        "```\n",
        "The keyword \"python\" occurs in 75.00% of posts in the sample.\n",
        "The keyword \"jupyter\" occurs in 100.00% of posts in the sample.\n",
        "The keyword \"ide\" occurs in 50.00% of posts in the sample.\n",
        "The keyword \"pycharm\" occurs in 25.00% of posts in the sample.\n",
        "```\n",
        "**Note** This is a simplified example to demonstrate the structure of the inputs and outputs.\n",
        "\n",
        "**Note** The demo calls `keyword_usage` four times. Each line of output comes from a single function call."
      ],
      "id": "3NyaQNBzA9kN"
    },
    {
      "cell_type": "code",
      "execution_count": 35,
      "metadata": {
        "tags": [
          "exercise_solution"
        ],
        "id": "OZyyz8T3A9kO",
        "outputId": "48c819b6-7fd2-49ab-d241-b17143995f5d",
        "colab": {
          "base_uri": "https://localhost:8080/"
        }
      },
      "outputs": [
        {
          "output_type": "stream",
          "name": "stdout",
          "text": [
            "The keyword \"python\" occurs in 75.00% of posts in the sample.\n",
            "The keyword \"jupyter\" occurs in 100.00% of posts in the sample.\n",
            "The keyword \"ide\" occurs in 50.00% of posts in the sample.\n",
            "The keyword \"pycharm\" occurs in 25.00% of posts in the sample.\n"
          ]
        }
      ],
      "source": [
        "### Exercise 5 solution\n",
        "def keyword_usage(vectors, keyword):\n",
        "    ### BEGIN SOLUTION\n",
        "    n = len(vectors)\n",
        "    m = sum(keyword in vector.keys() for vector in vectors.values())\n",
        "    return f\"The keyword \\\"{keyword}\\\" occurs in {round(100*m/n, 2):.2f}% of posts in the sample.\"\n",
        "    ### END SOLUTION\n",
        "    \n",
        "print(keyword_usage(demo_vectors_ex5, demo_keyword_0_ex5))\n",
        "print(keyword_usage(demo_vectors_ex5, demo_keyword_1_ex5))\n",
        "print(keyword_usage(demo_vectors_ex5, demo_keyword_2_ex5))\n",
        "print(keyword_usage(demo_vectors_ex5, demo_keyword_3_ex5))"
      ],
      "id": "OZyyz8T3A9kO"
    },
    {
      "cell_type": "markdown",
      "metadata": {
        "nbgrader": {
          "grade": false,
          "locked": true,
          "solution": false
        },
        "tags": [
          "test_data_boilerplate"
        ],
        "id": "lUKHpCxoA9kO"
      },
      "source": [
        "<!-- Test Cell Boilerplate -->\n",
        "The cell below will test your solution for Exercise 5. The testing variables will be available for debugging under the following names in a dictionary format.\n",
        "- `input_vars` - Input variables for your solution. \n",
        "- `original_input_vars` - Copy of input variables from prior to running your solution. These _should_ be the same as `input_vars` - otherwise the inputs were modified by your solution.\n",
        "- `returned_output_vars` - Outputs returned by your solution.\n",
        "- `true_output_vars` - The expected output. This _should_ \"match\" `returned_output_vars` based on the question requirements - otherwise, your solution is not returning the correct output. "
      ],
      "id": "lUKHpCxoA9kO"
    },
    {
      "cell_type": "code",
      "execution_count": 36,
      "metadata": {
        "nbgrader": {
          "grade": true,
          "grade_id": "ex5",
          "locked": true,
          "points": "2",
          "solution": false
        },
        "tags": [],
        "id": "GRWnW-2KA9kO",
        "outputId": "8ab82e13-974e-4837-897c-cd48951ce2fc",
        "colab": {
          "base_uri": "https://localhost:8080/"
        }
      },
      "outputs": [
        {
          "output_type": "stream",
          "name": "stdout",
          "text": [
            "5e3f0d781ba1b93fcce1788f8448f8ec\n",
            "5e3f0d781ba1b93fcce1788f8448f8ec\n",
            "52243648c34549fa35bbbdf59ae56057\n",
            "52243648c34549fa35bbbdf59ae56057\n",
            "ed83b476ee8f414c417022217cf79354\n",
            "ed83b476ee8f414c417022217cf79354\n",
            "Passed! Please submit.\n"
          ]
        }
      ],
      "source": [
        "### test_cell_ex5\n",
        "### BEGIN HIDDEN TESTS\n",
        "import dill\n",
        "import hashlib\n",
        "with open('resource/asnlib/public/hash_check.pkl', 'rb') as f:\n",
        "    hash_check = dill.load(f)\n",
        "for fname in ['testers.py', '__init__.py', 'test_utils.py']:\n",
        "    hash_check(f'tester_fw/{fname}', f'resource/asnlib/public/{fname}')\n",
        "del hash_check\n",
        "del dill\n",
        "del hashlib\n",
        "### END HIDDEN TESTS\n",
        "from tester_fw.testers import Tester\n",
        "\n",
        "conf = {\n",
        "    'case_file':'tc_5', \n",
        "    'func': keyword_usage, # replace this with the function defined above\n",
        "    'inputs':{ # input config dict. keys are parameter names\n",
        "        'vectors':{\n",
        "            'dtype':'dict', # data type of param.\n",
        "            'check_modified':True,\n",
        "        },\n",
        "        'keyword':{\n",
        "            'dtype':'str', # data type of param.\n",
        "            'check_modified':True,\n",
        "        }\n",
        "    },\n",
        "    'outputs':{\n",
        "        'output_0':{\n",
        "            'index':0,\n",
        "            'dtype':'',\n",
        "            'check_dtype': True,\n",
        "            'check_col_dtypes': True, # Ignored if dtype is not df\n",
        "            'check_col_order': True, # Ignored if dtype is not df\n",
        "            'check_row_order': True, # Ignored if dtype is not df\n",
        "            'check_column_type': True, # Ignored if dtype is not df\n",
        "            'float_tolerance': 10 ** (-6)\n",
        "        }\n",
        "    }\n",
        "}\n",
        "tester = Tester(conf, key=b'S90rT5WLPFy08a82F6SXyiKoyeTi33DOHh7bxXASQw0=', path='resource/asnlib/publicdata/')\n",
        "for _ in range(20):\n",
        "    try:\n",
        "        tester.run_test()\n",
        "        (input_vars, original_input_vars, returned_output_vars, true_output_vars) = tester.get_test_vars()\n",
        "    except:\n",
        "        (input_vars, original_input_vars, returned_output_vars, true_output_vars) = tester.get_test_vars()\n",
        "        raise\n",
        "\n",
        "### BEGIN HIDDEN TESTS\n",
        "tester = Tester(conf, key=b'bE_KdJGq_bhBuoTZRi37O7tu3s38ac4bJUsgUEXnK8s=', path='resource/asnlib/publicdata/encrypted/')\n",
        "for _ in range(20):\n",
        "    try:\n",
        "        tester.run_test()\n",
        "        (input_vars, original_input_vars, returned_output_vars, true_output_vars) = tester.get_test_vars()\n",
        "    except:\n",
        "        (input_vars, original_input_vars, returned_output_vars, true_output_vars) = tester.get_test_vars()\n",
        "        raise\n",
        "### END HIDDEN TESTS\n",
        "print('Passed! Please submit.')"
      ],
      "id": "GRWnW-2KA9kO"
    },
    {
      "cell_type": "markdown",
      "metadata": {
        "nbgrader": {
          "grade": false,
          "locked": true,
          "solution": false
        },
        "id": "Ta8_VN7uA9kP"
      },
      "source": [
        "## Cosine Similarity\n",
        "**Read this if you want more information on how we are calculating similarity. All formulas will be given in the exercises where they are used.**\n",
        "\n",
        "The dictionaries we created for each post's text in the earlier exercises can also be thought of as vectors in a high dimensional space. In this context we can say that there is an angle $\\theta \\in [0, \\pi/2]$ between any two of these vectors $v_0$ and $v_1$. The more similar the two posts are, the smaller the angle will be, thus the larger $\\cos\\theta$ will be. We can calculate $\\cos\\theta$ with the following formula.  \n",
        "$$\\cos\\theta = \\frac{v_0 \\cdot v_1}{\\|v_0\\|\\|v_1\\|}$$\n",
        "Let's denote the *unit vectors* with the same direction as $v_0$ and $v_1$ by $\\hat{v_0}$ and $\\hat{v_1}$ respectively. Then the formula becomes simpler.  \n",
        "  \n",
        "$$\\cos\\theta = \\hat{v_0} \\cdot \\hat{v_1}$$\n",
        "We can calculate any unit vector $\\hat{v_i} \\in \\mathcal{R}^n$ with the following:\n",
        "$$\\hat{v_i} = \\frac{v_i}{\\|v_i\\|}$$\n",
        "where\n",
        "$$\\|v_i\\| = \\sqrt{\\sum_{j = 0}^{n-1}{v_{i,j}^2}}$$\n"
      ],
      "id": "Ta8_VN7uA9kP"
    },
    {
      "cell_type": "markdown",
      "metadata": {
        "nbgrader": {
          "grade": false,
          "locked": true,
          "solution": false
        },
        "tags": [
          "exercise_text"
        ],
        "id": "vdr7FeOdA9kP"
      },
      "source": [
        "## Exercise 6 - (**2** Points): \n",
        "**Motivation (don't dwell on this)**\n",
        "\n",
        "Normalizing the vectors (making them all unit length) before using them for calculation will make the next step easier. We are effectively performing the $\\hat{v_i}$ calculation from the *Cosine Similarity* section.\n",
        "\n",
        "$$\\hat{v_i} = \\frac{v_i}{\\|v_i\\|}$$\n",
        "where\n",
        "$$\\|v_i\\| = \\sqrt{\\sum_{j = 0}^{n-1}{v_{i,j}^2}}$$\n",
        "\n",
        "**Requirements**\n",
        "\n",
        "Define the function `normalize_vector(vector)`. The input `vector` ($v_i$ from the math above) will be a `dict` mapping words (`str`) to `int`. Perform the following calculations and return `ret_vec`.\n",
        "\n",
        "- `SS` = sum of the *squares* of each *value* in `vector`; i.e - $\\sum_{j = 0}^{n-1}{v_{i,j}^2}$ from the math above.\n",
        "- `magnitude` = $\\sqrt{\\text{SS}}$; i.e - $\\|v_i\\|$ from the math above.\n",
        "- `ret_vec` = dictionary mapping each key in `vector` to the value associated with that key in `vector` divided by `magnitude`; i.e - $\\hat{v_i}$ from the math above.\n",
        "- For example if `vector['python']` = `5` and `magnitude` = `50` then `ret_vec['python']` should be `0.1`."
      ],
      "id": "vdr7FeOdA9kP"
    },
    {
      "cell_type": "code",
      "execution_count": 37,
      "metadata": {
        "collapsed": true,
        "nbgrader": {
          "grade": false,
          "locked": true,
          "solution": false
        },
        "tags": [
          "demo_data"
        ],
        "id": "p4ti571EA9kQ"
      },
      "outputs": [],
      "source": [
        "### Define demo inputs\n",
        "\n",
        "demo_vector_ex6_0 = {\n",
        "    'python': 4,\n",
        "    'jupyter': 3\n",
        "}\n",
        "\n",
        "demo_vector_ex6_1 = {\n",
        "    'python': 5,\n",
        "    'code': 12\n",
        "}"
      ],
      "id": "p4ti571EA9kQ"
    },
    {
      "cell_type": "markdown",
      "metadata": {
        "nbgrader": {
          "grade": false,
          "locked": true,
          "solution": false
        },
        "tags": [
          "demo_output_md"
        ],
        "id": "QmAQBFHlA9kQ"
      },
      "source": [
        "<!-- Expected demo output text block -->\n",
        "The demo included in the solution cell below should display the following output:\n",
        "```\n",
        "{'python': 0.8, 'jupyter': 0.6}\n",
        "{'python': 0.38461538461538464, 'code': 0.9230769230769231}\n",
        "```\n",
        "<!-- Include any shout outs here -->\n",
        "**Note** This demo runs `normalize_vector` twice on (once on each input).\n",
        "\n",
        "**Note** For this simplified example the intermediate values should be as follows: \n",
        "\n",
        "|input|`SS`|`magnitude`|  \n",
        "|---|---|---|  \n",
        "|demo_vector_ex6_0|`25`|`5.0`|  \n",
        "|demo_vector_ex6_1|`169`|`13.0`|  "
      ],
      "id": "QmAQBFHlA9kQ"
    },
    {
      "cell_type": "code",
      "execution_count": 38,
      "metadata": {
        "tags": [
          "exercise_solution"
        ],
        "id": "JVSKlRhuA9kQ",
        "outputId": "e96e7f89-49fd-4697-d281-c19086237614",
        "colab": {
          "base_uri": "https://localhost:8080/"
        }
      },
      "outputs": [
        {
          "output_type": "stream",
          "name": "stdout",
          "text": [
            "{'python': 0.8, 'jupyter': 0.6}\n",
            "{'python': 0.38461538461538464, 'code': 0.9230769230769231}\n"
          ]
        }
      ],
      "source": [
        "### Exercise 6 solution\n",
        "def normalize_vector(vector):\n",
        "    ### BEGIN SOLUTION\n",
        "    from math import sqrt\n",
        "    ss = sum(v**2 for v in vector.values())\n",
        "    magnitude = sqrt(ss)\n",
        "    return {k: v/magnitude for k, v in vector.items()}\n",
        "    ### END SOLUTION\n",
        "    \n",
        "### demo function call\n",
        "print(normalize_vector(demo_vector_ex6_0))\n",
        "print(normalize_vector(demo_vector_ex6_1))"
      ],
      "id": "JVSKlRhuA9kQ"
    },
    {
      "cell_type": "markdown",
      "metadata": {
        "nbgrader": {
          "grade": false,
          "locked": true,
          "solution": false
        },
        "tags": [
          "test_data_boilerplate"
        ],
        "id": "RCvj6lYcA9kQ"
      },
      "source": [
        "<!-- Test Cell Boilerplate -->\n",
        "The cell below will test your solution for Exercise 6. The testing variables will be available for debugging under the following names in a dictionary format.\n",
        "- `input_vars` - Input variables for your solution. \n",
        "- `original_input_vars` - Copy of input variables from prior to running your solution. These _should_ be the same as `input_vars` - otherwise the inputs were modified by your solution.\n",
        "- `returned_output_vars` - Outputs returned by your solution.\n",
        "- `true_output_vars` - The expected output. This _should_ \"match\" `returned_output_vars` based on the question requirements - otherwise, your solution is not returning the correct output. "
      ],
      "id": "RCvj6lYcA9kQ"
    },
    {
      "cell_type": "code",
      "execution_count": 39,
      "metadata": {
        "nbgrader": {
          "grade": true,
          "grade_id": "ex6",
          "locked": true,
          "points": "2",
          "solution": false
        },
        "tags": [],
        "id": "M28Y_llPA9kQ",
        "outputId": "56fca1d9-e14b-49cc-b63f-759a839174dc",
        "colab": {
          "base_uri": "https://localhost:8080/"
        }
      },
      "outputs": [
        {
          "output_type": "stream",
          "name": "stdout",
          "text": [
            "5e3f0d781ba1b93fcce1788f8448f8ec\n",
            "5e3f0d781ba1b93fcce1788f8448f8ec\n",
            "52243648c34549fa35bbbdf59ae56057\n",
            "52243648c34549fa35bbbdf59ae56057\n",
            "ed83b476ee8f414c417022217cf79354\n",
            "ed83b476ee8f414c417022217cf79354\n",
            "Passed! Please submit.\n"
          ]
        }
      ],
      "source": [
        "### test_cell_ex6\n",
        "### BEGIN HIDDEN TESTS\n",
        "import dill\n",
        "import hashlib\n",
        "with open('resource/asnlib/public/hash_check.pkl', 'rb') as f:\n",
        "    hash_check = dill.load(f)\n",
        "for fname in ['testers.py', '__init__.py', 'test_utils.py']:\n",
        "    hash_check(f'tester_fw/{fname}', f'resource/asnlib/public/{fname}')\n",
        "del hash_check\n",
        "del dill\n",
        "del hashlib\n",
        "### END HIDDEN TESTS\n",
        "from tester_fw.testers import Tester\n",
        "\n",
        "conf = {\n",
        "    'case_file':'tc_6', \n",
        "    'func': normalize_vector, # replace this with the function defined above\n",
        "    'inputs':{ # input config dict. keys are parameter names\n",
        "        'vector':{\n",
        "            'dtype':'dict', # data type of param.\n",
        "            'check_modified':True,\n",
        "        }\n",
        "    },\n",
        "    'outputs':{\n",
        "        'output_0':{\n",
        "            'index':0,\n",
        "            'dtype':'',\n",
        "            'check_dtype': True,\n",
        "            'check_col_dtypes': True, # Ignored if dtype is not df\n",
        "            'check_col_order': True, # Ignored if dtype is not df\n",
        "            'check_row_order': True, # Ignored if dtype is not df\n",
        "            'check_column_type': True, # Ignored if dtype is not df\n",
        "            'float_tolerance': 10 ** (-6)\n",
        "        }\n",
        "    }\n",
        "}\n",
        "tester = Tester(conf, key=b'S90rT5WLPFy08a82F6SXyiKoyeTi33DOHh7bxXASQw0=', path='resource/asnlib/publicdata/')\n",
        "for _ in range(20):\n",
        "    try:\n",
        "        tester.run_test()\n",
        "        (input_vars, original_input_vars, returned_output_vars, true_output_vars) = tester.get_test_vars()\n",
        "    except:\n",
        "        (input_vars, original_input_vars, returned_output_vars, true_output_vars) = tester.get_test_vars()\n",
        "        raise\n",
        "\n",
        "### BEGIN HIDDEN TESTS\n",
        "tester = Tester(conf, key=b'bE_KdJGq_bhBuoTZRi37O7tu3s38ac4bJUsgUEXnK8s=', path='resource/asnlib/publicdata/encrypted/')\n",
        "for _ in range(20):\n",
        "    try:\n",
        "        tester.run_test()\n",
        "        (input_vars, original_input_vars, returned_output_vars, true_output_vars) = tester.get_test_vars()\n",
        "    except:\n",
        "        (input_vars, original_input_vars, returned_output_vars, true_output_vars) = tester.get_test_vars()\n",
        "        raise\n",
        "### END HIDDEN TESTS\n",
        "print('Passed! Please submit.')"
      ],
      "id": "M28Y_llPA9kQ"
    },
    {
      "cell_type": "markdown",
      "metadata": {
        "nbgrader": {
          "grade": false,
          "locked": true,
          "solution": false
        },
        "id": "-zR4nkFkA9kR"
      },
      "source": [
        "We used the following code to normalize all the vectors and save the result in `resource/asnlib/publicdata/normalized_children.json`\n",
        "\n",
        "```\n",
        "normalized_children = {id:normalize_vector(vector) for id, vector in vectorized_children.items()}\n",
        "with open('resource/asnlib/publicdata/normalized_children.json', 'w') as f:\n",
        "    json.dump(normalized_children, f, indent=4)\n",
        "```"
      ],
      "id": "-zR4nkFkA9kR"
    },
    {
      "cell_type": "markdown",
      "metadata": {
        "nbgrader": {
          "grade": false,
          "locked": true,
          "solution": false
        },
        "tags": [
          "exercise_text"
        ],
        "id": "Vjfd7jvqA9kR"
      },
      "source": [
        "## Exercise 7 - (**1** Points): \n",
        "**Motivation (don't dwell on this)**\n",
        "\n",
        "Now that we have normalized word vectors for each post, it's time to implement the similarity calculation.\n",
        "\n",
        "**Requirements**\n",
        "\n",
        "Define `calc_similarity(vector_0, vector_1)`. The inputs `vector_0` and `vector_1` will be `dict`s mapping `str` to `float`. Perform the following calculations and return the end result.\n",
        "- Calculate the product of `vector_0[k]` times `vector_1[k]` for each key `k` that is present in **both** `vector_0` and `vector_1`.\n",
        "- Compute the sum of all these products **and round to 5 decimal places**.\n",
        "- Return the **rounded** sum as a `float`."
      ],
      "id": "Vjfd7jvqA9kR"
    },
    {
      "cell_type": "code",
      "execution_count": 40,
      "metadata": {
        "collapsed": true,
        "nbgrader": {
          "grade": false,
          "locked": true,
          "solution": false
        },
        "tags": [
          "demo_data"
        ],
        "id": "ioomCiRfA9kR"
      },
      "outputs": [],
      "source": [
        "### Define demo inputs\n",
        "with open('resource/asnlib/publicdata/normalized_children.json') as f:\n",
        "    normalized_children = json.load(f)\n",
        "demo_vector_0_ex7 = {'python': 0.8, 'jupyter': 0.6}\n",
        "demo_vector_1_ex7 = {'python': 0.38461538461538464, 'code': 0.9230769230769231}"
      ],
      "id": "ioomCiRfA9kR"
    },
    {
      "cell_type": "markdown",
      "metadata": {
        "nbgrader": {
          "grade": false,
          "locked": true,
          "solution": false
        },
        "tags": [
          "demo_output_md"
        ],
        "id": "95miNeZDA9kS"
      },
      "source": [
        "<!-- Expected demo output text block -->\n",
        "The demo included in the solution cell below should display the following output:\n",
        "```\n",
        "0.30769\n",
        "1.0\n",
        "```\n",
        "<!-- Include any shout outs here -->\n",
        "**Note** This simplified example contains two runs of `normalize_vector`. The first run uses both demo inputs. The second run uses `demo_vector_0_ex7` as both `vector_0` and `vector_1` to illustrate that comparing a vector to itself should always give the result of `1.0` since $cos(0) = 1$."
      ],
      "id": "95miNeZDA9kS"
    },
    {
      "cell_type": "code",
      "execution_count": 41,
      "metadata": {
        "tags": [
          "exercise_solution"
        ],
        "id": "gID0CEbAA9kS",
        "outputId": "0a5eb44b-5a85-419e-c7a4-effadd7f330f",
        "colab": {
          "base_uri": "https://localhost:8080/"
        }
      },
      "outputs": [
        {
          "output_type": "stream",
          "name": "stdout",
          "text": [
            "0.30769\n",
            "1.0\n"
          ]
        }
      ],
      "source": [
        "### Exercise 7 solution\n",
        "def calc_similarity(vector_0, vector_1):\n",
        "    ### BEGIN SOLUTION\n",
        "    sim = sum(vector_0[key]*vector_1[key] for key in (vector_0.keys() & vector_1.keys()))\n",
        "    return round(sim, 5)\n",
        "    ### END SOLUTION\n",
        "    \n",
        "### demo function call\n",
        "print(calc_similarity(demo_vector_0_ex7, demo_vector_1_ex7))\n",
        "print(calc_similarity(demo_vector_0_ex7, demo_vector_0_ex7))"
      ],
      "id": "gID0CEbAA9kS"
    },
    {
      "cell_type": "markdown",
      "metadata": {
        "nbgrader": {
          "grade": false,
          "locked": true,
          "solution": false
        },
        "tags": [
          "test_data_boilerplate"
        ],
        "id": "4EvJIGlCA9kS"
      },
      "source": [
        "<!-- Test Cell Boilerplate -->\n",
        "The cell below will test your solution for Exercise 7. The testing variables will be available for debugging under the following names in a dictionary format.\n",
        "- `input_vars` - Input variables for your solution. \n",
        "- `original_input_vars` - Copy of input variables from prior to running your solution. These _should_ be the same as `input_vars` - otherwise the inputs were modified by your solution.\n",
        "- `returned_output_vars` - Outputs returned by your solution.\n",
        "- `true_output_vars` - The expected output. This _should_ \"match\" `returned_output_vars` based on the question requirements - otherwise, your solution is not returning the correct output. "
      ],
      "id": "4EvJIGlCA9kS"
    },
    {
      "cell_type": "code",
      "execution_count": 42,
      "metadata": {
        "nbgrader": {
          "grade": true,
          "grade_id": "ex7",
          "locked": true,
          "points": "1",
          "solution": false
        },
        "tags": [],
        "id": "_ABFAwrWA9kS",
        "outputId": "a60fb936-c3ce-4eb0-c4dd-63cb40ad5406",
        "colab": {
          "base_uri": "https://localhost:8080/"
        }
      },
      "outputs": [
        {
          "output_type": "stream",
          "name": "stdout",
          "text": [
            "5e3f0d781ba1b93fcce1788f8448f8ec\n",
            "5e3f0d781ba1b93fcce1788f8448f8ec\n",
            "52243648c34549fa35bbbdf59ae56057\n",
            "52243648c34549fa35bbbdf59ae56057\n",
            "ed83b476ee8f414c417022217cf79354\n",
            "ed83b476ee8f414c417022217cf79354\n",
            "Passed! Please submit.\n"
          ]
        }
      ],
      "source": [
        "### test_cell_ex7\n",
        "### BEGIN HIDDEN TESTS\n",
        "import dill\n",
        "import hashlib\n",
        "with open('resource/asnlib/public/hash_check.pkl', 'rb') as f:\n",
        "    hash_check = dill.load(f)\n",
        "for fname in ['testers.py', '__init__.py', 'test_utils.py']:\n",
        "    hash_check(f'tester_fw/{fname}', f'resource/asnlib/public/{fname}')\n",
        "del hash_check\n",
        "del dill\n",
        "del hashlib\n",
        "### END HIDDEN TESTS\n",
        "from tester_fw.testers import Tester\n",
        "\n",
        "conf = {\n",
        "    'case_file':'tc_7', \n",
        "    'func': calc_similarity, # replace this with the function defined above\n",
        "    'inputs':{ # input config dict. keys are parameter names\n",
        "        'vector_0':{\n",
        "            'dtype':'dict', # data type of param.\n",
        "            'check_modified':True,\n",
        "        },\n",
        "        'vector_1':{\n",
        "            'dtype':'dict', # data type of param.\n",
        "            'check_modified':True,\n",
        "        }\n",
        "    },\n",
        "    'outputs':{\n",
        "        'output_0':{\n",
        "            'index':0,\n",
        "            'dtype':'',\n",
        "            'check_dtype': True,\n",
        "            'check_col_dtypes': True, # Ignored if dtype is not df\n",
        "            'check_col_order': True, # Ignored if dtype is not df\n",
        "            'check_row_order': True, # Ignored if dtype is not df\n",
        "            'check_column_type': True, # Ignored if dtype is not df\n",
        "            'float_tolerance': 10 ** (-6)\n",
        "        }\n",
        "    }\n",
        "}\n",
        "tester = Tester(conf, key=b'S90rT5WLPFy08a82F6SXyiKoyeTi33DOHh7bxXASQw0=', path='resource/asnlib/publicdata/')\n",
        "for _ in range(20):\n",
        "    try:\n",
        "        tester.run_test()\n",
        "        (input_vars, original_input_vars, returned_output_vars, true_output_vars) = tester.get_test_vars()\n",
        "    except:\n",
        "        (input_vars, original_input_vars, returned_output_vars, true_output_vars) = tester.get_test_vars()\n",
        "        raise\n",
        "\n",
        "### BEGIN HIDDEN TESTS\n",
        "tester = Tester(conf, key=b'bE_KdJGq_bhBuoTZRi37O7tu3s38ac4bJUsgUEXnK8s=', path='resource/asnlib/publicdata/encrypted/')\n",
        "for _ in range(20):\n",
        "    try:\n",
        "        tester.run_test()\n",
        "        (input_vars, original_input_vars, returned_output_vars, true_output_vars) = tester.get_test_vars()\n",
        "    except:\n",
        "        (input_vars, original_input_vars, returned_output_vars, true_output_vars) = tester.get_test_vars()\n",
        "        raise\n",
        "### END HIDDEN TESTS\n",
        "print('Passed! Please submit.')"
      ],
      "id": "_ABFAwrWA9kS"
    },
    {
      "cell_type": "markdown",
      "metadata": {
        "nbgrader": {
          "grade": false,
          "locked": true,
          "solution": false
        },
        "id": "yS1MRZUPA9kT"
      },
      "source": [
        "We ran the following code to create a similarity matrix `dict` mapping `str` to `dict` (inner `dict` maps `str` to `float`) and write the result to \n",
        "`resource/asnlib/publicdata/similarity_matrix.json`. The value stored in `similarity_matrix[a][b]` is the cosine similarity score between post id `a` and post id `b`. \n",
        "\n",
        "\n",
        "Based on how the matrix was constructed it is \"square\". In other words, if `similarity_matrix[a]` and `similarity_matrix[b]` exist then `similarity_matrix[a][b]` and `similarity_matrix[b][a]` are guaranteed to exist.\n",
        "\n",
        "```\n",
        "similarity_matrix = {\n",
        "    id: {other_id: calc_similarity(normalized_children[id], normalized_children[other_id]) for other_id in normalized_children} \\\n",
        "    for id in normalized_children\n",
        "    }\n",
        "with open('resource/asnlib/publicdata/similarity_matrix.json', 'w') as f:\n",
        "\tjson.dump(similarity_matrix, f, indent=4)\n",
        "```"
      ],
      "id": "yS1MRZUPA9kT"
    },
    {
      "cell_type": "markdown",
      "metadata": {
        "nbgrader": {
          "grade": false,
          "locked": true,
          "solution": false
        },
        "tags": [
          "exercise_text"
        ],
        "id": "XCgTjseVA9kT"
      },
      "source": [
        "## Exercise 8 - (**3** Points): \n",
        "\n",
        "**Motivation (don't dwell on this)** \n",
        "\n",
        "We are interested in identifying the posts which are most similar to a given post. We have already done all of the math to capture that information, but it's in yet another huge JSON. \n",
        "\n",
        "**Requirements**\n",
        "\n",
        "Define `n_most_similar(sim_matrix, post_id, n)`. The input `sim_matrix` will be a nested `dict` with the same structure as `similarity_matrix` described in the cell above. The input `post_id` will be the id of the post we are interested in and will be a key of `sim_matrix`. The function should do the following:\n",
        "\n",
        "- Get the \"similarity vector\" (`sim_matrix[post_id]`).\n",
        "- Sort the key/value pairs based on the similarity score. It is recommended but not required to have a `list` of `tuples` for this intermediate result. They should be sorted in *descending* order of similarity. If there are ties (2 or more posts with the same similarity to `post_id`) then break the ties by sorting them into alphabetical order.\n",
        "- Return a `list` of `tuples` of length `n+1` containing `post_id` and the `n` most similar posts. Tuples should be of the form (post id (`str`), similarity score (`float`)) \n",
        "\n",
        "**Note** the post associated with `post_id` will always be at the top of the list since it will have a similarity of `1.0` to itself."
      ],
      "id": "XCgTjseVA9kT"
    },
    {
      "cell_type": "code",
      "execution_count": 43,
      "metadata": {
        "collapsed": true,
        "nbgrader": {
          "grade": false,
          "locked": true,
          "solution": false
        },
        "tags": [
          "demo_data"
        ],
        "id": "SGlwizJ4A9kT"
      },
      "outputs": [],
      "source": [
        "### Define demo inputs\n",
        "\n",
        "with open('resource/asnlib/publicdata/similarity_matrix.json') as f:\n",
        "    similarity_matrix = json.load(f)\n",
        "\n",
        "demo_sim_matrix_ex8 = {\n",
        "  'post_0': {'post_0': 1.0,    'post_1': 0.79686,'post_2': 0.67635,'post_3': 0.52459,'post_4': 0.2334},\n",
        "  'post_1': {'post_0': 0.79686,'post_1': 1.0,    'post_2': 0.65699,'post_3': 0.45758,'post_4': 0.11308},\n",
        "  'post_2': {'post_0': 0.67635,'post_1': 0.65699,'post_2': 1.0,    'post_3': 0.51968,'post_4': 0.16411},\n",
        "  'post_3': {'post_0': 0.52459,'post_1': 0.45758,'post_2': 0.51968,'post_3': 1.0,    'post_4': 0.33981},\n",
        "  'post_4': {'post_0': 0.2334, 'post_1': 0.11308,'post_2': 0.16411,'post_3': 0.33981,'post_4': 1.0}}\n",
        "\n",
        "demo_n_ex8 = 2\n",
        "demo_post_id_0 = 'post_0'\n",
        "demo_post_id_1 = 'post_3'"
      ],
      "id": "SGlwizJ4A9kT"
    },
    {
      "cell_type": "markdown",
      "metadata": {
        "nbgrader": {
          "grade": false,
          "locked": true,
          "solution": false
        },
        "tags": [
          "demo_output_md"
        ],
        "id": "jUV_8TiWA9kU"
      },
      "source": [
        "<!-- Expected demo output text block -->\n",
        "The demo included in the solution cell below should display the following output:\n",
        "```\n",
        "[('post_0', 1.0), ('post_1', 0.79686), ('post_2', 0.67635)]\n",
        "\n",
        "[('post_3', 1.0), ('post_0', 0.52459), ('post_2', 0.51968)]\n",
        "```\n",
        "**Note** This demo calls `n_most_similar` twice. The outputs are separated by a blank line. The first uses `demo_post_id_0` as `post_id`, and the second uses `demo_post_id_1` as `post_id`."
      ],
      "id": "jUV_8TiWA9kU"
    },
    {
      "cell_type": "code",
      "execution_count": 44,
      "metadata": {
        "tags": [
          "exercise_solution"
        ],
        "id": "16cdkXpqA9kU",
        "outputId": "9cb11846-771e-4316-eda6-84044d26c8d4",
        "colab": {
          "base_uri": "https://localhost:8080/"
        }
      },
      "outputs": [
        {
          "output_type": "stream",
          "name": "stdout",
          "text": [
            "[('post_0', 1.0), ('post_1', 0.79686), ('post_2', 0.67635)]\n",
            "\n",
            "[('post_3', 1.0), ('post_0', 0.52459), ('post_2', 0.51968)]\n"
          ]
        }
      ],
      "source": [
        "### Exercise 8 solution\n",
        "def n_most_similar(sim_matrix, post_id, n):\n",
        "    ### BEGIN SOLUTION\n",
        "    sims = sorted(sim_matrix[post_id].items(), key=lambda x: (-x[1], x[0]))\n",
        "    return sims[:n+1]\n",
        "    ### END SOLUTION\n",
        "    \n",
        "print(n_most_similar(demo_sim_matrix_ex8, demo_post_id_0, demo_n_ex8))\n",
        "print()\n",
        "print(n_most_similar(demo_sim_matrix_ex8, demo_post_id_1, demo_n_ex8))"
      ],
      "id": "16cdkXpqA9kU"
    },
    {
      "cell_type": "markdown",
      "metadata": {
        "nbgrader": {
          "grade": false,
          "locked": true,
          "solution": false
        },
        "tags": [
          "test_data_boilerplate"
        ],
        "id": "lZWj0x8FA9kU"
      },
      "source": [
        "<!-- Test Cell Boilerplate -->\n",
        "The cell below will test your solution for Exercise 8. The testing variables will be available for debugging under the following names in a dictionary format.\n",
        "- `input_vars` - Input variables for your solution. \n",
        "- `original_input_vars` - Copy of input variables from prior to running your solution. These _should_ be the same as `input_vars` - otherwise the inputs were modified by your solution.\n",
        "- `returned_output_vars` - Outputs returned by your solution.\n",
        "- `true_output_vars` - The expected output. This _should_ \"match\" `returned_output_vars` based on the question requirements - otherwise, your solution is not returning the correct output. "
      ],
      "id": "lZWj0x8FA9kU"
    },
    {
      "cell_type": "code",
      "execution_count": 45,
      "metadata": {
        "nbgrader": {
          "grade": true,
          "grade_id": "ex8",
          "locked": true,
          "points": "3",
          "solution": false
        },
        "tags": [],
        "id": "h4WI7dolA9kV",
        "outputId": "f626e8b8-bb35-45ec-fc42-701cae6ce88c",
        "colab": {
          "base_uri": "https://localhost:8080/"
        }
      },
      "outputs": [
        {
          "output_type": "stream",
          "name": "stdout",
          "text": [
            "5e3f0d781ba1b93fcce1788f8448f8ec\n",
            "5e3f0d781ba1b93fcce1788f8448f8ec\n",
            "52243648c34549fa35bbbdf59ae56057\n",
            "52243648c34549fa35bbbdf59ae56057\n",
            "ed83b476ee8f414c417022217cf79354\n",
            "ed83b476ee8f414c417022217cf79354\n",
            "Passed! Please submit.\n"
          ]
        }
      ],
      "source": [
        "### test_cell_ex8\n",
        "### BEGIN HIDDEN TESTS\n",
        "import dill\n",
        "import hashlib\n",
        "with open('resource/asnlib/public/hash_check.pkl', 'rb') as f:\n",
        "    hash_check = dill.load(f)\n",
        "for fname in ['testers.py', '__init__.py', 'test_utils.py']:\n",
        "    hash_check(f'tester_fw/{fname}', f'resource/asnlib/public/{fname}')\n",
        "del hash_check\n",
        "del dill\n",
        "del hashlib\n",
        "### END HIDDEN TESTS\n",
        "from tester_fw.testers import Tester\n",
        "\n",
        "conf = {\n",
        "    'case_file':'tc_8', \n",
        "    'func': n_most_similar, # replace this with the function defined above\n",
        "    'inputs':{ # input config dict. keys are parameter names\n",
        "        'sim_matrix':{\n",
        "            'dtype':'dict', # data type of param.\n",
        "            'check_modified':True,\n",
        "        },\n",
        "        'post_id':{\n",
        "            'dtype':'str', # data type of param.\n",
        "            'check_modified':True,\n",
        "        },\n",
        "        'n':{\n",
        "            'dtype':'int', # data type of param.\n",
        "            'check_modified':True,\n",
        "        }\n",
        "    },\n",
        "    'outputs':{\n",
        "        'output_0':{\n",
        "            'index':0,\n",
        "            'dtype':'',\n",
        "            'check_dtype': True,\n",
        "            'check_col_dtypes': True, # Ignored if dtype is not df\n",
        "            'check_col_order': True, # Ignored if dtype is not df\n",
        "            'check_row_order': True, # Ignored if dtype is not df\n",
        "            'check_column_type': True, # Ignored if dtype is not df\n",
        "            'float_tolerance': 10 ** (-6)\n",
        "        }\n",
        "    }\n",
        "}\n",
        "tester = Tester(conf, key=b'S90rT5WLPFy08a82F6SXyiKoyeTi33DOHh7bxXASQw0=', path='resource/asnlib/publicdata/')\n",
        "for _ in range(100):\n",
        "    try:\n",
        "        tester.run_test()\n",
        "        (input_vars, original_input_vars, returned_output_vars, true_output_vars) = tester.get_test_vars()\n",
        "    except:\n",
        "        (input_vars, original_input_vars, returned_output_vars, true_output_vars) = tester.get_test_vars()\n",
        "        raise\n",
        "\n",
        "### BEGIN HIDDEN TESTS\n",
        "tester = Tester(conf, key=b'bE_KdJGq_bhBuoTZRi37O7tu3s38ac4bJUsgUEXnK8s=', path='resource/asnlib/publicdata/encrypted/')\n",
        "for _ in range(100):\n",
        "    try:\n",
        "        tester.run_test()\n",
        "        (input_vars, original_input_vars, returned_output_vars, true_output_vars) = tester.get_test_vars()\n",
        "    except:\n",
        "        (input_vars, original_input_vars, returned_output_vars, true_output_vars) = tester.get_test_vars()\n",
        "        raise\n",
        "### END HIDDEN TESTS\n",
        "print('Passed! Please submit.')"
      ],
      "id": "h4WI7dolA9kV"
    },
    {
      "cell_type": "markdown",
      "metadata": {
        "nbgrader": {
          "grade": false,
          "locked": true,
          "solution": false
        },
        "tags": [
          "fin"
        ],
        "id": "QtWRsjqqA9kW"
      },
      "source": [
        "**Fin.** If you have made it this far, congratulations on completing the exam. **Don't forget to submit!**"
      ],
      "id": "QtWRsjqqA9kW"
    }
  ],
  "metadata": {
    "kernelspec": {
      "display_name": "Python 3.8",
      "language": "python",
      "name": "python38"
    },
    "language_info": {
      "codemirror_mode": {
        "name": "ipython",
        "version": 3
      },
      "file_extension": ".py",
      "mimetype": "text/x-python",
      "name": "python",
      "nbconvert_exporter": "python",
      "pygments_lexer": "ipython3",
      "version": "3.8.7"
    },
    "vscode": {
      "interpreter": {
        "hash": "916dbcbb3f70747c44a77c7bcd40155683ae19c65e1c03b4aa3499c5328201f1"
      }
    },
    "colab": {
      "provenance": [],
      "include_colab_link": true
    }
  },
  "nbformat": 4,
  "nbformat_minor": 5
}