{
  "cells": [
    {
      "cell_type": "markdown",
      "metadata": {
        "id": "view-in-github",
        "colab_type": "text"
      },
      "source": [
        "<a href=\"https://colab.research.google.com/github/gt-cse-6040/skills_oh_week_05/blob/main/week05_session02_NB01_debugging_concepts_final.ipynb\" target=\"_parent\"><img src=\"https://colab.research.google.com/assets/colab-badge.svg\" alt=\"Open In Colab\"/></a>"
      ]
    },
    {
      "cell_type": "markdown",
      "metadata": {
        "id": "61vjPOQ1aqm9"
      },
      "source": [
        "_Main topics covered during today's session:_\n",
        "\n",
        "This NB:\n",
        "\n",
        "1. **Debugging concepts (copy/deepcopy)**\n",
        "\n",
        "Next NBs:\n",
        "\n",
        "1. **Debugging your output variables**\n",
        "\n",
        "2. **Troubleshooting Exam Solution Data Template Code**"
      ]
    },
    {
      "cell_type": "markdown",
      "metadata": {
        "id": "5RviWRVNBVXM"
      },
      "source": [
        "# Debugging your functions"
      ]
    },
    {
      "cell_type": "markdown",
      "metadata": {
        "id": "vK5uV_9FBVXP"
      },
      "source": [
        "Let's look at the process of writing functions in python a little closely and understand the goal of the process. The below diagram summarizes what a 'typical' flow of writing functions should look like, **when you are taking the exams in this course.**"
      ]
    },
    {
      "cell_type": "markdown",
      "metadata": {
        "id": "g2j1c3C0GNMT"
      },
      "source": [
        "![picture](https://raw.githubusercontent.com/gt-cse-6040/skills_oh_week_05/main/input_output.png)"
      ]
    },
    {
      "cell_type": "markdown",
      "metadata": {
        "id": "vJzCHNssBVXQ"
      },
      "source": [
        "Let us see how python handles global variables and how the data type of a variable affects it's behavior inside a function"
      ]
    },
    {
      "cell_type": "code",
      "execution_count": null,
      "metadata": {
        "id": "8HS0lAuhBVXR"
      },
      "outputs": [],
      "source": [
        "number_1 = 5\n",
        "number_2 = 10\n",
        "\n",
        "def multiply_and_add(number_1, number_2):\n",
        "    number_1 = number_1 * 10\n",
        "    number_2 = number_2 * 10\n",
        "    return number_1 + number_2\n",
        "\n",
        "a_sum = multiply_and_add(number_1, number_2)\n",
        "\n",
        "\n",
        "print(\"The value of the result of function : {}\".format(a_sum))\n",
        "print(\"The value of argument 1 : {}\".format(number_1))\n",
        "print(\"The value of argument 2 : {}\".format(number_2))"
      ]
    },
    {
      "cell_type": "markdown",
      "metadata": {
        "id": "pnajZPywBVXR"
      },
      "source": [
        "As we can see above, the function worked correctly, and the values of the global variables number_1 and number_2 did not change, even though we used them as arguments and parameter names in our function. This is because Python stores variables from a function in a different memory location from global variables. They are isolated. Thus, the variable number_1 can have one value (5) globally, and a different value (50) inside the function, where it is isolated."
      ]
    },
    {
      "cell_type": "markdown",
      "metadata": {
        "id": "WjJQvxM3BVXS"
      },
      "source": [
        "## What About Lists and Dictionaries?"
      ]
    },
    {
      "cell_type": "code",
      "execution_count": null,
      "metadata": {
        "id": "18b1ajT8BVXS"
      },
      "outputs": [],
      "source": [
        "initial_list = [1, 2, 3]\n",
        "\n",
        "def duplicate_last(a_list):\n",
        "    last_element = a_list[-1]\n",
        "    a_list.append(last_element)\n",
        "    return a_list\n",
        "\n",
        "new_list = duplicate_last(a_list = initial_list)\n",
        "\n",
        "print(\"Contents of the list after calling the function : {}\".format(new_list))\n",
        "print(\"Contents of the global list : {}\".format(initial_list))"
      ]
    },
    {
      "cell_type": "markdown",
      "metadata": {
        "id": "L8IhJKgwBVXT"
      },
      "source": [
        "As we can see, here the global value of initial_list was updated, even though its value was only changed inside the function!"
      ]
    },
    {
      "cell_type": "code",
      "execution_count": null,
      "metadata": {
        "id": "wQkXCrulBVXT"
      },
      "outputs": [],
      "source": [
        "content_ratings = {'4+': 4433, '9+': 987, '12+': 1155, '17+': 622}\n",
        "\n",
        "def make_percentages(a_dictionary):\n",
        "    total = 0\n",
        "    for key in a_dictionary:\n",
        "        count = a_dictionary[key]\n",
        "        total += count\n",
        "\n",
        "    for key in a_dictionary:\n",
        "        a_dictionary[key] = (a_dictionary[key] / total) * 100\n",
        "\n",
        "    return a_dictionary"
      ]
    },
    {
      "cell_type": "code",
      "execution_count": null,
      "metadata": {
        "id": "gsnmxZdtBVXU"
      },
      "outputs": [],
      "source": [
        "c_ratings_percentages = make_percentages(content_ratings)\n",
        "\n",
        "print(\"Contents of the dictionary after calling the function : {}\".format(c_ratings_percentages))\n",
        "print(\"Contents of the global dictionary : {}\".format(content_ratings))"
      ]
    },
    {
      "cell_type": "markdown",
      "metadata": {
        "id": "UXt2FQ4NBVXU"
      },
      "source": [
        "Just as we saw with lists, our global content_ratings variable has been changed, even though it was only modified inside of the make_percentages() function we created."
      ]
    },
    {
      "cell_type": "markdown",
      "metadata": {
        "id": "ztfv0t6NBVXU"
      },
      "source": [
        "## Mutable and Immutable Data Types"
      ]
    },
    {
      "cell_type": "markdown",
      "metadata": {
        "id": "LINmc9JtBVXU"
      },
      "source": [
        "In Python, data types can be either mutable (changeable) or immutable (unchangable). And while most of the data types we’ve worked with in introductory Python are immutable (including integers, floats, strings, Booleans, and tuples), lists and dictionaries are mutable. That means a global list or dictionary can be changed even when it’s used inside of a function, just like we saw in the examples above."
      ]
    },
    {
      "cell_type": "code",
      "execution_count": 6,
      "metadata": {
        "colab": {
          "base_uri": "https://localhost:8080/",
          "height": 191
        },
        "id": "FxFn1EfaBVXV",
        "outputId": "4ecf7e0c-d77a-4171-b724-134ea41a3c1f"
      },
      "outputs": [
        {
          "output_type": "execute_result",
          "data": {
            "text/html": [
              "<img src=\"https://raw.githubusercontent.com/gt-cse-6040/skills_oh_week_05/main/py1m6_imm_correct.gif\"/>"
            ],
            "text/plain": [
              "<IPython.core.display.Image object>"
            ]
          },
          "metadata": {},
          "execution_count": 6
        }
      ],
      "source": [
        "from IPython import display\n",
        "display.Image(url='https://raw.githubusercontent.com/gt-cse-6040/skills_oh_week_05/main/py1m6_imm_correct.gif')"
      ]
    },
    {
      "cell_type": "markdown",
      "metadata": {
        "id": "kIH6MbH4BVXV"
      },
      "source": [
        "- a initially points toward 5.\n",
        "- a += 1 is run, and this moves the pointer from 5 to 6, it doesn’t actually change the number 5."
      ]
    },
    {
      "cell_type": "code",
      "execution_count": 8,
      "metadata": {
        "colab": {
          "base_uri": "https://localhost:8080/",
          "height": 300
        },
        "id": "8cTxU8eUBVXW",
        "outputId": "a28d4a88-02e1-414b-9a2b-8f436a331d6f",
        "scrolled": true
      },
      "outputs": [
        {
          "output_type": "execute_result",
          "data": {
            "text/html": [
              "<img src=\"https://raw.githubusercontent.com/gt-cse-6040/skills_oh_week_05/main/py1m6_same_lists.gif\"/>"
            ],
            "text/plain": [
              "<IPython.core.display.Image object>"
            ]
          },
          "metadata": {},
          "execution_count": 8
        }
      ],
      "source": [
        "from IPython import display\n",
        "display.Image(url='https://raw.githubusercontent.com/gt-cse-6040/skills_oh_week_05/main/py1m6_same_lists.gif')"
      ]
    },
    {
      "cell_type": "markdown",
      "metadata": {
        "id": "OOmpGX9zBVXW"
      },
      "source": [
        "## How to not modify lists and dictionaries?"
      ]
    },
    {
      "cell_type": "markdown",
      "metadata": {
        "id": "X3PMoNdVGSHs"
      },
      "source": [
        "![picture](https://raw.githubusercontent.com/gt-cse-6040/skills_oh_week_05/main/copy_deepcopy.png)"
      ]
    },
    {
      "cell_type": "markdown",
      "metadata": {
        "id": "6UWFXb2laqnI"
      },
      "source": [
        "### The above picture gives a visual representation of using variable assignment versus variable copy.\n",
        "\n",
        "### Recall that we first covered this topic during our Week 2 session, in NB week02_session02_NB02_refs_copies.ipynb. \n",
        "\n",
        "### That notebook also included a discussion of the .copy() and .deepcopy() functions.\n",
        "\n",
        "### Use .copy() when your list/dict is not nested, but you must use .deepcopy() when you have nested data. See the referenced notebook and the below links for details.\n",
        "\n",
        "https://www.geeksforgeeks.org/copy-python-deep-copy-shallow-copy/\n",
        "\n",
        "https://docs.python.org/3/library/copy.html"
      ]
    },
    {
      "cell_type": "code",
      "execution_count": null,
      "metadata": {
        "id": "3crAlwlFBVXW"
      },
      "outputs": [],
      "source": [
        "initial_list = [1, 2, 3]\n",
        "\n",
        "def duplicate_last(a_list):\n",
        "    copy_list = a_list.copy() # making a copy of the list\n",
        "    last_element = copy_list[-1]\n",
        "    copy_list.append(last_element)\n",
        "    return copy_list\n",
        "\n",
        "new_list = duplicate_last(a_list = initial_list)\n",
        "print(new_list)\n",
        "print(initial_list)"
      ]
    },
    {
      "cell_type": "code",
      "execution_count": null,
      "metadata": {
        "id": "h1JY1-PjBVXW"
      },
      "outputs": [],
      "source": [
        "content_ratings = {'4+': 4433, '9+': 987, '12+': 1155, '17+': 622}\n",
        "\n",
        "def make_percentages(a_dictionary):\n",
        "    total = 0\n",
        "    for key in a_dictionary:\n",
        "        count = a_dictionary[key]\n",
        "        total += count\n",
        "\n",
        "    for key in a_dictionary:\n",
        "        a_dictionary[key] = (a_dictionary[key] / total) * 100\n",
        "\n",
        "    return a_dictionary\n",
        "\n",
        "\n",
        "c_ratings_percentages = make_percentages(content_ratings.copy()) # making a copy of the dictionary\n",
        "print(c_ratings_percentages)\n",
        "print(content_ratings)"
      ]
    },
    {
      "cell_type": "code",
      "execution_count": null,
      "metadata": {
        "id": "kibPYJioBVXX"
      },
      "outputs": [],
      "source": [
        "content_ratings = {'4+': 4433, '9+': 987, '12+': 1155, '17+': 622}\n",
        "\n",
        "def make_percentages(a_dictionary):\n",
        "    copy_dict = a_dictionary.copy() # create a copy of the dictionary\n",
        "    total = 0\n",
        "    for key in a_dictionary:\n",
        "        count = a_dictionary[key]\n",
        "        total += count\n",
        "\n",
        "    for key in copy_dict: #use the copied table so original isn't changed\n",
        "        copy_dict[key] = (copy_dict[key] / total) * 100\n",
        "\n",
        "    return copy_dict\n",
        "\n",
        "c_ratings_percentages = make_percentages(content_ratings)\n",
        "print(c_ratings_percentages)\n",
        "print(content_ratings)"
      ]
    },
    {
      "cell_type": "code",
      "execution_count": null,
      "metadata": {
        "id": "Pr11TJ83BVXX"
      },
      "outputs": [],
      "source": []
    }
  ],
  "metadata": {
    "colab": {
      "provenance": [],
      "include_colab_link": true
    },
    "kernelspec": {
      "display_name": "Python 3 (ipykernel)",
      "language": "python",
      "name": "python3"
    },
    "language_info": {
      "codemirror_mode": {
        "name": "ipython",
        "version": 3
      },
      "file_extension": ".py",
      "mimetype": "text/x-python",
      "name": "python",
      "nbconvert_exporter": "python",
      "pygments_lexer": "ipython3",
      "version": "3.9.13"
    },
    "vscode": {
      "interpreter": {
        "hash": "b92e5a588255c827e4ec4a0b45d125b838e2f0f2c05d17d5402d521df080890f"
      }
    }
  },
  "nbformat": 4,
  "nbformat_minor": 0
}